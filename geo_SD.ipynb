{
 "cells": [
  {
   "cell_type": "markdown",
   "metadata": {},
   "source": [
    "# Steepest descent aplicado à função Rosenbrock"
   ]
  },
  {
   "cell_type": "markdown",
   "metadata": {},
   "source": [
    "Este algoritmo aplica o método de otimização Steepest descent à função matemática de Rosenbrock, a qual é definida pela equação geral:"
   ]
  },
  {
   "cell_type": "markdown",
   "metadata": {},
   "source": [
    "\\begin{equation}\n",
    "f(x,y) = (a - x)^2 + b(y - x^2)^2 ,\n",
    "\\end{equation}"
   ]
  },
  {
   "cell_type": "markdown",
   "metadata": {},
   "source": [
    "onde $a$ e $b$ são constantes e o mínimo dessa função é $(x,y)=(a,a^2)$, onde $f(a,a^2)=0$. Normalmente $a$ e $b$ são iguais a 1 e a 100, respectivamente, nesse caso, o mínimo dessa função é $(x,y)=(1,1)$."
   ]
  },
  {
   "cell_type": "markdown",
   "metadata": {},
   "source": [
    "Então a função a ser minimizada através do método steepest descente é:"
   ]
  },
  {
   "cell_type": "markdown",
   "metadata": {},
   "source": [
    "\\begin{equation}\n",
    "f(p_1,p_2) = 100(p_2 - p_1^2)^2 + (p_1 - 1)^2 ,\n",
    "\\end{equation}"
   ]
  },
  {
   "cell_type": "markdown",
   "metadata": {},
   "source": [
    "A proposta do código é encontrar o mínimo da função através de muitas iterações."
   ]
  },
  {
   "cell_type": "markdown",
   "metadata": {},
   "source": [
    "O método steepest descent é um método de convergência global, o qual se aproxima do mínimo com a direção de $-\\nabla \\boldsymbol{\\phi}(\\mathbf{p})$, que é menos o gradiente da função objetivo e $\\mathbf{p}$ é o vetor de parâmentros. O método possui o seguinte algoritmo:"
   ]
  },
  {
   "cell_type": "markdown",
   "metadata": {},
   "source": [
    "1) estabelece um chute inicial $\\mathbf{p}_i$\n",
    "\n",
    "2) determina a direção $\\mathbf{a}_i$ que diminua $\\boldsymbol{\\phi}$ em torno de $\\mathbf{p}_i$\n",
    "\n",
    "3) calcula $\\mathbf{p}_{i+1} = \\mathbf{p}_i + \\rho _i \\mathbf{a}_i$, onde $\\rho_i$ é um escalar que modula o passo em direção ao mínimo e $\\mathbf{a}_i = -\\nabla \\boldsymbol{\\phi}(\\mathbf{p})$\n",
    " \n",
    "4) testa a convergência, se for satisfeita o algoritmo para, caso contrário retorna para 1)"
   ]
  },
  {
   "cell_type": "markdown",
   "metadata": {},
   "source": [
    "# Importando pacotes"
   ]
  },
  {
   "cell_type": "code",
   "execution_count": 1,
   "metadata": {
    "collapsed": false
   },
   "outputs": [
    {
     "name": "stderr",
     "output_type": "stream",
     "text": [
      "/home/leonardo/anaconda2/lib/python2.7/site-packages/fatiando/vis/mpl.py:76: UserWarning: This module will be removed in v0.6. We recommend the use of matplotlib.pyplot module directly. Some of the fatiando specific functions will remain.\n",
      "  \"specific functions will remain.\")\n",
      "/home/leonardo/anaconda2/lib/python2.7/site-packages/fatiando/vis/myv.py:51: UserWarning: This module will be removed in v0.7.\n",
      "  warnings.warn(\"This module will be removed in v0.7.\")\n"
     ]
    }
   ],
   "source": [
    "import numpy as np\n",
    "import matplotlib.pyplot as plt\n",
    "import cPickle as pickle\n",
    "from visual import histeq\n",
    "from fatiando.mesher import PolygonalPrism\n",
    "from IPython.display import Image as img\n",
    "from fatiando.gravmag import polyprism\n",
    "from copy import deepcopy\n",
    "from fatiando.vis import mpl, myv\n",
    "\n",
    "import sys\n",
    "sys.path.insert(0, '../magnetic-radial-inversion/code')\n",
    "\n",
    "import mag_polyprism_functions as mfun"
   ]
  },
  {
   "cell_type": "markdown",
   "metadata": {},
   "source": [
    "# Importando modelo direto, grid e dados"
   ]
  },
  {
   "cell_type": "code",
   "execution_count": 2,
   "metadata": {
    "collapsed": true
   },
   "outputs": [],
   "source": [
    "with open('data/cylinder_model.pickle') as w:\n",
    "        cylinder_model = pickle.load(w)\n",
    "with open('data/cylinder_data.pickle') as w:\n",
    "        cylinder_data = pickle.load(w)\n",
    "with open('data/regular_grid.pickle') as w:\n",
    "        regular_grid = pickle.load(w)"
   ]
  },
  {
   "cell_type": "raw",
   "metadata": {},
   "source": [
    "bounds = [-800., 800., -800., 800., -200.0, 800.]\n",
    "\n",
    "red, green, blue = (1, 0, 0), (0, 1, 0), (0, 0, 1)\n",
    "white, black = (1, 1, 1), (0, 0, 0),\n",
    "\n",
    "# Show the model\n",
    "scene = myv.figure()\n",
    "myv.polyprisms(cylinder_model['prisms'], 'magnetization', color=blue, opacity=1.)\n",
    "\n",
    "ax = myv.axes(myv.outline(bounds), ranges=[i * 0.001 for i in bounds])\n",
    "ax.axes.x_label, ax.axes.y_label, ax.axes.z_label = 'x (m)', 'y (m)', 'z (m)'\n",
    "ax.axes.font_factor = 1.5\n",
    "scene.scene.camera.position = [-0.089204656936016313, -0.066107174155361687, -0.04083578885723696]\n",
    "scene.scene.camera.focal_point = [1.1820671636724554e-16, 1.3134079596360617e-17, -1.9701119394540926e-17]\n",
    "scene.scene.camera.view_angle = 30.0\n",
    "scene.scene.camera.view_up = [0.24683390337942718, 0.24593292331329802, -0.93733132955911114]\n",
    "scene.scene.camera.clipping_range = [0.057117737884348194, 0.1956040854922288]\n",
    "scene.scene.camera.compute_view_plane_normal()\n",
    "\n",
    "myv.wall_bottom(ax.axes.bounds, opacity=0.2)\n",
    "myv.wall_north(ax.axes.bounds)\n",
    "myv.savefig('bolacha.png')\n",
    "myv.show()"
   ]
  },
  {
   "cell_type": "code",
   "execution_count": 3,
   "metadata": {
    "collapsed": false
   },
   "outputs": [
    {
     "data": {
      "image/png": "[encoded data removed]",
      "text/plain": [
       "<IPython.core.display.Image object>"
      ]
     },
     "execution_count": 3,
     "metadata": {},
     "output_type": "execute_result"
    }
   ],
   "source": [
    "img(filename='bolacha.png')"
   ]
  },
  {
   "cell_type": "markdown",
   "metadata": {},
   "source": [
    "## Plotando a função"
   ]
  },
  {
   "cell_type": "code",
   "execution_count": 4,
   "metadata": {
    "collapsed": false
   },
   "outputs": [
    {
     "data": {
      "image/png": "[encoded data removed]",
      "text/plain": [
       "<matplotlib.figure.Figure at 0x7f8b0a295c90>"
      ]
     },
     "metadata": {},
     "output_type": "display_data"
    }
   ],
   "source": [
    "plt.figure(figsize=(5,5))\n",
    "plt.plot(500., 100., 'og')\n",
    "plt.title('Funcao objetivo', fontsize=18)\n",
    "plt.contourf(cylinder_data['p1'], cylinder_data['p2'], cylinder_data['phi_eq'], 50, cmap='jet')\n",
    "plt.xlabel('$r$ (m)', fontsize=18)\n",
    "plt.ylabel('$z_0$ (m)', fontsize=18)\n",
    "plt.colorbar(pad=0.01, aspect=20, shrink=1)\n",
    "plt.savefig('plot_geo_prob.png', pad_inches=0.0)\n",
    "plt.show()"
   ]
  },
  {
   "cell_type": "markdown",
   "metadata": {},
   "source": [
    "# Funções"
   ]
  },
  {
   "cell_type": "code",
   "execution_count": 5,
   "metadata": {
    "collapsed": false
   },
   "outputs": [],
   "source": [
    "def derivative_tf_z0(xp, yp, zp, prism, M, deltax, inc, dec):\n",
    "    '''\n",
    "    This function calculates the derivative for total field anomaly\n",
    "    from a model of polygonal prisms using finite difference.\n",
    "\n",
    "    input\n",
    "\n",
    "    xp: array - x observation points\n",
    "    yp: array - y observation points\n",
    "    zp: array - z observation points\n",
    "    prism: list - list of one fatiando.mesher.PolygonalPrism\n",
    "    M: int - number of vertices per prism\n",
    "    delta: float - increment in x coordinate in meters\n",
    "    inc: float - inclination\n",
    "    dec: declination\n",
    "\n",
    "    output\n",
    "\n",
    "    df: 1D array - derivative\n",
    "    '''\n",
    "    assert xp.size == yp.size == zp.size, 'The number of points in x, y and z must be equal'\n",
    "\n",
    "    prism_plus = deepcopy([prism])  # m.x + delta\n",
    "    prism_minus = deepcopy([prism])  # m.x - deltaa\n",
    "    prism_plus[0].z1 += delta\n",
    "    prism_minus[0].z1 -= delta\n",
    "\n",
    "    df = polyprism.tf(xp, yp, zp, prism_plus, inc, dec)\n",
    "    df -= polyprism.tf(xp, yp, zp, prism_minus, inc, dec)\n",
    "    df /= (2.*delta)\n",
    "\n",
    "    return df\n",
    "\n",
    "def derivative_tf_radiall(xp, yp, zp, prism, M, delta, inc, dec):\n",
    "    '''\n",
    "    This function calculates the derivative for total field anomaly\n",
    "    from a model of polygonal prisms using finite difference.\n",
    "\n",
    "    input\n",
    "\n",
    "    xp: array - x observation points\n",
    "    yp: array - y observation points\n",
    "    zp: array - z observation points\n",
    "    prism: list - list of a fatiando.mesher.PolygonalPrism\n",
    "    M: int - number of vertices per prism\n",
    "    delta: float - increment in radial distance in meters\n",
    "    inc: float - inclination\n",
    "    dec: declination\n",
    "\n",
    "    output\n",
    "\n",
    "    df: 1D array - derivative\n",
    "    '''\n",
    "    assert xp.size == yp.size == zp.size, 'The number of points in x, y and z must be equal'\n",
    "    \n",
    "    ang = 2.*np.pi/M # angle between two vertices\n",
    "    \n",
    "    prism_plus = deepcopy([prism])  # m.x + delta\n",
    "    prism_minus = deepcopy([prism])  # m.x - delta\n",
    "\n",
    "    for i in range(M):\n",
    "        deltax = delta*np.cos(i*ang)\n",
    "        deltay = delta*np.sin(i*ang)\n",
    "        prism_plus[0].x[i] += deltax\n",
    "        prism_plus[0].y[i] += deltay\n",
    "        prism_minus[0].x[i] -= deltax\n",
    "        prism_minus[0].y[i] -= deltay\n",
    "\n",
    "    df = polyprism.tf(xp, yp, zp, prism_plus, inc, dec)\n",
    "    df -= polyprism.tf(xp, yp, zp, prism_minus, inc, dec)\n",
    "    df /= (2.*delta)\n",
    "\n",
    "    return df\n",
    "\n",
    "# calculando gradiente de phi\n",
    "def jacobi_geo(xp, yp, zp, prism, M, delta, inc, dec):\n",
    "    '''\n",
    "    Returns the sensitivity matrix for polygonal prisms using finite\n",
    "    differences.\n",
    "\n",
    "    input\n",
    "\n",
    "    xp: array - x observation points\n",
    "    yp: array - y observation points\n",
    "    zp: array - z observation points\n",
    "    prism: list - list of fatiando.mesher.PolygonalPrism\n",
    "    M: int - number of vertices per prism\n",
    "    delta: float - increment in meters\n",
    "    inc: float - inclination of the local-geomagnetic field\n",
    "    dec: declination of the local-geomagnetic field\n",
    "\n",
    "    output\n",
    "\n",
    "    G: 2D array - sensitivity matrix\n",
    "    '''\n",
    "    assert xp.size == yp.size == zp.size, 'The number of points in x, y and z must be equal'\n",
    "\n",
    "    G = np.zeros((xp.size, 2))\n",
    "\n",
    "    G[:, 0] = derivative_tf_radiall(xp, yp, zp, prism[0], M, delta, inc, dec)\n",
    "    G[:, 1] = derivative_tf_z0(xp, yp, zp, prism[0], M, delta, inc, dec)\n",
    "\n",
    "    return G"
   ]
  },
  {
   "cell_type": "markdown",
   "metadata": {},
   "source": [
    "# Modelo interpretativo"
   ]
  },
  {
   "cell_type": "code",
   "execution_count": 6,
   "metadata": {
    "collapsed": false
   },
   "outputs": [],
   "source": [
    "# chute inicial\n",
    "p01 = 600.\n",
    "p02 = 150.\n",
    "\n",
    "# incremento para as derivadas\n",
    "delta = 1.\n",
    "\n",
    "r = np.zeros(cylinder_model['M']) + p01 # radial distance for each vertice\n",
    "\n",
    "# Cartesian coordinates of the origin of each prism\n",
    "x0 = 0. \n",
    "y0 = 0.\n",
    "\n",
    "l = [[r, x0, y0, p02, cylinder_model['dz'], cylinder_model['props']]]"
   ]
  },
  {
   "cell_type": "code",
   "execution_count": 7,
   "metadata": {
    "collapsed": false
   },
   "outputs": [],
   "source": [
    "prism = mfun.pol2cart(l, cylinder_model['M'], cylinder_model['L'])\n",
    "\n",
    "d0 = polyprism.tf(regular_grid['xp'], regular_grid['yp'], regular_grid['zp'],\n",
    "                    prism, cylinder_model['inc'], cylinder_model['dec'])\n",
    "\n",
    "# vetor do chute inicial\n",
    "p0 = np.array([p01,p02]) \n",
    "\n",
    "# parâmetros para o critério de Armijo\n",
    "alfa = 0.1\n",
    "beta = 0.4\n",
    "m = 0.\n",
    "lamb = 1.\n",
    "\n",
    "\n",
    "\n",
    "p1_list = [p01]\n",
    "p2_list = [p02]\n",
    "phi_list = []"
   ]
  },
  {
   "cell_type": "markdown",
   "metadata": {},
   "source": [
    "# Algoritmo Steepest Descent"
   ]
  },
  {
   "cell_type": "code",
   "execution_count": 8,
   "metadata": {
    "collapsed": false
   },
   "outputs": [
    {
     "name": "stdout",
     "output_type": "stream",
     "text": [
      "  0 6.00e+02 1.49e+02 1.62961e+05\n",
      "  1 5.95e+02 1.44e+02 2.13971e+05\n",
      "  2 5.91e+02 1.39e+02 2.14760e+05\n",
      "  3 5.86e+02 1.34e+02 2.15543e+05\n",
      "  4 5.81e+02 1.29e+02 2.16316e+05\n",
      "  5 5.76e+02 1.24e+02 2.17076e+05\n",
      "  6 5.71e+02 1.19e+02 2.17821e+05\n",
      "  7 5.65e+02 1.14e+02 2.18545e+05\n",
      "  8 5.60e+02 1.09e+02 2.19246e+05\n",
      "  9 5.54e+02 1.04e+02 2.19919e+05\n",
      " 10 5.48e+02 9.90e+01 2.20558e+05\n",
      " 11 5.41e+02 9.42e+01 2.21159e+05\n",
      " 12 5.35e+02 8.95e+01 2.21715e+05\n",
      " 13 5.28e+02 8.48e+01 2.22222e+05\n",
      " 14 5.21e+02 8.02e+01 2.22672e+05\n",
      " 15 5.13e+02 7.57e+01 2.23058e+05\n",
      " 16 5.06e+02 7.12e+01 2.23374e+05\n",
      " 17 4.98e+02 6.69e+01 2.23611e+05\n",
      " 18 4.90e+02 6.26e+01 2.23763e+05\n",
      " 19 4.81e+02 5.84e+01 2.23821e+05\n",
      " 20 4.72e+02 5.44e+01 2.23778e+05\n",
      " 21 4.63e+02 5.05e+01 2.23626e+05\n",
      " 22 4.54e+02 4.66e+01 2.23360e+05\n",
      " 23 4.44e+02 4.30e+01 2.22973e+05\n",
      " 24 4.35e+02 3.94e+01 2.22461e+05\n",
      " 25 4.24e+02 3.60e+01 2.21820e+05\n",
      " 26 4.14e+02 3.27e+01 2.21051e+05\n",
      " 27 4.03e+02 2.96e+01 2.20153e+05\n",
      " 28 3.93e+02 2.66e+01 2.19131e+05\n",
      " 29 3.82e+02 2.38e+01 2.17989e+05\n",
      " 30 3.71e+02 2.11e+01 2.16735e+05\n",
      " 31 3.60e+02 1.86e+01 2.15380e+05\n",
      " 32 3.48e+02 1.63e+01 2.13934e+05\n",
      " 33 3.37e+02 1.40e+01 2.12410e+05\n",
      " 34 3.26e+02 1.20e+01 2.10823e+05\n",
      " 35 3.14e+02 1.01e+01 2.09189e+05\n",
      " 36 3.03e+02 8.31e+00 2.07523e+05\n",
      " 37 2.92e+02 6.68e+00 2.05842e+05\n",
      " 38 2.81e+02 5.18e+00 2.04162e+05\n",
      " 39 2.71e+02 3.80e+00 2.02497e+05\n",
      " 40 2.60e+02 2.53e+00 2.00862e+05\n",
      " 41 2.50e+02 1.38e+00 1.99268e+05\n",
      " 42 2.40e+02 3.27e-01 1.97726e+05\n",
      " 43 2.30e+02 -6.33e-01 1.96245e+05\n",
      " 44 2.21e+02 -1.51e+00 1.94831e+05\n",
      " 45 2.12e+02 -2.30e+00 1.93489e+05\n",
      " 46 2.04e+02 -3.02e+00 1.92221e+05\n",
      " 47 1.95e+02 -3.67e+00 1.91030e+05\n",
      " 48 1.87e+02 -4.27e+00 1.89916e+05\n",
      " 49 1.79e+02 -4.81e+00 1.88877e+05\n",
      " 50 1.72e+02 -5.30e+00 1.87913e+05\n",
      " 51 1.65e+02 -5.74e+00 1.87021e+05\n",
      " 52 1.58e+02 -6.15e+00 1.86198e+05\n",
      " 53 1.52e+02 -6.52e+00 1.85441e+05\n",
      " 54 1.46e+02 -6.85e+00 1.84746e+05\n",
      " 55 1.40e+02 -7.15e+00 1.84110e+05\n",
      " 56 1.34e+02 -7.43e+00 1.83529e+05\n",
      " 57 1.29e+02 -7.69e+00 1.82998e+05\n",
      " 58 1.24e+02 -7.92e+00 1.82515e+05\n",
      " 59 1.19e+02 -8.13e+00 1.82074e+05\n",
      " 60 1.14e+02 -8.32e+00 1.81674e+05\n",
      " 61 1.10e+02 -8.50e+00 1.81309e+05\n",
      " 62 1.05e+02 -8.66e+00 1.80978e+05\n",
      " 63 1.01e+02 -8.81e+00 1.80677e+05\n",
      " 64 9.76e+01 -8.95e+00 1.80403e+05\n",
      " 65 9.39e+01 -9.08e+00 1.80154e+05\n",
      " 66 9.04e+01 -9.19e+00 1.79928e+05\n",
      " 67 8.70e+01 -9.30e+00 1.79722e+05\n",
      " 68 8.38e+01 -9.40e+00 1.79535e+05\n",
      " 69 8.07e+01 -9.49e+00 1.79364e+05\n",
      " 70 7.78e+01 -9.57e+00 1.79208e+05\n",
      " 71 7.50e+01 -9.65e+00 1.79066e+05\n",
      " 72 7.23e+01 -9.72e+00 1.78936e+05\n",
      " 73 6.97e+01 -9.79e+00 1.78817e+05\n",
      " 74 6.72e+01 -9.85e+00 1.78709e+05\n",
      " 75 6.49e+01 -9.91e+00 1.78609e+05\n",
      " 76 6.26e+01 -9.96e+00 1.78518e+05\n",
      " 77 6.04e+01 -1.00e+01 1.78434e+05\n",
      " 78 5.83e+01 -1.01e+01 1.78358e+05\n",
      " 79 5.63e+01 -1.01e+01 1.78287e+05\n",
      " 80 5.44e+01 -1.01e+01 1.78222e+05\n",
      " 81 5.25e+01 -1.02e+01 1.78162e+05\n",
      " 82 5.08e+01 -1.02e+01 1.78107e+05\n",
      " 83 4.90e+01 -1.02e+01 1.78056e+05\n",
      " 84 4.74e+01 -1.03e+01 1.78009e+05\n",
      " 85 4.58e+01 -1.03e+01 1.77966e+05\n",
      " 86 4.43e+01 -1.03e+01 1.77926e+05\n",
      " 87 4.28e+01 -1.04e+01 1.77888e+05\n",
      " 88 4.14e+01 -1.04e+01 1.77854e+05\n",
      " 89 4.00e+01 -1.04e+01 1.77822e+05\n",
      " 90 3.87e+01 -1.04e+01 1.77793e+05\n",
      " 91 3.75e+01 -1.04e+01 1.77765e+05\n",
      " 92 3.62e+01 -1.05e+01 1.77740e+05\n",
      " 93 3.51e+01 -1.05e+01 1.77716e+05\n",
      " 94 3.39e+01 -1.05e+01 1.77694e+05\n",
      " 95 3.28e+01 -1.05e+01 1.77674e+05\n",
      " 96 3.18e+01 -1.05e+01 1.77654e+05\n",
      " 97 3.07e+01 -1.05e+01 1.77637e+05\n",
      " 98 2.98e+01 -1.05e+01 1.77620e+05\n",
      " 99 2.88e+01 -1.05e+01 1.77605e+05\n"
     ]
    }
   ],
   "source": [
    "for i in range(100):\n",
    "    # calculando o valor da função e do gradiente em p0\n",
    "    res = cylinder_data['data_noise'] - d0\n",
    "    phi0 = np.sum(res*res)\n",
    "    \n",
    "    # calculando a Jacobiana\n",
    "    G = jacobi_geo(regular_grid['xp'], regular_grid['yp'], regular_grid['zp'], prism, cylinder_model['M'],\n",
    "                   cylinder_model['inc'], cylinder_model['dec'], delta)\n",
    "    grad = -2.*np.dot(G.T, res)\n",
    "    \n",
    "    # calculando p e atualizando para a próxima iteração\n",
    "    p = p0 + alfa*grad\n",
    "    r = np.zeros(cylinder_model['M']) + p[0]\n",
    "    l = [[r, x0, y0, cylinder_model['dz'], p[1], cylinder_model['props']]]\n",
    "    prism = mfun.pol2cart(l, cylinder_model['M'], cylinder_model['L'])\n",
    "    d = polyprism.tf(regular_grid['xp'], regular_grid['yp'], regular_grid['zp'],\n",
    "                    prism, cylinder_model['inc'], cylinder_model['dec'])\n",
    "    p0 = p\n",
    "    d0 = d\n",
    "    \n",
    "    # armazenando os resultados em listas para o plot\n",
    "    phi_list.append(phi0)\n",
    "    p1_list.append(p0[0])\n",
    "    p2_list.append(p0[1])\n",
    "    \n",
    "    # printa os valores\n",
    "    print '%3d %.2e %.2e %.5e' % (i, p0[0], p0[1], phi0)"
   ]
  },
  {
   "cell_type": "code",
   "execution_count": 9,
   "metadata": {
    "collapsed": false
   },
   "outputs": [
    {
     "data": {
      "image/png": "[encoded data removed]",
      "text/plain": [
       "<matplotlib.figure.Figure at 0x7f8b06b7b790>"
      ]
     },
     "metadata": {},
     "output_type": "display_data"
    }
   ],
   "source": [
    "#plot\n",
    "plt.figure(figsize=(5,5))\n",
    "plt.plot(500., 100., 'oy')\n",
    "plt.plot(p1_list, p2_list, '.w-', markersize=1)\n",
    "plt.title('SD - geofisica', fontsize=18)\n",
    "plt.contourf(cylinder_data['p1'], cylinder_data['p2'], cylinder_data['phi_eq'], 40, cmap='jet')\n",
    "plt.xlabel('$p_1$', fontsize=18)\n",
    "plt.ylabel('$p_2$', fontsize=18)\n",
    "plt.colorbar(pad=0.01, aspect=20, shrink=1)\n",
    "plt.savefig('plot_rosenbrock.png', pad_inches=0.0)\n",
    "plt.show()"
   ]
  },
  {
   "cell_type": "code",
   "execution_count": 10,
   "metadata": {
    "collapsed": false
   },
   "outputs": [
    {
     "data": {
      "image/png": "[encoded data removed]",
      "text/plain": [
       "<matplotlib.figure.Figure at 0x7f8b0a295890>"
      ]
     },
     "metadata": {},
     "output_type": "display_data"
    }
   ],
   "source": [
    "plt.title('Convergence', fontsize = 18)\n",
    "plt.xlabel('Iteration number')\n",
    "plt.ylabel('Phi value')\n",
    "plt.plot(phi_list, 'o')\n",
    "plt.savefig('convergence.png', dpi=300)\n",
    "plt.show()"
   ]
  },
  {
   "cell_type": "markdown",
   "metadata": {},
   "source": [
    "# Steepest Descent com critério de Armijo"
   ]
  },
  {
   "cell_type": "markdown",
   "metadata": {},
   "source": [
    "O método steepest descent é um método de convergência global, o qual se aproxima do mínimo com a direção de $-\\nabla \\boldsymbol{\\phi}(\\mathbf{p})$, que é menos o gradiente da função objetivo e $\\mathbf{p}$ é o vetor de parâmentros. Porém, para uma melhor aproximação do mínimo é necessário de um critério mais rigoroso para a escolha da largura do passo. Para isso a chamada regra de Armijo é um exemplo de line search. A condição a ser satisfeita para uma direção mais aceitável é, então:"
   ]
  },
  {
   "cell_type": "markdown",
   "metadata": {},
   "source": [
    "\\begin{equation}\n",
    "\\boldsymbol{\\phi}(\\mathbf{p}_{k+1}) - \\boldsymbol{\\phi}(\\mathbf{p}_k) < -\\alpha \\lambda\\| \\nabla\\boldsymbol{\\phi}(\\mathbf{p}_k) \\|^2  ,\n",
    "\\end{equation}"
   ]
  },
  {
   "cell_type": "markdown",
   "metadata": {},
   "source": [
    "onde $\\lambda = \\beta^m$, $m \\geq 0$ é o menor não-negativo inteiro para uma descida suficiente e $\\alpha,\\beta$ $\\epsilon$ $(0,1)$."
   ]
  },
  {
   "cell_type": "markdown",
   "metadata": {},
   "source": [
    "1) estabelece um chute inicial $\\mathbf{p}_i$\n",
    "\n",
    "2) determina a direção $\\mathbf{a}_i$ que diminua $\\boldsymbol{\\phi}$ em torno de $\\mathbf{p}_i$\n",
    "\n",
    "3) calcula $\\mathbf{p}_{i+1} = \\mathbf{p}_i -\\lambda\\nabla \\boldsymbol{\\phi}(\\mathbf{p})$\n",
    "\n",
    "4) verifica a condição de Armijo, enquanto $\\boldsymbol{\\phi}(\\mathbf{p}_{k+1}) - \\boldsymbol{\\phi}(\\mathbf{p}_k) > \\alpha \\lambda\\| \\nabla\\boldsymbol{\\phi}(\\mathbf{p}_k) \\|^2$:\n",
    "\n",
    "a) caso não seja satisfeita $m = m + 1$\n",
    "\n",
    "b) calcula $\\lambda = \\beta^m$\n",
    "\n",
    "c) calcula $\\mathbf{p}_{+} = \\mathbf{p}_i -\\lambda\\nabla \\boldsymbol{\\phi}(\\mathbf{p})$\n",
    "\n",
    "d) calcula $\\phi(\\mathbf{p}_{+})$ e reorna para 4)\n",
    " \n",
    "5) testa a convergência, se for satisfeita o algoritmo para, caso contrário retorna para 1)"
   ]
  },
  {
   "cell_type": "code",
   "execution_count": 11,
   "metadata": {
    "collapsed": true
   },
   "outputs": [],
   "source": [
    "# calculando o valor da função e do gradiente em p0\n",
    "res = cylinder_data['data_noise'] - d0\n",
    "phi0 = np.sum(res*res)\n",
    "\n",
    "# zerando as listas\n",
    "p1_list = [p01]\n",
    "p2_list = [p02]\n",
    "phi_list = [phi0]"
   ]
  },
  {
   "cell_type": "code",
   "execution_count": 12,
   "metadata": {
    "collapsed": false
   },
   "outputs": [
    {
     "name": "stdout",
     "output_type": "stream",
     "text": [
      "  0 2.79e+01 -1.06e+01 1.77577e+05\n",
      "  1 2.70e+01 -1.06e+01 1.77564e+05\n",
      "  2 2.61e+01 -1.06e+01 1.77553e+05\n",
      "  3 2.53e+01 -1.06e+01 1.77542e+05\n",
      "  4 2.45e+01 -1.06e+01 1.77532e+05\n",
      "  5 2.37e+01 -1.06e+01 1.77522e+05\n",
      "  6 2.30e+01 -1.06e+01 1.77513e+05\n",
      "  7 2.22e+01 -1.06e+01 1.77505e+05\n",
      "  8 2.15e+01 -1.06e+01 1.77497e+05\n",
      "  9 2.08e+01 -1.06e+01 1.77490e+05\n",
      " 10 2.02e+01 -1.06e+01 1.77483e+05\n",
      " 11 1.96e+01 -1.06e+01 1.77477e+05\n",
      " 12 1.89e+01 -1.06e+01 1.77471e+05\n",
      " 13 1.83e+01 -1.06e+01 1.77465e+05\n",
      " 14 1.78e+01 -1.06e+01 1.77460e+05\n",
      " 15 1.72e+01 -1.07e+01 1.77455e+05\n",
      " 16 1.67e+01 -1.07e+01 1.77451e+05\n",
      " 17 1.61e+01 -1.07e+01 1.77446e+05\n",
      " 18 1.56e+01 -1.07e+01 1.77442e+05\n",
      " 19 1.51e+01 -1.07e+01 1.77439e+05\n",
      " 20 1.47e+01 -1.07e+01 1.77435e+05\n",
      " 21 1.42e+01 -1.07e+01 1.77432e+05\n",
      " 22 1.38e+01 -1.07e+01 1.77429e+05\n",
      " 23 1.33e+01 -1.07e+01 1.77426e+05\n",
      " 24 1.29e+01 -1.07e+01 1.77423e+05\n",
      " 25 1.25e+01 -1.07e+01 1.77421e+05\n",
      " 26 1.21e+01 -1.07e+01 1.77418e+05\n",
      " 27 1.17e+01 -1.07e+01 1.77416e+05\n",
      " 28 1.14e+01 -1.07e+01 1.77414e+05\n",
      " 29 1.10e+01 -1.07e+01 1.77412e+05\n",
      " 30 1.07e+01 -1.07e+01 1.77410e+05\n",
      " 31 1.03e+01 -1.07e+01 1.77408e+05\n",
      " 32 1.00e+01 -1.07e+01 1.77407e+05\n",
      " 33 9.71e+00 -1.07e+01 1.77405e+05\n",
      " 34 9.41e+00 -1.07e+01 1.77404e+05\n",
      " 35 9.11e+00 -1.07e+01 1.77402e+05\n",
      " 36 8.83e+00 -1.07e+01 1.77401e+05\n",
      " 37 8.55e+00 -1.07e+01 1.77400e+05\n",
      " 38 8.29e+00 -1.07e+01 1.77399e+05\n",
      " 39 8.03e+00 -1.07e+01 1.77398e+05\n",
      " 40 7.78e+00 -1.07e+01 1.77397e+05\n",
      " 41 7.54e+00 -1.07e+01 1.77396e+05\n",
      " 42 7.30e+00 -1.07e+01 1.77395e+05\n",
      " 43 7.07e+00 -1.07e+01 1.77394e+05\n",
      " 44 6.85e+00 -1.07e+01 1.77393e+05\n",
      " 45 6.64e+00 -1.07e+01 1.77393e+05\n",
      " 46 6.43e+00 -1.07e+01 1.77392e+05\n",
      " 47 6.23e+00 -1.07e+01 1.77391e+05\n",
      " 48 6.04e+00 -1.07e+01 1.77391e+05\n",
      " 49 5.85e+00 -1.07e+01 1.77390e+05\n",
      " 50 5.67e+00 -1.07e+01 1.77390e+05\n",
      " 51 5.49e+00 -1.07e+01 1.77389e+05\n",
      " 52 5.32e+00 -1.07e+01 1.77389e+05\n",
      " 53 5.16e+00 -1.07e+01 1.77388e+05\n",
      " 54 5.00e+00 -1.07e+01 1.77388e+05\n",
      " 55 4.84e+00 -1.07e+01 1.77388e+05\n",
      " 56 4.69e+00 -1.07e+01 1.77387e+05\n",
      " 57 4.54e+00 -1.07e+01 1.77387e+05\n",
      " 58 4.40e+00 -1.07e+01 1.77387e+05\n",
      " 59 4.27e+00 -1.07e+01 1.77386e+05\n",
      " 60 4.13e+00 -1.07e+01 1.77386e+05\n",
      " 61 4.01e+00 -1.07e+01 1.77386e+05\n",
      " 62 3.88e+00 -1.07e+01 1.77386e+05\n",
      " 63 3.76e+00 -1.07e+01 1.77385e+05\n",
      " 64 3.64e+00 -1.07e+01 1.77385e+05\n",
      " 65 3.53e+00 -1.07e+01 1.77385e+05\n",
      " 66 3.42e+00 -1.07e+01 1.77385e+05\n",
      " 67 3.31e+00 -1.07e+01 1.77385e+05\n",
      " 68 3.21e+00 -1.07e+01 1.77384e+05\n",
      " 69 3.11e+00 -1.07e+01 1.77384e+05\n",
      " 70 3.01e+00 -1.07e+01 1.77384e+05\n",
      " 71 2.92e+00 -1.07e+01 1.77384e+05\n",
      " 72 2.83e+00 -1.07e+01 1.77384e+05\n",
      " 73 2.74e+00 -1.07e+01 1.77384e+05\n",
      " 74 2.66e+00 -1.07e+01 1.77384e+05\n",
      " 75 2.57e+00 -1.07e+01 1.77384e+05\n",
      " 76 2.49e+00 -1.07e+01 1.77383e+05\n",
      " 77 2.42e+00 -1.07e+01 1.77383e+05\n",
      " 78 2.34e+00 -1.07e+01 1.77383e+05\n",
      " 79 2.27e+00 -1.07e+01 1.77383e+05\n",
      " 80 2.20e+00 -1.07e+01 1.77383e+05\n",
      " 81 2.13e+00 -1.07e+01 1.77383e+05\n",
      " 82 2.06e+00 -1.07e+01 1.77383e+05\n",
      " 83 2.00e+00 -1.07e+01 1.77383e+05\n",
      " 84 1.94e+00 -1.07e+01 1.77383e+05\n",
      " 85 1.88e+00 -1.07e+01 1.77383e+05\n",
      " 86 1.82e+00 -1.07e+01 1.77383e+05\n",
      " 87 1.76e+00 -1.07e+01 1.77383e+05\n",
      " 88 1.71e+00 -1.07e+01 1.77383e+05\n",
      " 89 1.65e+00 -1.07e+01 1.77383e+05\n",
      " 90 1.60e+00 -1.07e+01 1.77383e+05\n",
      " 91 1.55e+00 -1.07e+01 1.77383e+05\n",
      " 92 1.51e+00 -1.07e+01 1.77382e+05\n",
      " 93 1.46e+00 -1.07e+01 1.77382e+05\n",
      " 94 1.41e+00 -1.07e+01 1.77382e+05\n",
      " 95 1.37e+00 -1.07e+01 1.77382e+05\n",
      " 96 1.33e+00 -1.07e+01 1.77382e+05\n",
      " 97 1.29e+00 -1.07e+01 1.77382e+05\n",
      " 98 1.25e+00 -1.07e+01 1.77382e+05\n",
      " 99 1.21e+00 -1.07e+01 1.77382e+05\n"
     ]
    }
   ],
   "source": [
    "for i in range(100):\n",
    "    m = 0\n",
    "    lamb = 1.\n",
    "    # calculando a Jacobiana\n",
    "    G = jacobi_geo(regular_grid['xp'], regular_grid['yp'], regular_grid['zp'], prism, cylinder_model['M'],\n",
    "                   cylinder_model['inc'], cylinder_model['dec'], delta)\n",
    "    grad = -2.*np.dot(G.T, res)\n",
    "    \n",
    "    # calculando p e atualizando para a próxima iteração\n",
    "    p = p0 + alfa*grad\n",
    "    r = np.zeros(cylinder_model['M']) + p[0]\n",
    "    l = [[r, x0, y0, cylinder_model['dz'], p[1], cylinder_model['props']]]\n",
    "    prism = mfun.pol2cart(l, cylinder_model['M'], cylinder_model['L'])\n",
    "    d = polyprism.tf(regular_grid['xp'], regular_grid['yp'], regular_grid['zp'],\n",
    "                    prism, cylinder_model['inc'], cylinder_model['dec'])\n",
    "    res = cylinder_data['data_noise'] - d\n",
    "    phi = np.sum(res*res)\n",
    "    \n",
    "    while (phi - phi0) > alfa*lamb*np.sum(grad*grad):\n",
    "        m += 1.\n",
    "        print m\n",
    "        lamb = beta**m\n",
    "        #print lamb\n",
    "        p = p0 - lamb*grad\n",
    "        res = cylinder_data['data_noise'] - d\n",
    "        phi = np.sum(res*res)\n",
    "        #print phi\n",
    "        #grad = grad_rosenbrock(p)\n",
    "        #print grad\n",
    "        \n",
    "    p0 = p\n",
    "    d0 = d\n",
    "    phi0 = phi\n",
    "    \n",
    "    # armazenando os resultados em listas para o plot\n",
    "    phi_list.append(phi0)\n",
    "    p1_list.append(p0[0])\n",
    "    p2_list.append(p0[1])\n",
    "    \n",
    "    # printa os valores\n",
    "    print '%3d %.2e %.2e %.5e' % (i, p0[0], p0[1], phi0)"
   ]
  },
  {
   "cell_type": "code",
   "execution_count": 13,
   "metadata": {
    "collapsed": false
   },
   "outputs": [
    {
     "ename": "NameError",
     "evalue": "name 'p1' is not defined",
     "output_type": "error",
     "traceback": [
      "\u001b[0;31m---------------------------------------------------------------------------\u001b[0m",
      "\u001b[0;31mNameError\u001b[0m                                 Traceback (most recent call last)",
      "\u001b[0;32m<ipython-input-13-39a1a6b02dc9>\u001b[0m in \u001b[0;36m<module>\u001b[0;34m()\u001b[0m\n\u001b[1;32m      4\u001b[0m \u001b[0mplt\u001b[0m\u001b[0;34m.\u001b[0m\u001b[0mplot\u001b[0m\u001b[0;34m(\u001b[0m\u001b[0mp1_list\u001b[0m\u001b[0;34m,\u001b[0m \u001b[0mp2_list\u001b[0m\u001b[0;34m,\u001b[0m \u001b[0;34m'.w-'\u001b[0m\u001b[0;34m,\u001b[0m \u001b[0mmarkersize\u001b[0m\u001b[0;34m=\u001b[0m\u001b[0;36m1\u001b[0m\u001b[0;34m)\u001b[0m\u001b[0;34m\u001b[0m\u001b[0m\n\u001b[1;32m      5\u001b[0m \u001b[0mplt\u001b[0m\u001b[0;34m.\u001b[0m\u001b[0mtitle\u001b[0m\u001b[0;34m(\u001b[0m\u001b[0;34m'SD com Armijo - Rosenbrock'\u001b[0m\u001b[0;34m,\u001b[0m \u001b[0mfontsize\u001b[0m\u001b[0;34m=\u001b[0m\u001b[0;36m18\u001b[0m\u001b[0;34m)\u001b[0m\u001b[0;34m\u001b[0m\u001b[0m\n\u001b[0;32m----> 6\u001b[0;31m \u001b[0mplt\u001b[0m\u001b[0;34m.\u001b[0m\u001b[0mcontourf\u001b[0m\u001b[0;34m(\u001b[0m\u001b[0mp1\u001b[0m\u001b[0;34m,\u001b[0m \u001b[0mp2\u001b[0m\u001b[0;34m,\u001b[0m \u001b[0mphi_eq\u001b[0m\u001b[0;34m,\u001b[0m \u001b[0;36m40\u001b[0m\u001b[0;34m,\u001b[0m \u001b[0mcmap\u001b[0m\u001b[0;34m=\u001b[0m\u001b[0;34m'jet'\u001b[0m\u001b[0;34m)\u001b[0m\u001b[0;34m\u001b[0m\u001b[0m\n\u001b[0m\u001b[1;32m      7\u001b[0m \u001b[0mplt\u001b[0m\u001b[0;34m.\u001b[0m\u001b[0mxlabel\u001b[0m\u001b[0;34m(\u001b[0m\u001b[0;34m'$p_1$'\u001b[0m\u001b[0;34m,\u001b[0m \u001b[0mfontsize\u001b[0m\u001b[0;34m=\u001b[0m\u001b[0;36m18\u001b[0m\u001b[0;34m)\u001b[0m\u001b[0;34m\u001b[0m\u001b[0m\n\u001b[1;32m      8\u001b[0m \u001b[0mplt\u001b[0m\u001b[0;34m.\u001b[0m\u001b[0mylabel\u001b[0m\u001b[0;34m(\u001b[0m\u001b[0;34m'$p_2$'\u001b[0m\u001b[0;34m,\u001b[0m \u001b[0mfontsize\u001b[0m\u001b[0;34m=\u001b[0m\u001b[0;36m18\u001b[0m\u001b[0;34m)\u001b[0m\u001b[0;34m\u001b[0m\u001b[0m\n",
      "\u001b[0;31mNameError\u001b[0m: name 'p1' is not defined"
     ]
    }
   ],
   "source": [
    "#plot\n",
    "plt.figure(figsize=(5,5))\n",
    "plt.plot(1., 1., 'oy')\n",
    "plt.plot(p1_list, p2_list, '.w-', markersize=1)\n",
    "plt.title('SD com Armijo - Rosenbrock', fontsize=18)\n",
    "plt.contourf(p1, p2, phi_eq, 40, cmap='jet')\n",
    "plt.xlabel('$p_1$', fontsize=18)\n",
    "plt.ylabel('$p_2$', fontsize=18)\n",
    "plt.colorbar(pad=0.01, aspect=20, shrink=1)\n",
    "plt.savefig('plot_rosenbrock_Armijo.png', pad_inches=0.0)\n",
    "plt.show()"
   ]
  },
  {
   "cell_type": "code",
   "execution_count": null,
   "metadata": {
    "collapsed": false
   },
   "outputs": [],
   "source": [
    "plt.title('Convergence', fontsize = 18)\n",
    "plt.xlabel('Iteration number')\n",
    "plt.ylabel('Phi value')\n",
    "plt.plot(phi_list, 'o')\n",
    "plt.savefig('convergence.png', dpi=300)\n",
    "plt.show()"
   ]
  },
  {
   "cell_type": "code",
   "execution_count": null,
   "metadata": {
    "collapsed": true
   },
   "outputs": [],
   "source": []
  }
 ],
 "metadata": {
  "kernelspec": {
   "display_name": "Python 2",
   "language": "python",
   "name": "python2"
  },
  "language_info": {
   "codemirror_mode": {
    "name": "ipython",
    "version": 2
   },
   "file_extension": ".py",
   "mimetype": "text/x-python",
   "name": "python",
   "nbconvert_exporter": "python",
   "pygments_lexer": "ipython2",
   "version": "2.7.13"
  }
 },
 "nbformat": 4,
 "nbformat_minor": 2
}
