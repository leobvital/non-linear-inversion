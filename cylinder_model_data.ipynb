{
 "cells": [
  {
   "cell_type": "markdown",
   "metadata": {},
   "source": [
    "# Data of a cylinder model with induced magnetization"
   ]
  },
  {
   "cell_type": "code",
   "execution_count": 1,
   "metadata": {
    "collapsed": false
   },
   "outputs": [
    {
     "name": "stderr",
     "output_type": "stream",
     "text": [
      "/home/leonardo/anaconda2/lib/python2.7/site-packages/fatiando/vis/mpl.py:76: UserWarning: This module will be removed in v0.6. We recommend the use of matplotlib.pyplot module directly. Some of the fatiando specific functions will remain.\n",
      "  \"specific functions will remain.\")\n"
     ]
    }
   ],
   "source": [
    "import numpy as np\n",
    "import matplotlib.pyplot as plt\n",
    "import cPickle as pickle\n",
    "from visual import histeq\n",
    "from copy import deepcopy\n",
    "from fatiando import utils\n",
    "from fatiando.mesher import PolygonalPrism\n",
    "from matplotlib import colors, ticker, cm\n",
    "from IPython.display import Image as img\n",
    "from fatiando.gridder import regular\n",
    "from fatiando.gravmag import polyprism\n",
    "\n",
    "import sys\n",
    "sys.path.insert(0, '../magnetic-radial-inversion/code')\n",
    "\n",
    "import mag_polyprism_functions as mfun"
   ]
  },
  {
   "cell_type": "code",
   "execution_count": 2,
   "metadata": {
    "collapsed": true
   },
   "outputs": [],
   "source": [
    "with open('data/cylinder_model.pickle') as w:\n",
    "        cylinder_model = pickle.load(w)\n",
    "with open('data/regular_grid.pickle') as w:\n",
    "        regular_grid = pickle.load(w)"
   ]
  },
  {
   "cell_type": "code",
   "execution_count": 3,
   "metadata": {
    "collapsed": true
   },
   "outputs": [],
   "source": [
    "cylinder_data = dict()"
   ]
  },
  {
   "cell_type": "code",
   "execution_count": 4,
   "metadata": {
    "collapsed": true
   },
   "outputs": [],
   "source": [
    "cylinder_data['data'] = polyprism.tf(regular_grid['xp'], regular_grid['yp'], regular_grid['zp'], \\\n",
    "                           cylinder_model['prisms'], cylinder_model['inc'], cylinder_model['dec']) # predict data\n",
    "\n",
    "cylinder_data['data_noise'] = cylinder_data['data'] + np.random.normal(loc=0., scale=5.,\\\n",
    "                               size=regular_grid['shape'][0]*regular_grid['shape'][1]) # noise corrupted data"
   ]
  },
  {
   "cell_type": "code",
   "execution_count": 5,
   "metadata": {
    "collapsed": false
   },
   "outputs": [],
   "source": [
    "r = np.linspace(10., 2000., 20)\n",
    "z0 = np.linspace(0., 300., 20)\n",
    "r,z0 = np.meshgrid(r, z0)\n",
    "r = r.ravel()\n",
    "z0 = z0.ravel()"
   ]
  },
  {
   "cell_type": "code",
   "execution_count": 6,
   "metadata": {
    "collapsed": false
   },
   "outputs": [],
   "source": [
    "phi = np.zeros_like(r)"
   ]
  },
  {
   "cell_type": "code",
   "execution_count": 7,
   "metadata": {
    "collapsed": false
   },
   "outputs": [],
   "source": [
    "for i, (rn, z) in enumerate(zip(r,z0)):\n",
    "    m = np.zeros(cylinder_model['M']) + rn\n",
    "    m = np.hstack((m,np.zeros(2)))\n",
    "    l = mfun.param2polyprism(m, cylinder_model['M'], cylinder_model['L'], z, cylinder_model['dz'],\n",
    "                                 cylinder_model['props'])\n",
    "    d_pred = polyprism.tf(regular_grid['xp'], regular_grid['yp'], regular_grid['zp'],\n",
    "                                l, cylinder_model['inc'], cylinder_model['dec'])\n",
    "    phi[i] = np.sum((cylinder_data['data'] - d_pred)**2)\n",
    "\n",
    "        "
   ]
  },
  {
   "cell_type": "code",
   "execution_count": 8,
   "metadata": {
    "collapsed": false
   },
   "outputs": [
    {
     "data": {
      "text/plain": [
       "(400,)"
      ]
     },
     "execution_count": 8,
     "metadata": {},
     "output_type": "execute_result"
    }
   ],
   "source": [
    "phi.shape"
   ]
  },
  {
   "cell_type": "code",
   "execution_count": 9,
   "metadata": {
    "collapsed": false
   },
   "outputs": [
    {
     "data": {
      "image/png": "[encoded data removed]",
      "text/plain": [
       "<matplotlib.figure.Figure at 0x7f9103d21390>"
      ]
     },
     "metadata": {},
     "output_type": "display_data"
    }
   ],
   "source": [
    "r = r.reshape((20,20))\n",
    "z0 = z0.reshape((20,20))\n",
    "phi = phi.reshape((20,20))\n",
    "\n",
    "cylinder_data['p1'] = r\n",
    "cylinder_data['p2'] = z0\n",
    "cylinder_data['phi'] = phi\n",
    "\n",
    "# equalizando as cores\n",
    "phi_eq = histeq(phi)\n",
    "phi_eq = np.reshape(phi_eq,(20,20))\n",
    "cylinder_data['phi_eq'] = phi_eq\n",
    "\n",
    "plt.figure(figsize=(5,5))\n",
    "plt.plot(500., 100., 'og')\n",
    "plt.title('Funcao objetivo', fontsize=18)\n",
    "plt.contourf(r, z0, phi_eq, 30, cmap='RdBu_r')\n",
    "plt.xlabel('$r$ (m)', fontsize=18)\n",
    "plt.ylabel('$z_0$ (m)', fontsize=18)\n",
    "plt.colorbar(pad=0.01, aspect=20, shrink=1)\n",
    "plt.savefig('plot_geo_prob.png', pad_inches=0.0)\n",
    "plt.show()"
   ]
  },
  {
   "cell_type": "code",
   "execution_count": 10,
   "metadata": {
    "collapsed": true
   },
   "outputs": [],
   "source": [
    "file_name = 'data/cylinder_data.pickle'\n",
    "with open(file_name, 'w') as f:\n",
    "    pickle.dump(cylinder_data, f)"
   ]
  },
  {
   "cell_type": "code",
   "execution_count": null,
   "metadata": {
    "collapsed": true
   },
   "outputs": [],
   "source": []
  }
 ],
 "metadata": {
  "kernelspec": {
   "display_name": "Python 2",
   "language": "python",
   "name": "python2"
  },
  "language_info": {
   "codemirror_mode": {
    "name": "ipython",
    "version": 2
   },
   "file_extension": ".py",
   "mimetype": "text/x-python",
   "name": "python",
   "nbconvert_exporter": "python",
   "pygments_lexer": "ipython2",
   "version": "2.7.13"
  }
 },
 "nbformat": 4,
 "nbformat_minor": 2
}
