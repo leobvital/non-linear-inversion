{
 "cells": [
  {
   "cell_type": "markdown",
   "metadata": {},
   "source": [
    "# Steepest descent aplicado à função geofísica"
   ]
  },
  {
   "cell_type": "markdown",
   "metadata": {},
   "source": [
    "Este algoritmo aplica o método de otimização Steepest descent à função matemática de Rosenbrock, a qual é definida pela equação geral:"
   ]
  },
  {
   "cell_type": "markdown",
   "metadata": {},
   "source": [
    "\\begin{equation}\n",
    "f(x,y) = (a - x)^2 + b(y - x^2)^2 ,\n",
    "\\end{equation}"
   ]
  },
  {
   "cell_type": "markdown",
   "metadata": {},
   "source": [
    "onde $a$ e $b$ são constantes e o mínimo dessa função é $(x,y)=(a,a^2)$, onde $f(a,a^2)=0$. Normalmente $a$ e $b$ são iguais a 1 e a 100, respectivamente, nesse caso, o mínimo dessa função é $(x,y)=(1,1)$."
   ]
  },
  {
   "cell_type": "markdown",
   "metadata": {},
   "source": [
    "Então a função a ser minimizada através do método steepest descente é:"
   ]
  },
  {
   "cell_type": "markdown",
   "metadata": {},
   "source": [
    "\\begin{equation}\n",
    "f(p_1,p_2) = 100(p_2 - p_1^2)^2 + (p_1 - 1)^2 ,\n",
    "\\end{equation}"
   ]
  },
  {
   "cell_type": "markdown",
   "metadata": {},
   "source": [
    "A proposta do código é encontrar o mínimo da função através de muitas iterações."
   ]
  },
  {
   "cell_type": "markdown",
   "metadata": {},
   "source": [
    "O método steepest descent é um método de convergência global, o qual se aproxima do mínimo com a direção de $-\\nabla \\boldsymbol{\\phi}(\\mathbf{p})$, que é menos o gradiente da função objetivo e $\\mathbf{p}$ é o vetor de parâmentros. O método possui o seguinte algoritmo:"
   ]
  },
  {
   "cell_type": "markdown",
   "metadata": {},
   "source": [
    "1) estabelece um chute inicial $\\mathbf{p}_i$\n",
    "\n",
    "2) determina a direção $\\mathbf{a}_i$ que diminua $\\boldsymbol{\\phi}$ em torno de $\\mathbf{p}_i$\n",
    "\n",
    "3) calcula $\\mathbf{p}_{i+1} = \\mathbf{p}_i + \\rho _i \\mathbf{a}_i$, onde $\\rho_i$ é um escalar que modula o passo em direção ao mínimo e $\\mathbf{a}_i = -\\nabla \\boldsymbol{\\phi}(\\mathbf{p})$\n",
    " \n",
    "4) testa a convergência, se for satisfeita o algoritmo para, caso contrário retorna para 1)"
   ]
  },
  {
   "cell_type": "markdown",
   "metadata": {},
   "source": [
    "# Importando pacotes"
   ]
  },
  {
   "cell_type": "code",
   "execution_count": 1,
   "metadata": {
    "collapsed": false
   },
   "outputs": [
    {
     "name": "stderr",
     "output_type": "stream",
     "text": [
      "/home/vital/anaconda2/lib/python2.7/site-packages/fatiando/vis/mpl.py:76: UserWarning: This module will be removed in v0.6. We recommend the use of matplotlib.pyplot module directly. Some of the fatiando specific functions will remain.\n",
      "  \"specific functions will remain.\")\n",
      "/home/vital/anaconda2/lib/python2.7/site-packages/fatiando/vis/myv.py:51: UserWarning: This module will be removed in v0.7.\n",
      "  warnings.warn(\"This module will be removed in v0.7.\")\n"
     ]
    }
   ],
   "source": [
    "import numpy as np\n",
    "import matplotlib.pyplot as plt\n",
    "import cPickle as pickle\n",
    "from visual import histeq\n",
    "from fatiando.mesher import PolygonalPrism\n",
    "from IPython.display import Image as img\n",
    "from fatiando.gravmag import polyprism\n",
    "from copy import deepcopy\n",
    "from fatiando.vis import mpl, myv\n",
    "\n",
    "import sys\n",
    "sys.path.insert(0, '../magnetic-radial-inversion/code')\n",
    "\n",
    "import mag_polyprism_functions as mfun"
   ]
  },
  {
   "cell_type": "markdown",
   "metadata": {},
   "source": [
    "# Modelagem direta"
   ]
  },
  {
   "cell_type": "code",
   "execution_count": 2,
   "metadata": {
    "collapsed": true
   },
   "outputs": [],
   "source": [
    "with open('data/cylinder_model.pickle') as w:\n",
    "        cylinder_model = pickle.load(w)\n",
    "with open('data/cylinder_data.pickle') as w:\n",
    "        cylinder_data = pickle.load(w)\n",
    "with open('data/regular_grid.pickle') as w:\n",
    "        regular_grid = pickle.load(w)"
   ]
  },
  {
   "cell_type": "raw",
   "metadata": {},
   "source": [
    "bounds = [-800., 800., -800., 800., -200.0, 800.]\n",
    "\n",
    "red, green, blue = (1, 0, 0), (0, 1, 0), (0, 0, 1)\n",
    "white, black = (1, 1, 1), (0, 0, 0),\n",
    "\n",
    "# Show the model\n",
    "scene = myv.figure()\n",
    "myv.polyprisms(cylinder_model['prisms'], 'magnetization', color=blue, opacity=1.)\n",
    "\n",
    "ax = myv.axes(myv.outline(bounds), ranges=[i * 0.001 for i in bounds])\n",
    "ax.axes.x_label, ax.axes.y_label, ax.axes.z_label = 'x (m)', 'y (m)', 'z (m)'\n",
    "ax.axes.font_factor = 1.5\n",
    "scene.scene.camera.position = [-0.089204656936016313, -0.066107174155361687, -0.04083578885723696]\n",
    "scene.scene.camera.focal_point = [1.1820671636724554e-16, 1.3134079596360617e-17, -1.9701119394540926e-17]\n",
    "scene.scene.camera.view_angle = 30.0\n",
    "scene.scene.camera.view_up = [0.24683390337942718, 0.24593292331329802, -0.93733132955911114]\n",
    "scene.scene.camera.clipping_range = [0.057117737884348194, 0.1956040854922288]\n",
    "scene.scene.camera.compute_view_plane_normal()\n",
    "\n",
    "myv.wall_bottom(ax.axes.bounds, opacity=0.2)\n",
    "myv.wall_north(ax.axes.bounds)\n",
    "myv.savefig('bolacha.png')\n",
    "myv.show()"
   ]
  },
  {
   "cell_type": "code",
   "execution_count": 3,
   "metadata": {
    "collapsed": false
   },
   "outputs": [
    {
     "data": {
      "image/png": "[encoded data removed]",
      "text/plain": [
       "<IPython.core.display.Image object>"
      ]
     },
     "execution_count": 3,
     "metadata": {},
     "output_type": "execute_result"
    }
   ],
   "source": [
    "img(filename='bolacha.png')"
   ]
  },
  {
   "cell_type": "markdown",
   "metadata": {},
   "source": [
    "## Plotando a função"
   ]
  },
  {
   "cell_type": "code",
   "execution_count": 4,
   "metadata": {
    "collapsed": false
   },
   "outputs": [
    {
     "data": {
      "image/png": "[encoded data removed]",
      "text/plain": [
       "<matplotlib.figure.Figure at 0x7fac9495f410>"
      ]
     },
     "metadata": {},
     "output_type": "display_data"
    }
   ],
   "source": [
    "plt.figure(figsize=(5,5))\n",
    "plt.plot(500., 100., 'og')\n",
    "plt.title('Funcao objetivo', fontsize=18)\n",
    "plt.contourf(cylinder_data['p1'], cylinder_data['p2'], cylinder_data['phi_eq'], 50, cmap='jet')\n",
    "plt.xlabel('$r$ (m)', fontsize=18)\n",
    "plt.ylabel('$z_0$ (m)', fontsize=18)\n",
    "plt.colorbar(pad=0.01, aspect=20, shrink=1)\n",
    "plt.savefig('plot_geo_prob.png', pad_inches=0.0)\n",
    "plt.show()"
   ]
  },
  {
   "cell_type": "markdown",
   "metadata": {},
   "source": [
    "# Funções"
   ]
  },
  {
   "cell_type": "code",
   "execution_count": 5,
   "metadata": {
    "collapsed": false
   },
   "outputs": [],
   "source": [
    "def derivative_tf_z0(xp, yp, zp, prism, M, deltaz, inc, dec):\n",
    "    '''\n",
    "    This function calculates the derivative for total field anomaly\n",
    "    from a model of polygonal prisms using finite difference.\n",
    "\n",
    "    input\n",
    "\n",
    "    xp: array - x observation points\n",
    "    yp: array - y observation points\n",
    "    zp: array - z observation points\n",
    "    prism: list - list of one fatiando.mesher.PolygonalPrism\n",
    "    M: int - number of vertices per prism\n",
    "    delta: float - increment in x coordinate in meters\n",
    "    inc: float - inclination\n",
    "    dec: declination\n",
    "\n",
    "    output\n",
    "\n",
    "    df: 1D array - derivative\n",
    "    '''\n",
    "    assert xp.size == yp.size == zp.size, 'The number of points in x, y and z must be equal'\n",
    "\n",
    "    prism_plus = deepcopy([prism])  # m.x + delta\n",
    "    prism_minus = deepcopy([prism])  # m.x - deltaa\n",
    "    prism_plus[0].z1 += deltaz\n",
    "    prism_minus[0].z1 -= deltaz\n",
    "\n",
    "    df = polyprism.tf(xp, yp, zp, prism_plus, inc, dec)\n",
    "    df -= polyprism.tf(xp, yp, zp, prism_minus, inc, dec)\n",
    "    df /= (2.*deltaz)\n",
    "\n",
    "    return df\n",
    "\n",
    "def derivative_tf_radiall(xp, yp, zp, prism, M, deltar, inc, dec):\n",
    "    '''\n",
    "    This function calculates the derivative for total field anomaly\n",
    "    from a model of polygonal prisms using finite difference.\n",
    "\n",
    "    input\n",
    "\n",
    "    xp: array - x observation points\n",
    "    yp: array - y observation points\n",
    "    zp: array - z observation points\n",
    "    prism: list - list of a fatiando.mesher.PolygonalPrism\n",
    "    M: int - number of vertices per prism\n",
    "    deltar: float - increment in radial distance in meters\n",
    "    inc: float - inclination\n",
    "    dec: declination\n",
    "\n",
    "    output\n",
    "\n",
    "    df: 1D array - derivative\n",
    "    '''\n",
    "    assert xp.size == yp.size == zp.size, 'The number of points in x, y and z must be equal'\n",
    "    \n",
    "    ang = 2.*np.pi/M # angle between two vertices\n",
    "    \n",
    "    prism_plus = deepcopy([prism])  # m.x + delta\n",
    "    prism_minus = deepcopy([prism])  # m.x - delta\n",
    "\n",
    "    for i in range(M):\n",
    "        deltax = deltar*np.cos(i*ang)\n",
    "        deltay = deltar*np.sin(i*ang)\n",
    "        prism_plus[0].x[i] += deltax\n",
    "        prism_plus[0].y[i] += deltay\n",
    "        prism_minus[0].x[i] -= deltax\n",
    "        prism_minus[0].y[i] -= deltay\n",
    "\n",
    "    df = polyprism.tf(xp, yp, zp, prism_plus, inc, dec)\n",
    "    df -= polyprism.tf(xp, yp, zp, prism_minus, inc, dec)\n",
    "    df /= (2.*deltar)\n",
    "\n",
    "    return df\n",
    "\n",
    "# calculando jacobiana de phi\n",
    "def jacobi_geo(xp, yp, zp, prism, M, deltar, deltaz, inc, dec):\n",
    "    '''\n",
    "    Returns the sensitivity matrix for polygonal prisms using finite\n",
    "    differences.\n",
    "\n",
    "    input\n",
    "\n",
    "    xp: array - x observation points\n",
    "    yp: array - y observation points\n",
    "    zp: array - z observation points\n",
    "    prism: list - list of fatiando.mesher.PolygonalPrism\n",
    "    M: int - number of vertices per prism\n",
    "    deltar: float - increment in meters for radial distance\n",
    "    deltaz: float - increment in meters for depth\n",
    "    inc: float - inclination of the local-geomagnetic field\n",
    "    dec: declination of the local-geomagnetic field\n",
    "\n",
    "    output\n",
    "\n",
    "    G: 2D array - sensitivity matrix\n",
    "    '''\n",
    "    assert xp.size == yp.size == zp.size, 'The number of points in x, y and z must be equal'\n",
    "\n",
    "    G = np.zeros((xp.size, 2))\n",
    "\n",
    "    G[:, 0] = derivative_tf_radiall(xp, yp, zp, prism[0], M, deltar, inc, dec)\n",
    "    G[:, 1] = derivative_tf_z0(xp, yp, zp, prism[0], M, deltaz, inc, dec)\n",
    "\n",
    "    return G"
   ]
  },
  {
   "cell_type": "markdown",
   "metadata": {},
   "source": [
    "# Modelo interpretativo"
   ]
  },
  {
   "cell_type": "code",
   "execution_count": 6,
   "metadata": {
    "collapsed": false
   },
   "outputs": [],
   "source": [
    "# chute inicial\n",
    "p01 = 600.\n",
    "p02 = 330.\n",
    "\n",
    "# incremento para as derivadas\n",
    "deltar = 0.01*p01\n",
    "deltaz = 0.01*p02\n",
    "\n",
    "r = np.zeros(cylinder_model['M']) + p01 # radial distance for each vertice\n",
    "\n",
    "# Cartesian coordinates of the origin of each prism\n",
    "x0 = 0. \n",
    "y0 = 0.\n",
    "\n",
    "l = [[r, x0, y0, p02, cylinder_model['dz'], cylinder_model['props']]]"
   ]
  },
  {
   "cell_type": "code",
   "execution_count": 14,
   "metadata": {
    "collapsed": false
   },
   "outputs": [],
   "source": [
    "prism0 = mfun.pol2cart(l, cylinder_model['M'], cylinder_model['L'])\n",
    "\n",
    "d0 = polyprism.tf(regular_grid['xp'], regular_grid['yp'], regular_grid['zp'],\n",
    "                    prism0, cylinder_model['inc'], cylinder_model['dec'])\n",
    "\n",
    "# vetor do chute inicial\n",
    "p0 = np.array([p01,p02]) \n",
    "\n",
    "# parâmetros para o critério de Armijo\n",
    "alfa = 0.0001\n",
    "lamb = 1.\n",
    "epsilon = 0.00001\n",
    "\n",
    "# calculando o valor da função e do resíduo em p0\n",
    "res0 = cylinder_data['data_noise'] - d0\n",
    "phi0 = np.sum(res0*res0)\n",
    "\n",
    "\n",
    "p1_list = [p01]\n",
    "p2_list = [p02]\n",
    "phi_list = [phi0]"
   ]
  },
  {
   "cell_type": "markdown",
   "metadata": {},
   "source": [
    "# Algoritmo Steepest Descent"
   ]
  },
  {
   "cell_type": "code",
   "execution_count": 15,
   "metadata": {
    "collapsed": false
   },
   "outputs": [
    {
     "name": "stdout",
     "output_type": "stream",
     "text": [
      "  0 5.98e+02 3.29e+02 6.83305e+04\n",
      "  1 6.00e+02 3.14e+02 6.81147e+04\n",
      "  2 6.03e+02 3.00e+02 6.79069e+04\n",
      "  3 6.05e+02 2.86e+02 6.77097e+04\n",
      "  4 6.07e+02 2.72e+02 6.75254e+04\n",
      "  5 6.08e+02 2.59e+02 6.73562e+04\n",
      "  6 6.10e+02 2.47e+02 6.72034e+04\n",
      "  7 6.10e+02 2.35e+02 6.70678e+04\n",
      "  8 6.11e+02 2.24e+02 6.69494e+04\n",
      "  9 6.11e+02 2.14e+02 6.68473e+04\n",
      " 10 6.10e+02 2.04e+02 6.67604e+04\n",
      " 11 6.09e+02 1.95e+02 6.66868e+04\n",
      " 12 6.08e+02 1.87e+02 6.66246e+04\n",
      " 13 6.06e+02 1.80e+02 6.65720e+04\n",
      " 14 6.04e+02 1.74e+02 6.65271e+04\n",
      " 15 6.02e+02 1.68e+02 6.64882e+04\n",
      " 16 5.99e+02 1.63e+02 6.64542e+04\n",
      " 17 5.96e+02 1.58e+02 6.64239e+04\n",
      " 18 5.93e+02 1.53e+02 6.63966e+04\n",
      " 19 5.90e+02 1.49e+02 6.63717e+04\n",
      " 20 5.87e+02 1.46e+02 6.63487e+04\n",
      " 21 5.84e+02 1.42e+02 6.63274e+04\n",
      " 22 5.81e+02 1.39e+02 6.63075e+04\n",
      " 23 5.77e+02 1.36e+02 6.62889e+04\n",
      " 24 5.74e+02 1.34e+02 6.62714e+04\n",
      " 25 5.71e+02 1.31e+02 6.62550e+04\n",
      " 26 5.68e+02 1.29e+02 6.62396e+04\n",
      " 27 5.65e+02 1.27e+02 6.62252e+04\n",
      " 28 5.62e+02 1.24e+02 6.62118e+04\n",
      " 29 5.59e+02 1.22e+02 6.61992e+04\n",
      " 30 5.56e+02 1.20e+02 6.61874e+04\n",
      " 31 5.53e+02 1.19e+02 6.61764e+04\n",
      " 32 5.50e+02 1.17e+02 6.61662e+04\n",
      " 33 5.48e+02 1.15e+02 6.61567e+04\n",
      " 34 5.45e+02 1.14e+02 6.61479e+04\n",
      " 35 5.43e+02 1.12e+02 6.61397e+04\n",
      " 36 5.40e+02 1.11e+02 6.61322e+04\n",
      " 37 5.38e+02 1.09e+02 6.61252e+04\n",
      " 38 5.36e+02 1.08e+02 6.61188e+04\n",
      " 39 5.34e+02 1.07e+02 6.61128e+04\n",
      " 40 5.32e+02 1.05e+02 6.61074e+04\n",
      " 41 5.30e+02 1.04e+02 6.61024e+04\n",
      " 42 5.28e+02 1.03e+02 6.60978e+04\n",
      " 43 5.26e+02 1.02e+02 6.60935e+04\n",
      " 44 5.24e+02 1.01e+02 6.60897e+04\n",
      " 45 5.23e+02 1.00e+02 6.60862e+04\n",
      " 46 5.21e+02 9.90e+01 6.60829e+04\n",
      " 47 5.20e+02 9.82e+01 6.60800e+04\n",
      " 48 5.18e+02 9.73e+01 6.60773e+04\n",
      " 49 5.17e+02 9.65e+01 6.60748e+04\n",
      " 50 5.16e+02 9.58e+01 6.60726e+04\n",
      " 51 5.14e+02 9.50e+01 6.60706e+04\n",
      " 52 5.13e+02 9.44e+01 6.60687e+04\n",
      " 53 5.12e+02 9.37e+01 6.60670e+04\n",
      " 54 5.11e+02 9.31e+01 6.60655e+04\n",
      " 55 5.10e+02 9.25e+01 6.60641e+04\n",
      " 56 5.09e+02 9.19e+01 6.60629e+04\n",
      " 57 5.08e+02 9.14e+01 6.60617e+04\n",
      " 58 5.07e+02 9.09e+01 6.60607e+04\n",
      " 59 5.06e+02 9.04e+01 6.60598e+04\n",
      " 60 5.06e+02 9.00e+01 6.60589e+04\n",
      " 61 5.05e+02 8.95e+01 6.60582e+04\n",
      " 62 5.04e+02 8.91e+01 6.60575e+04\n"
     ]
    }
   ],
   "source": [
    "for i in range(10000):\n",
    "    # calculando a Jacobiana e o gradiente\n",
    "    G = jacobi_geo(regular_grid['xp'], regular_grid['yp'], regular_grid['zp'], prism0, cylinder_model['M'],\n",
    "                   deltar, deltaz, cylinder_model['inc'], cylinder_model['dec'])\n",
    "    grad = 2.*np.dot(G.T, res0)\n",
    "    #print grad\n",
    "    # calculando p e atualizando para a próxima iteração\n",
    "    p = p0 + lamb*grad\n",
    "    #print p, p0\n",
    "    l = [[np.zeros(cylinder_model['M']) + p[0], x0, y0, p[1], cylinder_model['dz'], cylinder_model['props']]]\n",
    "    prism = mfun.pol2cart(l, cylinder_model['M'], cylinder_model['L'])\n",
    "    d = polyprism.tf(regular_grid['xp'], regular_grid['yp'], regular_grid['zp'],\n",
    "                    prism, cylinder_model['inc'], cylinder_model['dec'])\n",
    "    res = cylinder_data['data_noise'] - d\n",
    "    phi = np.sum(res*res)\n",
    "    \n",
    "    if (abs(phi-phi0)/abs(phi0) <= epsilon):\n",
    "        break\n",
    "    else:\n",
    "        # armazenando os resultados em listas para o plot\n",
    "        phi_list.append(phi)\n",
    "        p1_list.append(p[0])\n",
    "        p2_list.append(p[1])\n",
    "        \n",
    "        # atualizando parâmetros\n",
    "        p0 = p\n",
    "        d0 = d\n",
    "        res0 = res\n",
    "        phi0 = phi\n",
    "        prism0 = prism\n",
    "        \n",
    "        # printa os valores\n",
    "        print '%3d %.2e %.2e %.5e' % (i, p0[0], p0[1], phi0)"
   ]
  },
  {
   "cell_type": "code",
   "execution_count": 16,
   "metadata": {
    "collapsed": false
   },
   "outputs": [
    {
     "data": {
      "image/png": "[encoded data removed]",
      "text/plain": [
       "<matplotlib.figure.Figure at 0x7fac91ce9490>"
      ]
     },
     "metadata": {},
     "output_type": "display_data"
    }
   ],
   "source": [
    "#plot\n",
    "plt.figure(figsize=(5,5))\n",
    "plt.plot(500., 100., 'oy')\n",
    "plt.plot(p1_list, p2_list, '.w-', markersize=5)\n",
    "plt.title('SD - geofisica', fontsize=18)\n",
    "plt.contourf(cylinder_data['p1'], cylinder_data['p2'], cylinder_data['phi_eq'], 40, cmap='jet')\n",
    "plt.xlabel('$p_1$', fontsize=18)\n",
    "plt.ylabel('$p_2$', fontsize=18)\n",
    "plt.colorbar(pad=0.01, aspect=20, shrink=1)\n",
    "plt.savefig('plot_rosenbrock.png', pad_inches=0.0)\n",
    "plt.show()"
   ]
  },
  {
   "cell_type": "code",
   "execution_count": 17,
   "metadata": {
    "collapsed": false,
    "scrolled": true
   },
   "outputs": [
    {
     "data": {
      "image/png": "[encoded data removed]",
      "text/plain": [
       "<matplotlib.figure.Figure at 0x7fac9242ee10>"
      ]
     },
     "metadata": {},
     "output_type": "display_data"
    }
   ],
   "source": [
    "plt.title('Convergence', fontsize = 18)\n",
    "plt.xlabel('Iteration number')\n",
    "plt.ylabel('Phi value')\n",
    "plt.plot(phi_list, 'o')\n",
    "plt.savefig('convergence.png', dpi=300)\n",
    "plt.show()"
   ]
  },
  {
   "cell_type": "code",
   "execution_count": null,
   "metadata": {
    "collapsed": true
   },
   "outputs": [],
   "source": []
  }
 ],
 "metadata": {
  "kernelspec": {
   "display_name": "Python 2",
   "language": "python",
   "name": "python2"
  },
  "language_info": {
   "codemirror_mode": {
    "name": "ipython",
    "version": 2
   },
   "file_extension": ".py",
   "mimetype": "text/x-python",
   "name": "python",
   "nbconvert_exporter": "python",
   "pygments_lexer": "ipython2",
   "version": "2.7.13"
  }
 },
 "nbformat": 4,
 "nbformat_minor": 2
}
