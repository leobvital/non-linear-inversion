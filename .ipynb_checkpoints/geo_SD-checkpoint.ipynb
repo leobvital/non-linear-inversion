{
 "cells": [
  {
   "cell_type": "markdown",
   "metadata": {},
   "source": [
    "# Steepest descent aplicado à função Rosenbrock"
   ]
  },
  {
   "cell_type": "markdown",
   "metadata": {},
   "source": [
    "Este algoritmo aplica o método de otimização Steepest descent à função matemática de Rosenbrock, a qual é definida pela equação geral:"
   ]
  },
  {
   "cell_type": "markdown",
   "metadata": {},
   "source": [
    "\\begin{equation}\n",
    "f(x,y) = (a - x)^2 + b(y - x^2)^2 ,\n",
    "\\end{equation}"
   ]
  },
  {
   "cell_type": "markdown",
   "metadata": {},
   "source": [
    "onde $a$ e $b$ são constantes e o mínimo dessa função é $(x,y)=(a,a^2)$, onde $f(a,a^2)=0$. Normalmente $a$ e $b$ são iguais a 1 e a 100, respectivamente, nesse caso, o mínimo dessa função é $(x,y)=(1,1)$."
   ]
  },
  {
   "cell_type": "markdown",
   "metadata": {},
   "source": [
    "Então a função a ser minimizada através do método steepest descente é:"
   ]
  },
  {
   "cell_type": "markdown",
   "metadata": {},
   "source": [
    "\\begin{equation}\n",
    "f(p_1,p_2) = 100(p_2 - p_1^2)^2 + (p_1 - 1)^2 ,\n",
    "\\end{equation}"
   ]
  },
  {
   "cell_type": "markdown",
   "metadata": {},
   "source": [
    "A proposta do código é encontrar o mínimo da função através de muitas iterações."
   ]
  },
  {
   "cell_type": "markdown",
   "metadata": {},
   "source": [
    "O método steepest descent é um método de convergência global, o qual se aproxima do mínimo com a direção de $-\\nabla \\boldsymbol{\\phi}(\\mathbf{p})$, que é menos o gradiente da função objetivo e $\\mathbf{p}$ é o vetor de parâmentros. O método possui o seguinte algoritmo:"
   ]
  },
  {
   "cell_type": "markdown",
   "metadata": {},
   "source": [
    "1) estabelece um chute inicial $\\mathbf{p}_i$\n",
    "\n",
    "2) determina a direção $\\mathbf{a}_i$ que diminua $\\boldsymbol{\\phi}$ em torno de $\\mathbf{p}_i$\n",
    "\n",
    "3) calcula $\\mathbf{p}_{i+1} = \\mathbf{p}_i + \\rho _i \\mathbf{a}_i$, onde $\\rho_i$ é um escalar que modula o passo em direção ao mínimo e $\\mathbf{a}_i = -\\nabla \\boldsymbol{\\phi}(\\mathbf{p})$\n",
    " \n",
    "4) testa a convergência, se for satisfeita o algoritmo para, caso contrário retorna para 1)"
   ]
  },
  {
   "cell_type": "markdown",
   "metadata": {},
   "source": [
    "# Importando pacotes"
   ]
  },
  {
   "cell_type": "code",
   "execution_count": 1,
   "metadata": {
    "collapsed": false
   },
   "outputs": [
    {
     "name": "stderr",
     "output_type": "stream",
     "text": [
      "/home/vital/anaconda2/lib/python2.7/site-packages/fatiando/vis/mpl.py:76: UserWarning: This module will be removed in v0.6. We recommend the use of matplotlib.pyplot module directly. Some of the fatiando specific functions will remain.\n",
      "  \"specific functions will remain.\")\n",
      "/home/vital/anaconda2/lib/python2.7/site-packages/fatiando/vis/myv.py:51: UserWarning: This module will be removed in v0.7.\n",
      "  warnings.warn(\"This module will be removed in v0.7.\")\n"
     ]
    }
   ],
   "source": [
    "import numpy as np\n",
    "import matplotlib.pyplot as plt\n",
    "import cPickle as pickle\n",
    "from visual import histeq\n",
    "from fatiando.mesher import PolygonalPrism\n",
    "from IPython.display import Image as img\n",
    "from fatiando.gravmag import polyprism\n",
    "from copy import deepcopy\n",
    "from fatiando.vis import mpl, myv\n",
    "\n",
    "import sys\n",
    "sys.path.insert(0, '../magnetic-radial-inversion/code')\n",
    "\n",
    "import mag_polyprism_functions as mfun"
   ]
  },
  {
   "cell_type": "markdown",
   "metadata": {},
   "source": [
    "# Importando modelo direto, grid e dados"
   ]
  },
  {
   "cell_type": "code",
   "execution_count": 2,
   "metadata": {
    "collapsed": true
   },
   "outputs": [],
   "source": [
    "with open('data/cylinder_model.pickle') as w:\n",
    "        cylinder_model = pickle.load(w)\n",
    "with open('data/cylinder_data.pickle') as w:\n",
    "        cylinder_data = pickle.load(w)\n",
    "with open('data/regular_grid.pickle') as w:\n",
    "        regular_grid = pickle.load(w)"
   ]
  },
  {
   "cell_type": "raw",
   "metadata": {},
   "source": [
    "bounds = [-800., 800., -800., 800., -200.0, 800.]\n",
    "\n",
    "red, green, blue = (1, 0, 0), (0, 1, 0), (0, 0, 1)\n",
    "white, black = (1, 1, 1), (0, 0, 0),\n",
    "\n",
    "# Show the model\n",
    "scene = myv.figure()\n",
    "myv.polyprisms(cylinder_model['prisms'], 'magnetization', color=blue, opacity=1.)\n",
    "\n",
    "ax = myv.axes(myv.outline(bounds), ranges=[i * 0.001 for i in bounds])\n",
    "ax.axes.x_label, ax.axes.y_label, ax.axes.z_label = 'x (m)', 'y (m)', 'z (m)'\n",
    "ax.axes.font_factor = 1.5\n",
    "scene.scene.camera.position = [-0.089204656936016313, -0.066107174155361687, -0.04083578885723696]\n",
    "scene.scene.camera.focal_point = [1.1820671636724554e-16, 1.3134079596360617e-17, -1.9701119394540926e-17]\n",
    "scene.scene.camera.view_angle = 30.0\n",
    "scene.scene.camera.view_up = [0.24683390337942718, 0.24593292331329802, -0.93733132955911114]\n",
    "scene.scene.camera.clipping_range = [0.057117737884348194, 0.1956040854922288]\n",
    "scene.scene.camera.compute_view_plane_normal()\n",
    "\n",
    "myv.wall_bottom(ax.axes.bounds, opacity=0.2)\n",
    "myv.wall_north(ax.axes.bounds)\n",
    "myv.savefig('bolacha.png')\n",
    "myv.show()"
   ]
  },
  {
   "cell_type": "code",
   "execution_count": 3,
   "metadata": {
    "collapsed": false
   },
   "outputs": [
    {
     "data": {
      "image/png": "[encoded data removed]",
      "text/plain": [
       "<IPython.core.display.Image object>"
      ]
     },
     "execution_count": 3,
     "metadata": {},
     "output_type": "execute_result"
    }
   ],
   "source": [
    "img(filename='bolacha.png')"
   ]
  },
  {
   "cell_type": "markdown",
   "metadata": {},
   "source": [
    "## Plotando a função"
   ]
  },
  {
   "cell_type": "code",
   "execution_count": 4,
   "metadata": {
    "collapsed": false
   },
   "outputs": [
    {
     "data": {
      "image/png": "[encoded data removed]",
      "text/plain": [
       "<matplotlib.figure.Figure at 0x7fde66eb7390>"
      ]
     },
     "metadata": {},
     "output_type": "display_data"
    }
   ],
   "source": [
    "plt.figure(figsize=(5,5))\n",
    "plt.plot(500., 100., 'og')\n",
    "plt.title('Funcao objetivo', fontsize=18)\n",
    "plt.contourf(cylinder_data['p1'], cylinder_data['p2'], cylinder_data['phi_eq'], 50, cmap='jet')\n",
    "plt.xlabel('$r$ (m)', fontsize=18)\n",
    "plt.ylabel('$z_0$ (m)', fontsize=18)\n",
    "plt.colorbar(pad=0.01, aspect=20, shrink=1)\n",
    "plt.savefig('plot_geo_prob.png', pad_inches=0.0)\n",
    "plt.show()"
   ]
  },
  {
   "cell_type": "markdown",
   "metadata": {},
   "source": [
    "# Funções"
   ]
  },
  {
   "cell_type": "code",
   "execution_count": 5,
   "metadata": {
    "collapsed": false
   },
   "outputs": [],
   "source": [
    "def derivative_tf_z0(xp, yp, zp, prism, M, deltax, inc, dec):\n",
    "    '''\n",
    "    This function calculates the derivative for total field anomaly\n",
    "    from a model of polygonal prisms using finite difference.\n",
    "\n",
    "    input\n",
    "\n",
    "    xp: array - x observation points\n",
    "    yp: array - y observation points\n",
    "    zp: array - z observation points\n",
    "    prism: list - list of one fatiando.mesher.PolygonalPrism\n",
    "    M: int - number of vertices per prism\n",
    "    delta: float - increment in x coordinate in meters\n",
    "    inc: float - inclination\n",
    "    dec: declination\n",
    "\n",
    "    output\n",
    "\n",
    "    df: 1D array - derivative\n",
    "    '''\n",
    "    assert xp.size == yp.size == zp.size, 'The number of points in x, y and z must be equal'\n",
    "\n",
    "    prism_plus = deepcopy([prism])  # m.x + delta\n",
    "    prism_minus = deepcopy([prism])  # m.x - deltaa\n",
    "    prism_plus[0].z1 += delta\n",
    "    prism_minus[0].z1 -= delta\n",
    "\n",
    "    df = polyprism.tf(xp, yp, zp, prism_plus, inc, dec)\n",
    "    df -= polyprism.tf(xp, yp, zp, prism_minus, inc, dec)\n",
    "    df /= (2.*delta)\n",
    "\n",
    "    return df\n",
    "\n",
    "def derivative_tf_radiall(xp, yp, zp, prism, M, delta, inc, dec):\n",
    "    '''\n",
    "    This function calculates the derivative for total field anomaly\n",
    "    from a model of polygonal prisms using finite difference.\n",
    "\n",
    "    input\n",
    "\n",
    "    xp: array - x observation points\n",
    "    yp: array - y observation points\n",
    "    zp: array - z observation points\n",
    "    prism: list - list of a fatiando.mesher.PolygonalPrism\n",
    "    M: int - number of vertices per prism\n",
    "    delta: float - increment in radial distance in meters\n",
    "    inc: float - inclination\n",
    "    dec: declination\n",
    "\n",
    "    output\n",
    "\n",
    "    df: 1D array - derivative\n",
    "    '''\n",
    "    assert xp.size == yp.size == zp.size, 'The number of points in x, y and z must be equal'\n",
    "    \n",
    "    ang = 2.*np.pi/M # angle between two vertices\n",
    "    \n",
    "    prism_plus = deepcopy([prism])  # m.x + delta\n",
    "    prism_minus = deepcopy([prism])  # m.x - delta\n",
    "\n",
    "    for i in range(M):\n",
    "        deltax = delta*np.cos(i*ang)\n",
    "        deltay = delta*np.sin(i*ang)\n",
    "        prism_plus[0].x[i] += deltax\n",
    "        prism_plus[0].y[i] += deltay\n",
    "        prism_minus[0].x[i] -= deltax\n",
    "        prism_minus[0].y[i] -= deltay\n",
    "\n",
    "    df = polyprism.tf(xp, yp, zp, prism_plus, inc, dec)\n",
    "    df -= polyprism.tf(xp, yp, zp, prism_minus, inc, dec)\n",
    "    df /= (2.*delta)\n",
    "\n",
    "    return df\n",
    "\n",
    "# calculando gradiente de phi\n",
    "def jacobi_geo(xp, yp, zp, prism, M, delta, inc, dec):\n",
    "    '''\n",
    "    Returns the sensitivity matrix for polygonal prisms using finite\n",
    "    differences.\n",
    "\n",
    "    input\n",
    "\n",
    "    xp: array - x observation points\n",
    "    yp: array - y observation points\n",
    "    zp: array - z observation points\n",
    "    prism: list - list of fatiando.mesher.PolygonalPrism\n",
    "    M: int - number of vertices per prism\n",
    "    delta: float - increment in meters\n",
    "    inc: float - inclination of the local-geomagnetic field\n",
    "    dec: declination of the local-geomagnetic field\n",
    "\n",
    "    output\n",
    "\n",
    "    G: 2D array - sensitivity matrix\n",
    "    '''\n",
    "    assert xp.size == yp.size == zp.size, 'The number of points in x, y and z must be equal'\n",
    "\n",
    "    G = np.zeros((xp.size, 2))\n",
    "\n",
    "    G[:, 0] = derivative_tf_radiall(xp, yp, zp, prism[0], M, delta, inc, dec)\n",
    "    G[:, 1] = derivative_tf_z0(xp, yp, zp, prism[0], M, delta, inc, dec)\n",
    "\n",
    "    return G"
   ]
  },
  {
   "cell_type": "markdown",
   "metadata": {},
   "source": [
    "# Modelo interpretativo"
   ]
  },
  {
   "cell_type": "code",
   "execution_count": 6,
   "metadata": {
    "collapsed": false
   },
   "outputs": [],
   "source": [
    "# chute inicial\n",
    "p01 = 600.\n",
    "p02 = 150.\n",
    "\n",
    "# incremento para as derivadas\n",
    "delta = 10.\n",
    "\n",
    "r = np.zeros(cylinder_model['M']) + p01 # radial distance for each vertice\n",
    "\n",
    "# Cartesian coordinates of the origin of each prism\n",
    "x0 = 0. \n",
    "y0 = 0.\n",
    "\n",
    "l = [[r, x0, y0, p02, cylinder_model['dz'], cylinder_model['props']]]"
   ]
  },
  {
   "cell_type": "code",
   "execution_count": 7,
   "metadata": {
    "collapsed": false
   },
   "outputs": [],
   "source": [
    "prism = mfun.pol2cart(l, cylinder_model['M'], cylinder_model['L'])\n",
    "\n",
    "d0 = polyprism.tf(regular_grid['xp'], regular_grid['yp'], regular_grid['zp'],\n",
    "                    prism, cylinder_model['inc'], cylinder_model['dec'])\n",
    "\n",
    "# vetor do chute inicial\n",
    "p0 = np.array([p01,p02]) \n",
    "\n",
    "# parâmetros para o critério de Armijo\n",
    "alfa = 0.1\n",
    "beta = 0.4\n",
    "m = 0.\n",
    "lamb = 1.\n",
    "\n",
    "\n",
    "\n",
    "p1_list = [p01]\n",
    "p2_list = [p02]\n",
    "phi_list = []"
   ]
  },
  {
   "cell_type": "markdown",
   "metadata": {},
   "source": [
    "# Algoritmo Steepest Descent"
   ]
  },
  {
   "cell_type": "code",
   "execution_count": 8,
   "metadata": {
    "collapsed": false
   },
   "outputs": [
    {
     "name": "stdout",
     "output_type": "stream",
     "text": [
      "  0 6.00e+02 1.49e+02 1.62961e+05\n",
      "  1 5.95e+02 1.44e+02 2.13974e+05\n",
      "  2 5.91e+02 1.39e+02 2.14739e+05\n",
      "  3 5.86e+02 1.34e+02 2.15496e+05\n",
      "  4 5.82e+02 1.29e+02 2.16245e+05\n",
      "  5 5.77e+02 1.24e+02 2.16982e+05\n",
      "  6 5.72e+02 1.20e+02 2.17704e+05\n",
      "  7 5.66e+02 1.15e+02 2.18408e+05\n",
      "  8 5.61e+02 1.10e+02 2.19090e+05\n",
      "  9 5.55e+02 1.05e+02 2.19746e+05\n",
      " 10 5.49e+02 1.01e+02 2.20371e+05\n",
      " 11 5.43e+02 9.59e+01 2.20962e+05\n",
      " 12 5.37e+02 9.13e+01 2.21512e+05\n",
      " 13 5.30e+02 8.67e+01 2.22018e+05\n",
      " 14 5.24e+02 8.23e+01 2.22471e+05\n",
      " 15 5.17e+02 7.78e+01 2.22868e+05\n",
      " 16 5.09e+02 7.35e+01 2.23201e+05\n",
      " 17 5.02e+02 6.92e+01 2.23463e+05\n",
      " 18 4.94e+02 6.51e+01 2.23648e+05\n",
      " 19 4.86e+02 6.10e+01 2.23748e+05\n",
      " 20 4.78e+02 5.70e+01 2.23758e+05\n",
      " 21 4.69e+02 5.31e+01 2.23669e+05\n",
      " 22 4.60e+02 4.94e+01 2.23476e+05\n",
      " 23 4.51e+02 4.57e+01 2.23173e+05\n",
      " 24 4.42e+02 4.22e+01 2.22756e+05\n",
      " 25 4.32e+02 3.88e+01 2.22221e+05\n",
      " 26 4.22e+02 3.55e+01 2.21565e+05\n",
      " 27 4.12e+02 3.24e+01 2.20789e+05\n",
      " 28 4.02e+02 2.94e+01 2.19894e+05\n",
      " 29 3.91e+02 2.65e+01 2.18883e+05\n",
      " 30 3.81e+02 2.38e+01 2.17762e+05\n",
      " 31 3.70e+02 2.12e+01 2.16538e+05\n",
      " 32 3.59e+02 1.88e+01 2.15220e+05\n",
      " 33 3.48e+02 1.66e+01 2.13820e+05\n",
      " 34 3.37e+02 1.44e+01 2.12347e+05\n",
      " 35 3.26e+02 1.24e+01 2.10817e+05\n",
      " 36 3.16e+02 1.06e+01 2.09242e+05\n",
      " 37 3.05e+02 8.84e+00 2.07638e+05\n",
      " 38 2.94e+02 7.24e+00 2.06018e+05\n",
      " 39 2.84e+02 5.77e+00 2.04397e+05\n",
      " 40 2.73e+02 4.41e+00 2.02789e+05\n",
      " 41 2.63e+02 3.16e+00 2.01206e+05\n",
      " 42 2.53e+02 2.02e+00 1.99660e+05\n",
      " 43 2.44e+02 9.67e-01 1.98160e+05\n",
      " 44 2.34e+02 7.84e-03 1.96714e+05\n",
      " 45 2.25e+02 -8.68e-01 1.95329e+05\n",
      " 46 2.16e+02 -1.67e+00 1.94009e+05\n",
      " 47 2.08e+02 -2.40e+00 1.92758e+05\n",
      " 48 2.00e+02 -3.06e+00 1.91577e+05\n",
      " 49 1.92e+02 -3.67e+00 1.90468e+05\n",
      " 50 1.84e+02 -4.22e+00 1.89430e+05\n",
      " 51 1.77e+02 -4.72e+00 1.88462e+05\n",
      " 52 1.70e+02 -5.18e+00 1.87562e+05\n",
      " 53 1.63e+02 -5.59e+00 1.86728e+05\n",
      " 54 1.57e+02 -5.98e+00 1.85958e+05\n",
      " 55 1.51e+02 -6.32e+00 1.85247e+05\n",
      " 56 1.45e+02 -6.64e+00 1.84593e+05\n",
      " 57 1.39e+02 -6.93e+00 1.83993e+05\n",
      " 58 1.34e+02 -7.20e+00 1.83442e+05\n",
      " 59 1.28e+02 -7.44e+00 1.82939e+05\n",
      " 60 1.24e+02 -7.66e+00 1.82478e+05\n",
      " 61 1.19e+02 -7.87e+00 1.82057e+05\n",
      " 62 1.14e+02 -8.06e+00 1.81672e+05\n",
      " 63 1.10e+02 -8.23e+00 1.81321e+05\n",
      " 64 1.06e+02 -8.39e+00 1.81001e+05\n",
      " 65 1.02e+02 -8.53e+00 1.80709e+05\n",
      " 66 9.83e+01 -8.67e+00 1.80442e+05\n",
      " 67 9.47e+01 -8.79e+00 1.80199e+05\n",
      " 68 9.13e+01 -8.91e+00 1.79977e+05\n",
      " 69 8.80e+01 -9.01e+00 1.79774e+05\n",
      " 70 8.49e+01 -9.11e+00 1.79589e+05\n",
      " 71 8.19e+01 -9.20e+00 1.79419e+05\n",
      " 72 7.90e+01 -9.29e+00 1.79264e+05\n",
      " 73 7.62e+01 -9.36e+00 1.79122e+05\n",
      " 74 7.36e+01 -9.44e+00 1.78992e+05\n",
      " 75 7.11e+01 -9.50e+00 1.78873e+05\n",
      " 76 6.86e+01 -9.57e+00 1.78764e+05\n",
      " 77 6.63e+01 -9.62e+00 1.78664e+05\n",
      " 78 6.40e+01 -9.68e+00 1.78571e+05\n",
      " 79 6.19e+01 -9.73e+00 1.78486e+05\n",
      " 80 5.98e+01 -9.77e+00 1.78408e+05\n",
      " 81 5.78e+01 -9.82e+00 1.78336e+05\n",
      " 82 5.59e+01 -9.86e+00 1.78270e+05\n",
      " 83 5.41e+01 -9.90e+00 1.78208e+05\n",
      " 84 5.23e+01 -9.93e+00 1.78152e+05\n",
      " 85 5.06e+01 -9.97e+00 1.78099e+05\n",
      " 86 4.89e+01 -1.00e+01 1.78051e+05\n",
      " 87 4.74e+01 -1.00e+01 1.78006e+05\n",
      " 88 4.58e+01 -1.01e+01 1.77964e+05\n",
      " 89 4.44e+01 -1.01e+01 1.77925e+05\n",
      " 90 4.29e+01 -1.01e+01 1.77890e+05\n",
      " 91 4.16e+01 -1.01e+01 1.77856e+05\n",
      " 92 4.03e+01 -1.01e+01 1.77825e+05\n",
      " 93 3.90e+01 -1.02e+01 1.77797e+05\n",
      " 94 3.77e+01 -1.02e+01 1.77770e+05\n",
      " 95 3.66e+01 -1.02e+01 1.77745e+05\n",
      " 96 3.54e+01 -1.02e+01 1.77722e+05\n",
      " 97 3.43e+01 -1.02e+01 1.77700e+05\n",
      " 98 3.32e+01 -1.02e+01 1.77680e+05\n",
      " 99 3.22e+01 -1.03e+01 1.77661e+05\n"
     ]
    }
   ],
   "source": [
    "for i in range(100):\n",
    "    # calculando o valor da função e do gradiente em p0\n",
    "    res = cylinder_data['data_noise'] - d0\n",
    "    phi0 = np.sum(res*res)\n",
    "    \n",
    "    G = jacobi_geo(regular_grid['xp'], regular_grid['yp'], regular_grid['zp'], prism, cylinder_model['M'],\n",
    "                   cylinder_model['inc'], cylinder_model['dec'], delta)\n",
    "    grad = -2.*np.dot(G.T, res)\n",
    "    \n",
    "    # calculando p e atualizando para a próxima iteração\n",
    "    p = p0 + alfa*grad\n",
    "    r = np.zeros(cylinder_model['M']) + p[0]\n",
    "    l = [[r, x0, y0, cylinder_model['dz'], p[1], cylinder_model['props']]]\n",
    "    prism = mfun.pol2cart(l, cylinder_model['M'], cylinder_model['L'])\n",
    "    d = polyprism.tf(regular_grid['xp'], regular_grid['yp'], regular_grid['zp'],\n",
    "                    prism, cylinder_model['inc'], cylinder_model['dec'])\n",
    "    p0 = p\n",
    "    d0 = d\n",
    "    \n",
    "    # armazenando os resultados em listas para o plot\n",
    "    phi_list.append(phi0)\n",
    "    p1_list.append(p0[0])\n",
    "    p2_list.append(p0[1])\n",
    "    \n",
    "    # printa os valores\n",
    "    print '%3d %.2e %.2e %.5e' % (i, p0[0], p0[1], phi0)"
   ]
  },
  {
   "cell_type": "code",
   "execution_count": 9,
   "metadata": {
    "collapsed": false
   },
   "outputs": [
    {
     "data": {
      "image/png": "[encoded data removed]",
      "text/plain": [
       "<matplotlib.figure.Figure at 0x7fde646473d0>"
      ]
     },
     "metadata": {},
     "output_type": "display_data"
    }
   ],
   "source": [
    "#plot\n",
    "plt.figure(figsize=(5,5))\n",
    "plt.plot(500., 100., 'oy')\n",
    "plt.plot(p1_list, p2_list, '.w-', markersize=1)\n",
    "plt.title('SD - Rosenbrock', fontsize=18)\n",
    "plt.contourf(cylinder_data['p1'], cylinder_data['p2'], cylinder_data['phi_eq'], 40, cmap='jet')\n",
    "plt.xlabel('$p_1$', fontsize=18)\n",
    "plt.ylabel('$p_2$', fontsize=18)\n",
    "plt.colorbar(pad=0.01, aspect=20, shrink=1)\n",
    "plt.savefig('plot_rosenbrock.png', pad_inches=0.0)\n",
    "plt.show()"
   ]
  },
  {
   "cell_type": "code",
   "execution_count": 10,
   "metadata": {
    "collapsed": false
   },
   "outputs": [
    {
     "data": {
      "image/png": "[encoded data removed]",
      "text/plain": [
       "<matplotlib.figure.Figure at 0x7fde67136410>"
      ]
     },
     "metadata": {},
     "output_type": "display_data"
    }
   ],
   "source": [
    "plt.title('Convergence', fontsize = 18)\n",
    "plt.xlabel('Iteration number')\n",
    "plt.ylabel('Phi value')\n",
    "plt.plot(phi_list, 'o')\n",
    "plt.savefig('convergence.png', dpi=300)\n",
    "plt.show()"
   ]
  },
  {
   "cell_type": "markdown",
   "metadata": {},
   "source": [
    "# Steepest Descent com critério de Armijo"
   ]
  },
  {
   "cell_type": "markdown",
   "metadata": {},
   "source": [
    "O método steepest descent é um método de convergência global, o qual se aproxima do mínimo com a direção de $-\\nabla \\boldsymbol{\\phi}(\\mathbf{p})$, que é menos o gradiente da função objetivo e $\\mathbf{p}$ é o vetor de parâmentros. Porém, para uma melhor aproximação do mínimo é necessário de um critério mais rigoroso para a escolha da largura do passo. Para isso a chamada regra de Armijo é um exemplo de line search. A condição a ser satisfeita para uma direção mais aceitável é, então:"
   ]
  },
  {
   "cell_type": "markdown",
   "metadata": {},
   "source": [
    "\\begin{equation}\n",
    "\\boldsymbol{\\phi}(\\mathbf{p}_{k+1}) - \\boldsymbol{\\phi}(\\mathbf{p}_k) < -\\alpha \\lambda\\| \\nabla\\boldsymbol{\\phi}(\\mathbf{p}_k) \\|^2  ,\n",
    "\\end{equation}"
   ]
  },
  {
   "cell_type": "markdown",
   "metadata": {},
   "source": [
    "onde $\\lambda = \\beta^m$, $m \\geq 0$ é o menor não-negativo inteiro para uma descida suficiente e $\\alpha,\\beta$ $\\epsilon$ $(0,1)$."
   ]
  },
  {
   "cell_type": "markdown",
   "metadata": {},
   "source": [
    "1) estabelece um chute inicial $\\mathbf{p}_i$\n",
    "\n",
    "2) determina a direção $\\mathbf{a}_i$ que diminua $\\boldsymbol{\\phi}$ em torno de $\\mathbf{p}_i$\n",
    "\n",
    "3) calcula $\\mathbf{p}_{i+1} = \\mathbf{p}_i -\\lambda\\nabla \\boldsymbol{\\phi}(\\mathbf{p})$\n",
    "\n",
    "4) verifica a condição de Armijo, enquanto $\\boldsymbol{\\phi}(\\mathbf{p}_{k+1}) - \\boldsymbol{\\phi}(\\mathbf{p}_k) > \\alpha \\lambda\\| \\nabla\\boldsymbol{\\phi}(\\mathbf{p}_k) \\|^2$:\n",
    "\n",
    "a) caso não seja satisfeita $m = m + 1$\n",
    "\n",
    "b) calcula $\\lambda = \\beta^m$\n",
    "\n",
    "c) calcula $\\mathbf{p}_{+} = \\mathbf{p}_i -\\lambda\\nabla \\boldsymbol{\\phi}(\\mathbf{p})$\n",
    "\n",
    "d) calcula $\\phi(\\mathbf{p}_{+})$ e reorna para 4)\n",
    " \n",
    "5) testa a convergência, se for satisfeita o algoritmo para, caso contrário retorna para 1)"
   ]
  },
  {
   "cell_type": "code",
   "execution_count": 11,
   "metadata": {
    "collapsed": true
   },
   "outputs": [],
   "source": [
    "# zerando as listas\n",
    "p1_list = [p01]\n",
    "p2_list = [p02]\n",
    "phi_list = []"
   ]
  },
  {
   "cell_type": "code",
   "execution_count": 12,
   "metadata": {
    "collapsed": false
   },
   "outputs": [
    {
     "ename": "NameError",
     "evalue": "name 'grad_rosenbrock' is not defined",
     "output_type": "error",
     "traceback": [
      "\u001b[0;31m---------------------------------------------------------------------------\u001b[0m",
      "\u001b[0;31mNameError\u001b[0m                                 Traceback (most recent call last)",
      "\u001b[0;32m<ipython-input-12-f8aa7146b4ab>\u001b[0m in \u001b[0;36m<module>\u001b[0;34m()\u001b[0m\n\u001b[1;32m      1\u001b[0m \u001b[0;32mfor\u001b[0m \u001b[0mi\u001b[0m \u001b[0;32min\u001b[0m \u001b[0mrange\u001b[0m\u001b[0;34m(\u001b[0m\u001b[0;36m5000\u001b[0m\u001b[0;34m)\u001b[0m\u001b[0;34m:\u001b[0m\u001b[0;34m\u001b[0m\u001b[0m\n\u001b[1;32m      2\u001b[0m     \u001b[0;31m# calcula grad, p e phi\u001b[0m\u001b[0;34m\u001b[0m\u001b[0;34m\u001b[0m\u001b[0m\n\u001b[0;32m----> 3\u001b[0;31m     \u001b[0mgrad\u001b[0m \u001b[0;34m=\u001b[0m \u001b[0mgrad_rosenbrock\u001b[0m\u001b[0;34m(\u001b[0m\u001b[0mp0\u001b[0m\u001b[0;34m)\u001b[0m\u001b[0;34m\u001b[0m\u001b[0m\n\u001b[0m\u001b[1;32m      4\u001b[0m     \u001b[0mp\u001b[0m \u001b[0;34m=\u001b[0m \u001b[0mp0\u001b[0m \u001b[0;34m-\u001b[0m \u001b[0mlamb\u001b[0m\u001b[0;34m*\u001b[0m\u001b[0mgrad\u001b[0m\u001b[0;34m\u001b[0m\u001b[0m\n\u001b[1;32m      5\u001b[0m     \u001b[0mphi\u001b[0m \u001b[0;34m=\u001b[0m \u001b[0mrosenbrock\u001b[0m\u001b[0;34m(\u001b[0m\u001b[0mp\u001b[0m\u001b[0;34m)\u001b[0m\u001b[0;34m\u001b[0m\u001b[0m\n",
      "\u001b[0;31mNameError\u001b[0m: name 'grad_rosenbrock' is not defined"
     ]
    }
   ],
   "source": [
    "for i in range(5000):\n",
    "    # calcula grad, p e phi\n",
    "    grad = grad_rosenbrock(p0)\n",
    "    p = p0 - lamb*grad\n",
    "    phi = rosenbrock(p)\n",
    "    #print phi - phi0\n",
    "    #print alfa*lamb*np.sqrt(np.sum(grad*grad))\n",
    "    \n",
    "    # condição de Armijo\n",
    "    while phi - phi0 > alfa*lamb*np.sum(grad*grad):\n",
    "        m += 1.\n",
    "        #print m\n",
    "        lamb = beta**m\n",
    "        #print lamb\n",
    "        p = p0 - lamb*grad\n",
    "        phi = rosenbrock(p)\n",
    "        #print phi\n",
    "        #grad = grad_rosenbrock(p)\n",
    "        #print grad\n",
    "    \n",
    "    # atualiza p0 e phi0\n",
    "    p0 = p\n",
    "    phi0 = phi\n",
    "    \n",
    "    # armazena os valores nas listas\n",
    "    phi_list.append(phi0)\n",
    "    p1_list.append(p0[0])\n",
    "    p2_list.append(p0[1])"
   ]
  },
  {
   "cell_type": "code",
   "execution_count": null,
   "metadata": {
    "collapsed": false
   },
   "outputs": [],
   "source": [
    "#plot\n",
    "plt.figure(figsize=(5,5))\n",
    "plt.plot(1., 1., 'oy')\n",
    "plt.plot(p1_list, p2_list, '.w-', markersize=1)\n",
    "plt.title('SD com Armijo - Rosenbrock', fontsize=18)\n",
    "plt.contourf(p1, p2, phi_eq, 40, cmap='jet')\n",
    "plt.xlabel('$p_1$', fontsize=18)\n",
    "plt.ylabel('$p_2$', fontsize=18)\n",
    "plt.colorbar(pad=0.01, aspect=20, shrink=1)\n",
    "plt.savefig('plot_rosenbrock_Armijo.png', pad_inches=0.0)\n",
    "plt.show()"
   ]
  },
  {
   "cell_type": "code",
   "execution_count": null,
   "metadata": {
    "collapsed": false
   },
   "outputs": [],
   "source": [
    "plt.title('Convergence', fontsize = 18)\n",
    "plt.xlabel('Iteration number')\n",
    "plt.ylabel('Phi value')\n",
    "plt.plot(phi_list, 'o')\n",
    "plt.savefig('convergence.png', dpi=300)\n",
    "plt.show()"
   ]
  },
  {
   "cell_type": "code",
   "execution_count": null,
   "metadata": {
    "collapsed": true
   },
   "outputs": [],
   "source": []
  }
 ],
 "metadata": {
  "kernelspec": {
   "display_name": "Python 2",
   "language": "python",
   "name": "python2"
  },
  "language_info": {
   "codemirror_mode": {
    "name": "ipython",
    "version": 2
   },
   "file_extension": ".py",
   "mimetype": "text/x-python",
   "name": "python",
   "nbconvert_exporter": "python",
   "pygments_lexer": "ipython2",
   "version": "2.7.13"
  }
 },
 "nbformat": 4,
 "nbformat_minor": 2
}
