{
 "cells": [
  {
   "cell_type": "markdown",
   "metadata": {},
   "source": [
    "# Steepest descent aplicado à função geofísica"
   ]
  },
  {
   "cell_type": "markdown",
   "metadata": {},
   "source": [
    "Este algoritmo aplica o método de otimização Steepest descent à função matemática de Rosenbrock, a qual é definida pela equação geral:"
   ]
  },
  {
   "cell_type": "markdown",
   "metadata": {},
   "source": [
    "\\begin{equation}\n",
    "f(x,y) = (a - x)^2 + b(y - x^2)^2 ,\n",
    "\\end{equation}"
   ]
  },
  {
   "cell_type": "markdown",
   "metadata": {},
   "source": [
    "onde $a$ e $b$ são constantes e o mínimo dessa função é $(x,y)=(a,a^2)$, onde $f(a,a^2)=0$. Normalmente $a$ e $b$ são iguais a 1 e a 100, respectivamente, nesse caso, o mínimo dessa função é $(x,y)=(1,1)$."
   ]
  },
  {
   "cell_type": "markdown",
   "metadata": {},
   "source": [
    "Então a função a ser minimizada através do método steepest descente é:"
   ]
  },
  {
   "cell_type": "markdown",
   "metadata": {},
   "source": [
    "\\begin{equation}\n",
    "f(p_1,p_2) = 100(p_2 - p_1^2)^2 + (p_1 - 1)^2 ,\n",
    "\\end{equation}"
   ]
  },
  {
   "cell_type": "markdown",
   "metadata": {},
   "source": [
    "A proposta do código é encontrar o mínimo da função através de muitas iterações."
   ]
  },
  {
   "cell_type": "markdown",
   "metadata": {},
   "source": [
    "O método steepest descent é um método de convergência global, o qual se aproxima do mínimo com a direção de $-\\nabla \\boldsymbol{\\phi}(\\mathbf{p})$, que é menos o gradiente da função objetivo e $\\mathbf{p}$ é o vetor de parâmentros. O método possui o seguinte algoritmo:"
   ]
  },
  {
   "cell_type": "markdown",
   "metadata": {},
   "source": [
    "1) estabelece um chute inicial $\\mathbf{p}_i$\n",
    "\n",
    "2) determina a direção $\\mathbf{a}_i$ que diminua $\\boldsymbol{\\phi}$ em torno de $\\mathbf{p}_i$\n",
    "\n",
    "3) calcula $\\mathbf{p}_{i+1} = \\mathbf{p}_i + \\rho _i \\mathbf{a}_i$, onde $\\rho_i$ é um escalar que modula o passo em direção ao mínimo e $\\mathbf{a}_i = -\\nabla \\boldsymbol{\\phi}(\\mathbf{p})$\n",
    " \n",
    "4) testa a convergência, se for satisfeita o algoritmo para, caso contrário retorna para 1)"
   ]
  },
  {
   "cell_type": "markdown",
   "metadata": {},
   "source": [
    "# Importando pacotes"
   ]
  },
  {
   "cell_type": "code",
   "execution_count": 1,
   "metadata": {
    "collapsed": false
   },
   "outputs": [
    {
     "name": "stderr",
     "output_type": "stream",
     "text": [
      "/home/vital/anaconda2/lib/python2.7/site-packages/fatiando/vis/mpl.py:76: UserWarning: This module will be removed in v0.6. We recommend the use of matplotlib.pyplot module directly. Some of the fatiando specific functions will remain.\n",
      "  \"specific functions will remain.\")\n",
      "/home/vital/anaconda2/lib/python2.7/site-packages/fatiando/vis/myv.py:51: UserWarning: This module will be removed in v0.7.\n",
      "  warnings.warn(\"This module will be removed in v0.7.\")\n"
     ]
    }
   ],
   "source": [
    "import numpy as np\n",
    "import matplotlib.pyplot as plt\n",
    "import cPickle as pickle\n",
    "from visual import histeq\n",
    "from fatiando.mesher import PolygonalPrism\n",
    "from IPython.display import Image as img\n",
    "from fatiando.gravmag import polyprism\n",
    "from copy import deepcopy\n",
    "from fatiando.vis import mpl, myv\n",
    "\n",
    "import sys\n",
    "sys.path.insert(0, '../magnetic-radial-inversion/code')\n",
    "\n",
    "import mag_polyprism_functions as mfun"
   ]
  },
  {
   "cell_type": "markdown",
   "metadata": {},
   "source": [
    "# Modelagem direta"
   ]
  },
  {
   "cell_type": "code",
   "execution_count": 2,
   "metadata": {
    "collapsed": true
   },
   "outputs": [],
   "source": [
    "with open('data/cylinder_model.pickle') as w:\n",
    "        cylinder_model = pickle.load(w)\n",
    "with open('data/cylinder_data.pickle') as w:\n",
    "        cylinder_data = pickle.load(w)\n",
    "with open('data/regular_grid.pickle') as w:\n",
    "        regular_grid = pickle.load(w)"
   ]
  },
  {
   "cell_type": "raw",
   "metadata": {},
   "source": [
    "bounds = [-800., 800., -800., 800., -200.0, 800.]\n",
    "\n",
    "red, green, blue = (1, 0, 0), (0, 1, 0), (0, 0, 1)\n",
    "white, black = (1, 1, 1), (0, 0, 0),\n",
    "\n",
    "# Show the model\n",
    "scene = myv.figure()\n",
    "myv.polyprisms(cylinder_model['prisms'], 'magnetization', color=blue, opacity=1.)\n",
    "\n",
    "ax = myv.axes(myv.outline(bounds), ranges=[i * 0.001 for i in bounds])\n",
    "ax.axes.x_label, ax.axes.y_label, ax.axes.z_label = 'x (m)', 'y (m)', 'z (m)'\n",
    "ax.axes.font_factor = 1.5\n",
    "scene.scene.camera.position = [-0.089204656936016313, -0.066107174155361687, -0.04083578885723696]\n",
    "scene.scene.camera.focal_point = [1.1820671636724554e-16, 1.3134079596360617e-17, -1.9701119394540926e-17]\n",
    "scene.scene.camera.view_angle = 30.0\n",
    "scene.scene.camera.view_up = [0.24683390337942718, 0.24593292331329802, -0.93733132955911114]\n",
    "scene.scene.camera.clipping_range = [0.057117737884348194, 0.1956040854922288]\n",
    "scene.scene.camera.compute_view_plane_normal()\n",
    "\n",
    "myv.wall_bottom(ax.axes.bounds, opacity=0.2)\n",
    "myv.wall_north(ax.axes.bounds)\n",
    "myv.savefig('bolacha.png')\n",
    "myv.show()"
   ]
  },
  {
   "cell_type": "code",
   "execution_count": 3,
   "metadata": {
    "collapsed": false
   },
   "outputs": [
    {
     "data": {
      "image/png": "[encoded data removed]",
      "text/plain": [
       "<IPython.core.display.Image object>"
      ]
     },
     "execution_count": 3,
     "metadata": {},
     "output_type": "execute_result"
    }
   ],
   "source": [
    "img(filename='bolacha.png')"
   ]
  },
  {
   "cell_type": "markdown",
   "metadata": {},
   "source": [
    "## Plotando a função"
   ]
  },
  {
   "cell_type": "code",
   "execution_count": 4,
   "metadata": {
    "collapsed": false
   },
   "outputs": [
    {
     "data": {
      "image/png": "[encoded data removed]",
      "text/plain": [
       "<matplotlib.figure.Figure at 0x7f90d8f35390>"
      ]
     },
     "metadata": {},
     "output_type": "display_data"
    }
   ],
   "source": [
    "plt.figure(figsize=(5,5))\n",
    "plt.plot(500., 100., 'og')\n",
    "plt.title('Funcao objetivo', fontsize=18)\n",
    "plt.contourf(cylinder_data['p1'], cylinder_data['p2'], cylinder_data['phi_eq'], 50, cmap='jet')\n",
    "plt.xlabel('$r$ (m)', fontsize=18)\n",
    "plt.ylabel('$z_0$ (m)', fontsize=18)\n",
    "plt.colorbar(pad=0.01, aspect=20, shrink=1)\n",
    "plt.savefig('plot_geo_prob.png', pad_inches=0.0)\n",
    "plt.show()"
   ]
  },
  {
   "cell_type": "markdown",
   "metadata": {},
   "source": [
    "# Funções"
   ]
  },
  {
   "cell_type": "code",
   "execution_count": 5,
   "metadata": {
    "collapsed": false
   },
   "outputs": [],
   "source": [
    "def derivative_tf_z0(xp, yp, zp, prism, M, deltaz, inc, dec):\n",
    "    '''\n",
    "    This function calculates the derivative for total field anomaly\n",
    "    from a model of polygonal prisms using finite difference.\n",
    "\n",
    "    input\n",
    "\n",
    "    xp: array - x observation points\n",
    "    yp: array - y observation points\n",
    "    zp: array - z observation points\n",
    "    prism: list - list of one fatiando.mesher.PolygonalPrism\n",
    "    M: int - number of vertices per prism\n",
    "    delta: float - increment in x coordinate in meters\n",
    "    inc: float - inclination\n",
    "    dec: declination\n",
    "\n",
    "    output\n",
    "\n",
    "    df: 1D array - derivative\n",
    "    '''\n",
    "    assert xp.size == yp.size == zp.size, 'The number of points in x, y and z must be equal'\n",
    "\n",
    "    prism_plus = deepcopy([prism])  # m.x + delta\n",
    "    prism_minus = deepcopy([prism])  # m.x - deltaa\n",
    "    prism_plus[0].z1 += deltaz\n",
    "    prism_minus[0].z1 -= deltaz\n",
    "\n",
    "    df = polyprism.tf(xp, yp, zp, prism_plus, inc, dec)\n",
    "    df -= polyprism.tf(xp, yp, zp, prism_minus, inc, dec)\n",
    "    df /= (2.*deltaz)\n",
    "\n",
    "    return df\n",
    "\n",
    "def derivative_tf_radiall(xp, yp, zp, prism, M, deltar, inc, dec):\n",
    "    '''\n",
    "    This function calculates the derivative for total field anomaly\n",
    "    from a model of polygonal prisms using finite difference.\n",
    "\n",
    "    input\n",
    "\n",
    "    xp: array - x observation points\n",
    "    yp: array - y observation points\n",
    "    zp: array - z observation points\n",
    "    prism: list - list of a fatiando.mesher.PolygonalPrism\n",
    "    M: int - number of vertices per prism\n",
    "    deltar: float - increment in radial distance in meters\n",
    "    inc: float - inclination\n",
    "    dec: declination\n",
    "\n",
    "    output\n",
    "\n",
    "    df: 1D array - derivative\n",
    "    '''\n",
    "    assert xp.size == yp.size == zp.size, 'The number of points in x, y and z must be equal'\n",
    "    \n",
    "    ang = 2.*np.pi/M # angle between two vertices\n",
    "    \n",
    "    prism_plus = deepcopy([prism])  # m.x + delta\n",
    "    prism_minus = deepcopy([prism])  # m.x - delta\n",
    "\n",
    "    for i in range(M):\n",
    "        deltax = deltar*np.cos(i*ang)\n",
    "        deltay = deltar*np.sin(i*ang)\n",
    "        prism_plus[0].x[i] += deltax\n",
    "        prism_plus[0].y[i] += deltay\n",
    "        prism_minus[0].x[i] -= deltax\n",
    "        prism_minus[0].y[i] -= deltay\n",
    "\n",
    "    df = polyprism.tf(xp, yp, zp, prism_plus, inc, dec)\n",
    "    df -= polyprism.tf(xp, yp, zp, prism_minus, inc, dec)\n",
    "    df /= (2.*deltar)\n",
    "\n",
    "    return df\n",
    "\n",
    "# calculando jacobiana de phi\n",
    "def jacobi_geo(xp, yp, zp, prism, M, deltar, deltaz, inc, dec):\n",
    "    '''\n",
    "    Returns the sensitivity matrix for polygonal prisms using finite\n",
    "    differences.\n",
    "\n",
    "    input\n",
    "\n",
    "    xp: array - x observation points\n",
    "    yp: array - y observation points\n",
    "    zp: array - z observation points\n",
    "    prism: list - list of fatiando.mesher.PolygonalPrism\n",
    "    M: int - number of vertices per prism\n",
    "    deltar: float - increment in meters for radial distance\n",
    "    deltaz: float - increment in meters for depth\n",
    "    inc: float - inclination of the local-geomagnetic field\n",
    "    dec: declination of the local-geomagnetic field\n",
    "\n",
    "    output\n",
    "\n",
    "    G: 2D array - sensitivity matrix\n",
    "    '''\n",
    "    assert xp.size == yp.size == zp.size, 'The number of points in x, y and z must be equal'\n",
    "\n",
    "    G = np.zeros((xp.size, 2))\n",
    "\n",
    "    G[:, 0] = derivative_tf_radiall(xp, yp, zp, prism[0], M, deltar, inc, dec)\n",
    "    G[:, 1] = derivative_tf_z0(xp, yp, zp, prism[0], M, deltaz, inc, dec)\n",
    "\n",
    "    return G"
   ]
  },
  {
   "cell_type": "markdown",
   "metadata": {},
   "source": [
    "# Modelo interpretativo"
   ]
  },
  {
   "cell_type": "code",
   "execution_count": 6,
   "metadata": {
    "collapsed": false
   },
   "outputs": [],
   "source": [
    "# chute inicial\n",
    "p01 = 600.\n",
    "p02 = 330.\n",
    "\n",
    "# incremento para as derivadas\n",
    "deltar = 0.01*p01\n",
    "deltaz = 0.01*p02\n",
    "\n",
    "r = np.zeros(cylinder_model['M']) + p01 # radial distance for each vertice\n",
    "\n",
    "# Cartesian coordinates of the origin of each prism\n",
    "x0 = 0. \n",
    "y0 = 0.\n",
    "\n",
    "l = [[r, x0, y0, p02, cylinder_model['dz'], cylinder_model['props']]]"
   ]
  },
  {
   "cell_type": "code",
   "execution_count": 7,
   "metadata": {
    "collapsed": false
   },
   "outputs": [],
   "source": [
    "prism0 = mfun.pol2cart(l, cylinder_model['M'], cylinder_model['L'])\n",
    "\n",
    "d0 = polyprism.tf(regular_grid['xp'], regular_grid['yp'], regular_grid['zp'],\n",
    "                    prism0, cylinder_model['inc'], cylinder_model['dec'])\n",
    "\n",
    "# vetor do chute inicial\n",
    "p0 = np.array([p01,p02]) \n",
    "\n",
    "# parâmetros para o critério de Armijo\n",
    "mi = 0.001\n",
    "lamb = 1.\n",
    "epsilon = 0.00001\n",
    "\n",
    "# calculando o valor da função e do resíduo em p0\n",
    "res0 = cylinder_data['data_noise'] - d0\n",
    "phi0 = np.sum(res0*res0)\n",
    "\n",
    "\n",
    "p1_list = [p01]\n",
    "p2_list = [p02]\n",
    "phi_list = [phi0]"
   ]
  },
  {
   "cell_type": "markdown",
   "metadata": {},
   "source": [
    "# Algoritmo Steepest Descent"
   ]
  },
  {
   "cell_type": "code",
   "execution_count": 8,
   "metadata": {
    "collapsed": false
   },
   "outputs": [
    {
     "name": "stdout",
     "output_type": "stream",
     "text": [
      "  0 6.02e+02 3.14e+02 2.27913e+03\n",
      "  1 6.05e+02 2.98e+02 2.03296e+03\n",
      "  2 6.07e+02 2.83e+02 1.79858e+03\n",
      "  3 6.09e+02 2.68e+02 1.57932e+03\n",
      "  4 6.11e+02 2.54e+02 1.37813e+03\n",
      "  5 6.12e+02 2.40e+02 1.19720e+03\n",
      "  6 6.13e+02 2.27e+02 1.03782e+03\n",
      "  7 6.13e+02 2.15e+02 9.00189e+02\n",
      "  8 6.13e+02 2.04e+02 7.83509e+02\n",
      "  9 6.13e+02 1.94e+02 6.86096e+02\n",
      " 10 6.12e+02 1.84e+02 6.05660e+02\n",
      " 11 6.10e+02 1.76e+02 5.39611e+02\n",
      " 12 6.08e+02 1.69e+02 4.85340e+02\n",
      " 13 6.06e+02 1.62e+02 4.40440e+02\n",
      " 14 6.04e+02 1.56e+02 4.02843e+02\n",
      " 15 6.01e+02 1.51e+02 3.70867e+02\n",
      " 16 5.98e+02 1.46e+02 3.43210e+02\n",
      " 17 5.95e+02 1.42e+02 3.18900e+02\n",
      " 18 5.92e+02 1.38e+02 2.97235e+02\n",
      " 19 5.89e+02 1.34e+02 2.77713e+02\n",
      " 20 5.85e+02 1.31e+02 2.59982e+02\n",
      " 21 5.82e+02 1.28e+02 2.43792e+02\n",
      " 22 5.79e+02 1.26e+02 2.28963e+02\n",
      " 23 5.76e+02 1.23e+02 2.15361e+02\n",
      " 24 5.73e+02 1.21e+02 2.02881e+02\n",
      " 25 5.70e+02 1.19e+02 1.91438e+02\n",
      " 26 5.67e+02 1.17e+02 1.80960e+02\n",
      " 27 5.64e+02 1.15e+02 1.71380e+02\n",
      " 28 5.61e+02 1.13e+02 1.62638e+02\n",
      " 29 5.58e+02 1.11e+02 1.54678e+02\n",
      " 30 5.56e+02 1.10e+02 1.47446e+02\n",
      " 31 5.53e+02 1.08e+02 1.40889e+02\n",
      " 32 5.51e+02 1.07e+02 1.34960e+02\n",
      " 33 5.49e+02 1.06e+02 1.29610e+02\n",
      " 34 5.47e+02 1.04e+02 1.24795e+02\n",
      " 35 5.45e+02 1.03e+02 1.20471e+02\n",
      " 36 5.43e+02 1.02e+02 1.16599e+02\n",
      " 37 5.41e+02 1.01e+02 1.13139e+02\n",
      " 38 5.39e+02 9.97e+01 1.10056e+02\n",
      " 39 5.37e+02 9.87e+01 1.07316e+02\n",
      " 40 5.36e+02 9.78e+01 1.04887e+02\n",
      " 41 5.34e+02 9.69e+01 1.02740e+02\n",
      " 42 5.33e+02 9.60e+01 1.00848e+02\n",
      " 43 5.31e+02 9.53e+01 9.91849e+01\n",
      " 44 5.30e+02 9.45e+01 9.77284e+01\n",
      " 45 5.29e+02 9.38e+01 9.64571e+01\n",
      " 46 5.28e+02 9.31e+01 9.53515e+01\n",
      " 47 5.27e+02 9.25e+01 9.43938e+01\n",
      " 48 5.25e+02 9.19e+01 9.35678e+01\n",
      " 49 5.24e+02 9.13e+01 9.28590e+01\n",
      " 50 5.24e+02 9.08e+01 9.22539e+01\n",
      " 51 5.23e+02 9.03e+01 9.17407e+01\n",
      " 52 5.22e+02 8.98e+01 9.13085e+01\n",
      " 53 5.21e+02 8.94e+01 9.09475e+01\n",
      " 54 5.20e+02 8.90e+01 9.06490e+01\n",
      " 55 5.20e+02 8.86e+01 9.04053e+01\n",
      " 56 5.19e+02 8.82e+01 9.02093e+01\n",
      " 57 5.18e+02 8.79e+01 9.00549e+01\n",
      " 58 5.18e+02 8.75e+01 8.99364e+01\n",
      " 59 5.17e+02 8.72e+01 8.98489e+01\n",
      " 60 5.16e+02 8.69e+01 8.97881e+01\n",
      " 61 5.16e+02 8.66e+01 8.97502e+01\n",
      " 62 5.15e+02 8.64e+01 8.97318e+01\n",
      " 63 5.15e+02 8.61e+01 8.97297e+01\n",
      " 64 5.15e+02 8.59e+01 8.97415e+01\n",
      " 65 5.14e+02 8.57e+01 8.97648e+01\n",
      " 66 5.14e+02 8.55e+01 8.97976e+01\n",
      " 67 5.13e+02 8.53e+01 8.98382e+01\n",
      " 68 5.13e+02 8.51e+01 8.98850e+01\n",
      " 69 5.13e+02 8.50e+01 8.99367e+01\n",
      " 70 5.13e+02 8.48e+01 8.99921e+01\n",
      " 71 5.12e+02 8.46e+01 9.00503e+01\n",
      " 72 5.12e+02 8.45e+01 9.01104e+01\n",
      " 73 5.12e+02 8.44e+01 9.01717e+01\n",
      " 74 5.12e+02 8.42e+01 9.02337e+01\n",
      " 75 5.11e+02 8.41e+01 9.02957e+01\n",
      " 76 5.11e+02 8.40e+01 9.03574e+01\n",
      " 77 5.11e+02 8.39e+01 9.04183e+01\n",
      " 78 5.11e+02 8.38e+01 9.04783e+01\n",
      " 79 5.11e+02 8.37e+01 9.05370e+01\n",
      " 80 5.10e+02 8.36e+01 9.05943e+01\n",
      " 81 5.10e+02 8.36e+01 9.06500e+01\n",
      " 82 5.10e+02 8.35e+01 9.07040e+01\n",
      " 83 5.10e+02 8.34e+01 9.07562e+01\n",
      " 84 5.10e+02 8.33e+01 9.08065e+01\n",
      " 85 5.10e+02 8.33e+01 9.08550e+01\n",
      " 86 5.10e+02 8.32e+01 9.09016e+01\n",
      " 87 5.09e+02 8.32e+01 9.09463e+01\n",
      " 88 5.09e+02 8.31e+01 9.09890e+01\n",
      " 89 5.09e+02 8.31e+01 9.10300e+01\n",
      " 90 5.09e+02 8.30e+01 9.10690e+01\n",
      " 91 5.09e+02 8.30e+01 9.11063e+01\n",
      " 92 5.09e+02 8.29e+01 9.11419e+01\n",
      " 93 5.09e+02 8.29e+01 9.11757e+01\n",
      " 94 5.09e+02 8.29e+01 9.12079e+01\n",
      " 95 5.09e+02 8.28e+01 9.12384e+01\n",
      " 96 5.09e+02 8.28e+01 9.12675e+01\n",
      " 97 5.09e+02 8.28e+01 9.12950e+01\n",
      " 98 5.09e+02 8.27e+01 9.13212e+01\n",
      " 99 5.09e+02 8.27e+01 9.13460e+01\n",
      "100 5.09e+02 8.27e+01 9.13694e+01\n",
      "101 5.09e+02 8.27e+01 9.13916e+01\n",
      "102 5.08e+02 8.26e+01 9.14127e+01\n",
      "103 5.08e+02 8.26e+01 9.14326e+01\n",
      "104 5.08e+02 8.26e+01 9.14514e+01\n",
      "105 5.08e+02 8.26e+01 9.14691e+01\n",
      "106 5.08e+02 8.26e+01 9.14859e+01\n",
      "107 5.08e+02 8.25e+01 9.15018e+01\n",
      "108 5.08e+02 8.25e+01 9.15168e+01\n",
      "109 5.08e+02 8.25e+01 9.15309e+01\n",
      "110 5.08e+02 8.25e+01 9.15443e+01\n",
      "111 5.08e+02 8.25e+01 9.15568e+01\n",
      "112 5.08e+02 8.25e+01 9.15687e+01\n",
      "113 5.08e+02 8.25e+01 9.15799e+01\n",
      "114 5.08e+02 8.25e+01 9.15905e+01\n",
      "115 5.08e+02 8.24e+01 9.16004e+01\n",
      "116 5.08e+02 8.24e+01 9.16098e+01\n",
      "117 5.08e+02 8.24e+01 9.16186e+01\n",
      "118 5.08e+02 8.24e+01 9.16269e+01\n",
      "119 5.08e+02 8.24e+01 9.16348e+01\n",
      "120 5.08e+02 8.24e+01 9.16422e+01\n",
      "121 5.08e+02 8.24e+01 9.16491e+01\n",
      "122 5.08e+02 8.24e+01 9.16557e+01\n",
      "123 5.08e+02 8.24e+01 9.16618e+01\n",
      "124 5.08e+02 8.24e+01 9.16676e+01\n",
      "125 5.08e+02 8.24e+01 9.16731e+01\n",
      "126 5.08e+02 8.24e+01 9.16782e+01\n",
      "127 5.08e+02 8.24e+01 9.16831e+01\n",
      "128 5.08e+02 8.24e+01 9.16876e+01\n",
      "129 5.08e+02 8.24e+01 9.16919e+01\n",
      "130 5.08e+02 8.24e+01 9.16960e+01\n",
      "131 5.08e+02 8.23e+01 9.16998e+01\n",
      "132 5.08e+02 8.23e+01 9.17033e+01\n",
      "133 5.08e+02 8.23e+01 9.17067e+01\n",
      "134 5.08e+02 8.23e+01 9.17098e+01\n",
      "135 5.08e+02 8.23e+01 9.17128e+01\n",
      "136 5.08e+02 8.23e+01 9.17156e+01\n",
      "137 5.08e+02 8.23e+01 9.17182e+01\n",
      "138 5.08e+02 8.23e+01 9.17207e+01\n",
      "139 5.08e+02 8.23e+01 9.17230e+01\n",
      "140 5.08e+02 8.23e+01 9.17252e+01\n",
      "141 5.08e+02 8.23e+01 9.17273e+01\n",
      "142 5.08e+02 8.23e+01 9.17292e+01\n",
      "143 5.08e+02 8.23e+01 9.17310e+01\n",
      "144 5.08e+02 8.23e+01 9.17327e+01\n",
      "145 5.08e+02 8.23e+01 9.17343e+01\n",
      "146 5.08e+02 8.23e+01 9.17359e+01\n",
      "147 5.08e+02 8.23e+01 9.17373e+01\n",
      "148 5.08e+02 8.23e+01 9.17386e+01\n",
      "149 5.08e+02 8.23e+01 9.17399e+01\n",
      "150 5.08e+02 8.23e+01 9.17411e+01\n",
      "151 5.08e+02 8.23e+01 9.17422e+01\n",
      "152 5.08e+02 8.23e+01 9.17432e+01\n",
      "153 5.08e+02 8.23e+01 9.17442e+01\n",
      "154 5.08e+02 8.23e+01 9.17451e+01\n"
     ]
    }
   ],
   "source": [
    "for i in range(10000):\n",
    "    # calculando a Jacobiana e o gradiente\n",
    "    G = jacobi_geo(regular_grid['xp'], regular_grid['yp'], regular_grid['zp'], prism0, cylinder_model['M'],\n",
    "                   deltar, deltaz, cylinder_model['inc'], cylinder_model['dec'])\n",
    "    grad = -2.*np.dot(G.T, res0) + mi*p0\n",
    "    #print grad\n",
    "    # calculando p e atualizando para a próxima iteração\n",
    "    p = p0 - lamb*grad\n",
    "    #print p, p0\n",
    "    l = [[np.zeros(cylinder_model['M']) + p[0], x0, y0, p[1], cylinder_model['dz'], cylinder_model['props']]]\n",
    "    prism = mfun.pol2cart(l, cylinder_model['M'], cylinder_model['L'])\n",
    "    d = polyprism.tf(regular_grid['xp'], regular_grid['yp'], regular_grid['zp'],\n",
    "                    prism, cylinder_model['inc'], cylinder_model['dec'])\n",
    "    res = cylinder_data['data_noise'] - d\n",
    "    phi = np.sum(res*res)\n",
    "    \n",
    "    if (abs(phi-phi0)/phi0 <= epsilon):\n",
    "        break\n",
    "    else:\n",
    "        # armazenando os resultados em listas para o plot\n",
    "        phi_list.append(phi)\n",
    "        p1_list.append(p[0])\n",
    "        p2_list.append(p[1])\n",
    "        \n",
    "        # atualizando parâmetros\n",
    "        p0 = p\n",
    "        d0 = d\n",
    "        res0 = res\n",
    "        phi0 = phi\n",
    "        prism0 = prism\n",
    "        \n",
    "        # printa os valores\n",
    "        print '%3d %.2e %.2e %.5e' % (i, p0[0], p0[1], phi0)"
   ]
  },
  {
   "cell_type": "code",
   "execution_count": 9,
   "metadata": {
    "collapsed": false
   },
   "outputs": [
    {
     "data": {
      "image/png": "[encoded data removed]",
      "text/plain": [
       "<matplotlib.figure.Figure at 0x7f90d6710a90>"
      ]
     },
     "metadata": {},
     "output_type": "display_data"
    }
   ],
   "source": [
    "#plot\n",
    "plt.figure(figsize=(5,5))\n",
    "plt.plot(500., 100., 'oy')\n",
    "plt.plot(p1_list, p2_list, '.w-', markersize=5)\n",
    "plt.title('SD - geofisica', fontsize=18)\n",
    "plt.contourf(cylinder_data['p1'], cylinder_data['p2'], cylinder_data['phi_eq'], 40, cmap='jet')\n",
    "plt.xlabel('$p_1$', fontsize=18)\n",
    "plt.ylabel('$p_2$', fontsize=18)\n",
    "plt.colorbar(pad=0.01, aspect=20, shrink=1)\n",
    "plt.savefig('plot_SD_geofisica.png', pad_inches=0.0)\n",
    "plt.show()"
   ]
  },
  {
   "cell_type": "code",
   "execution_count": 10,
   "metadata": {
    "collapsed": false,
    "scrolled": true
   },
   "outputs": [
    {
     "data": {
      "image/png": "[encoded data removed]",
      "text/plain": [
       "<matplotlib.figure.Figure at 0x7f90d91b2f50>"
      ]
     },
     "metadata": {},
     "output_type": "display_data"
    }
   ],
   "source": [
    "plt.title('Convergence', fontsize = 18)\n",
    "plt.xlabel('Iteration number')\n",
    "plt.ylabel('Phi value')\n",
    "plt.plot(phi_list, 'o')\n",
    "plt.savefig('convergence_SD_geofisica.png', dpi=300)\n",
    "plt.show()"
   ]
  },
  {
   "cell_type": "code",
   "execution_count": null,
   "metadata": {
    "collapsed": true
   },
   "outputs": [],
   "source": []
  }
 ],
 "metadata": {
  "kernelspec": {
   "display_name": "Python 2",
   "language": "python",
   "name": "python2"
  },
  "language_info": {
   "codemirror_mode": {
    "name": "ipython",
    "version": 2
   },
   "file_extension": ".py",
   "mimetype": "text/x-python",
   "name": "python",
   "nbconvert_exporter": "python",
   "pygments_lexer": "ipython2",
   "version": "2.7.13"
  }
 },
 "nbformat": 4,
 "nbformat_minor": 2
}
