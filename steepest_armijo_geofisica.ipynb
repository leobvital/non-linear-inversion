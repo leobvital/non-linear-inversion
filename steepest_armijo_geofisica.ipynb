{
 "cells": [
  {
   "cell_type": "markdown",
   "metadata": {},
   "source": [
    "# Steepest Descent com critério de Armijo aplicado à função geofísica"
   ]
  },
  {
   "cell_type": "markdown",
   "metadata": {},
   "source": [
    "O método steepest descent é um método de convergência global, o qual se aproxima do mínimo com a direção de $-\\nabla \\boldsymbol{\\phi}(\\mathbf{p})$, que é menos o gradiente da função objetivo e $\\mathbf{p}$ é o vetor de parâmentros. Porém, para uma melhor aproximação do mínimo é necessário de um critério mais rigoroso para a escolha da largura do passo. Para isso a chamada regra de Armijo é um exemplo de line search. A condição a ser satisfeita para uma direção mais aceitável é, então:"
   ]
  },
  {
   "cell_type": "markdown",
   "metadata": {},
   "source": [
    "\\begin{equation}\n",
    "\\boldsymbol{\\phi}(\\mathbf{p}_{k+1}) - \\boldsymbol{\\phi}(\\mathbf{p}_k) < -\\alpha \\lambda\\| \\nabla\\boldsymbol{\\phi}(\\mathbf{p}_k) \\|^2  ,\n",
    "\\end{equation}"
   ]
  },
  {
   "cell_type": "markdown",
   "metadata": {},
   "source": [
    "onde $\\lambda = \\beta^m$, $m \\geq 0$ é o menor não-negativo inteiro para uma descida suficiente e $\\alpha,\\beta$ $\\epsilon$ $(0,1)$."
   ]
  },
  {
   "cell_type": "markdown",
   "metadata": {},
   "source": [
    "1) estabelece um chute inicial $\\mathbf{p}_i$\n",
    "\n",
    "2) determina a direção $\\mathbf{a}_i$ que diminua $\\boldsymbol{\\phi}$ em torno de $\\mathbf{p}_i$\n",
    "\n",
    "3) calcula $\\mathbf{p}_{i+1} = \\mathbf{p}_i -\\lambda\\nabla \\boldsymbol{\\phi}(\\mathbf{p})$\n",
    "\n",
    "4) verifica a condição de Armijo, enquanto $\\boldsymbol{\\phi}(\\mathbf{p}_{k+1}) - \\boldsymbol{\\phi}(\\mathbf{p}_k) > \\alpha \\lambda\\| \\nabla\\boldsymbol{\\phi}(\\mathbf{p}_k) \\|^2$:\n",
    "\n",
    "a) caso não seja satisfeita $m = m + 1$\n",
    "\n",
    "b) calcula $\\lambda = \\beta^m$\n",
    "\n",
    "c) calcula $\\mathbf{p}_{+} = \\mathbf{p}_i -\\lambda\\nabla \\boldsymbol{\\phi}(\\mathbf{p})$\n",
    "\n",
    "d) calcula $\\phi(\\mathbf{p}_{+})$ e reorna para 4)\n",
    " \n",
    "5) testa a convergência, se for satisfeita o algoritmo para, caso contrário retorna para 1)"
   ]
  },
  {
   "cell_type": "markdown",
   "metadata": {},
   "source": [
    "# Importando pacotes"
   ]
  },
  {
   "cell_type": "code",
   "execution_count": 1,
   "metadata": {
    "collapsed": false
   },
   "outputs": [
    {
     "name": "stderr",
     "output_type": "stream",
     "text": [
      "/home/leonardo/anaconda2/lib/python2.7/site-packages/fatiando/vis/mpl.py:76: UserWarning: This module will be removed in v0.6. We recommend the use of matplotlib.pyplot module directly. Some of the fatiando specific functions will remain.\n",
      "  \"specific functions will remain.\")\n",
      "/home/leonardo/anaconda2/lib/python2.7/site-packages/fatiando/vis/myv.py:51: UserWarning: This module will be removed in v0.7.\n",
      "  warnings.warn(\"This module will be removed in v0.7.\")\n"
     ]
    }
   ],
   "source": [
    "import numpy as np\n",
    "import matplotlib.pyplot as plt\n",
    "import cPickle as pickle\n",
    "from visual import histeq\n",
    "from fatiando.mesher import PolygonalPrism\n",
    "from IPython.display import Image as img\n",
    "from fatiando.gravmag import polyprism\n",
    "from copy import deepcopy\n",
    "from fatiando.vis import mpl, myv\n",
    "\n",
    "import sys\n",
    "sys.path.insert(0, '../magnetic-radial-inversion/code')\n",
    "\n",
    "import mag_polyprism_functions as mfun"
   ]
  },
  {
   "cell_type": "markdown",
   "metadata": {},
   "source": [
    "# Modelagem direta"
   ]
  },
  {
   "cell_type": "code",
   "execution_count": 2,
   "metadata": {
    "collapsed": true
   },
   "outputs": [],
   "source": [
    "with open('data/cylinder_model.pickle') as w:\n",
    "        cylinder_model = pickle.load(w)\n",
    "with open('data/cylinder_data.pickle') as w:\n",
    "        cylinder_data = pickle.load(w)\n",
    "with open('data/regular_grid.pickle') as w:\n",
    "        regular_grid = pickle.load(w)"
   ]
  },
  {
   "cell_type": "raw",
   "metadata": {},
   "source": [
    "bounds = [-800., 800., -800., 800., -200.0, 800.]\n",
    "\n",
    "red, green, blue = (1, 0, 0), (0, 1, 0), (0, 0, 1)\n",
    "white, black = (1, 1, 1), (0, 0, 0),\n",
    "\n",
    "# Show the model\n",
    "scene = myv.figure()\n",
    "myv.polyprisms(cylinder_model['prisms'], 'magnetization', color=blue, opacity=1.)\n",
    "\n",
    "ax = myv.axes(myv.outline(bounds), ranges=[i * 0.001 for i in bounds])\n",
    "ax.axes.x_label, ax.axes.y_label, ax.axes.z_label = 'x (m)', 'y (m)', 'z (m)'\n",
    "ax.axes.font_factor = 1.5\n",
    "scene.scene.camera.position = [-0.089204656936016313, -0.066107174155361687, -0.04083578885723696]\n",
    "scene.scene.camera.focal_point = [1.1820671636724554e-16, 1.3134079596360617e-17, -1.9701119394540926e-17]\n",
    "scene.scene.camera.view_angle = 30.0\n",
    "scene.scene.camera.view_up = [0.24683390337942718, 0.24593292331329802, -0.93733132955911114]\n",
    "scene.scene.camera.clipping_range = [0.057117737884348194, 0.1956040854922288]\n",
    "scene.scene.camera.compute_view_plane_normal()\n",
    "\n",
    "myv.wall_bottom(ax.axes.bounds, opacity=0.2)\n",
    "myv.wall_north(ax.axes.bounds)\n",
    "myv.savefig('bolacha.png')\n",
    "myv.show()"
   ]
  },
  {
   "cell_type": "code",
   "execution_count": 3,
   "metadata": {
    "collapsed": false
   },
   "outputs": [
    {
     "data": {
      "image/png": "[encoded data removed]",
      "text/plain": [
       "<IPython.core.display.Image object>"
      ]
     },
     "execution_count": 3,
     "metadata": {},
     "output_type": "execute_result"
    }
   ],
   "source": [
    "img(filename='bolacha.png')"
   ]
  },
  {
   "cell_type": "markdown",
   "metadata": {},
   "source": [
    "## Plotando a função"
   ]
  },
  {
   "cell_type": "code",
   "execution_count": 4,
   "metadata": {
    "collapsed": false
   },
   "outputs": [
    {
     "data": {
      "image/png": "[encoded data removed]",
      "text/plain": [
       "<matplotlib.figure.Figure at 0x7f17c1d5bc10>"
      ]
     },
     "metadata": {},
     "output_type": "display_data"
    }
   ],
   "source": [
    "plt.figure(figsize=(5,5))\n",
    "plt.plot(500., 100., 'og')\n",
    "plt.title('Funcao objetivo', fontsize=18)\n",
    "plt.contourf(cylinder_data['p1'], cylinder_data['p2'], cylinder_data['phi_eq'], 50, cmap='jet')\n",
    "plt.xlabel('$r$ (m)', fontsize=18)\n",
    "plt.ylabel('$z_0$ (m)', fontsize=18)\n",
    "plt.colorbar(pad=0.01, aspect=20, shrink=1)\n",
    "plt.savefig('plot_geo_prob.png', pad_inches=0.0)\n",
    "plt.show()"
   ]
  },
  {
   "cell_type": "markdown",
   "metadata": {},
   "source": [
    "# Funções"
   ]
  },
  {
   "cell_type": "code",
   "execution_count": 5,
   "metadata": {
    "collapsed": false
   },
   "outputs": [],
   "source": [
    "def derivative_tf_z0(xp, yp, zp, prism, M, deltaz, inc, dec):\n",
    "    '''\n",
    "    This function calculates the derivative for total field anomaly\n",
    "    from a model of polygonal prisms using finite difference.\n",
    "\n",
    "    input\n",
    "\n",
    "    xp: array - x observation points\n",
    "    yp: array - y observation points\n",
    "    zp: array - z observation points\n",
    "    prism: list - list of one fatiando.mesher.PolygonalPrism\n",
    "    M: int - number of vertices per prism\n",
    "    delta: float - increment in x coordinate in meters\n",
    "    inc: float - inclination\n",
    "    dec: declination\n",
    "\n",
    "    output\n",
    "\n",
    "    df: 1D array - derivative\n",
    "    '''\n",
    "    assert xp.size == yp.size == zp.size, 'The number of points in x, y and z must be equal'\n",
    "\n",
    "    prism_plus = deepcopy([prism])  # m.x + delta\n",
    "    prism_minus = deepcopy([prism])  # m.x - deltaa\n",
    "    prism_plus[0].z1 += deltaz\n",
    "    prism_minus[0].z1 -= deltaz\n",
    "\n",
    "    df = polyprism.tf(xp, yp, zp, prism_plus, inc, dec)\n",
    "    df -= polyprism.tf(xp, yp, zp, prism_minus, inc, dec)\n",
    "    df /= (2.*deltaz)\n",
    "\n",
    "    return df\n",
    "\n",
    "def derivative_tf_radiall(xp, yp, zp, prism, M, deltar, inc, dec):\n",
    "    '''\n",
    "    This function calculates the derivative for total field anomaly\n",
    "    from a model of polygonal prisms using finite difference.\n",
    "\n",
    "    input\n",
    "\n",
    "    xp: array - x observation points\n",
    "    yp: array - y observation points\n",
    "    zp: array - z observation points\n",
    "    prism: list - list of a fatiando.mesher.PolygonalPrism\n",
    "    M: int - number of vertices per prism\n",
    "    deltar: float - increment in radial distance in meters\n",
    "    inc: float - inclination\n",
    "    dec: declination\n",
    "\n",
    "    output\n",
    "\n",
    "    df: 1D array - derivative\n",
    "    '''\n",
    "    assert xp.size == yp.size == zp.size, 'The number of points in x, y and z must be equal'\n",
    "    \n",
    "    ang = 2.*np.pi/M # angle between two vertices\n",
    "    \n",
    "    prism_plus = deepcopy([prism])  # m.x + delta\n",
    "    prism_minus = deepcopy([prism])  # m.x - delta\n",
    "\n",
    "    for i in range(M):\n",
    "        deltax = deltar*np.cos(i*ang)\n",
    "        deltay = deltar*np.sin(i*ang)\n",
    "        prism_plus[0].x[i] += deltax\n",
    "        prism_plus[0].y[i] += deltay\n",
    "        prism_minus[0].x[i] -= deltax\n",
    "        prism_minus[0].y[i] -= deltay\n",
    "\n",
    "    df = polyprism.tf(xp, yp, zp, prism_plus, inc, dec)\n",
    "    df -= polyprism.tf(xp, yp, zp, prism_minus, inc, dec)\n",
    "    df /= (2.*deltar)\n",
    "\n",
    "    return df\n",
    "\n",
    "# calculando jacobiana de phi\n",
    "def jacobi_geo(xp, yp, zp, prism, M, deltar, deltaz, inc, dec):\n",
    "    '''\n",
    "    Returns the sensitivity matrix for polygonal prisms using finite\n",
    "    differences.\n",
    "\n",
    "    input\n",
    "\n",
    "    xp: array - x observation points\n",
    "    yp: array - y observation points\n",
    "    zp: array - z observation points\n",
    "    prism: list - list of fatiando.mesher.PolygonalPrism\n",
    "    M: int - number of vertices per prism\n",
    "    deltar: float - increment in meters for radial distance\n",
    "    deltaz: float - increment in meters for depth\n",
    "    inc: float - inclination of the local-geomagnetic field\n",
    "    dec: declination of the local-geomagnetic field\n",
    "\n",
    "    output\n",
    "\n",
    "    G: 2D array - sensitivity matrix\n",
    "    '''\n",
    "    assert xp.size == yp.size == zp.size, 'The number of points in x, y and z must be equal'\n",
    "\n",
    "    G = np.zeros((xp.size, 2))\n",
    "\n",
    "    G[:, 0] = derivative_tf_radiall(xp, yp, zp, prism[0], M, deltar, inc, dec)\n",
    "    G[:, 1] = derivative_tf_z0(xp, yp, zp, prism[0], M, deltaz, inc, dec)\n",
    "\n",
    "    return G"
   ]
  },
  {
   "cell_type": "markdown",
   "metadata": {},
   "source": [
    "# Modelo interpretativo"
   ]
  },
  {
   "cell_type": "code",
   "execution_count": 6,
   "metadata": {
    "collapsed": false
   },
   "outputs": [],
   "source": [
    "# chute inicial\n",
    "p01 = 600.\n",
    "p02 = 330.\n",
    "\n",
    "# incremento para as derivadas\n",
    "deltar = 0.001*p01\n",
    "deltaz = 0.001*p02\n",
    "\n",
    "r = np.zeros(cylinder_model['M']) + p01 # radial distance for each vertice\n",
    "\n",
    "# Cartesian coordinates of the origin of each prism\n",
    "x0 = 0. \n",
    "y0 = 0.\n",
    "\n",
    "l = [[r, x0, y0, p02, cylinder_model['dz'], cylinder_model['props']]]"
   ]
  },
  {
   "cell_type": "code",
   "execution_count": 7,
   "metadata": {
    "collapsed": false
   },
   "outputs": [],
   "source": [
    "prism0 = mfun.pol2cart(l, cylinder_model['M'], cylinder_model['L'])\n",
    "\n",
    "d0 = polyprism.tf(regular_grid['xp'], regular_grid['yp'], regular_grid['zp'],\n",
    "                    prism0, cylinder_model['inc'], cylinder_model['dec'])\n",
    "\n",
    "# vetor do chute inicial\n",
    "p0 = np.array([p01,p02]) \n",
    "\n",
    "# parâmetros para o critério de Armijo\n",
    "alfa = 0.0001\n",
    "beta = 0.4\n",
    "epsilon = 0.000001\n",
    "\n",
    "# calculando o valor da função e do resíduo em p0\n",
    "res0 = cylinder_data['data_noise'] - d0\n",
    "phi0 = np.sum(res0*res0)\n",
    "\n",
    "p1_list = [p01]\n",
    "p2_list = [p02]\n",
    "phi_list = [phi0]"
   ]
  },
  {
   "cell_type": "markdown",
   "metadata": {},
   "source": [
    "# Algoritmo Steepest Descent"
   ]
  },
  {
   "cell_type": "code",
   "execution_count": 8,
   "metadata": {
    "collapsed": false
   },
   "outputs": [
    {
     "name": "stdout",
     "output_type": "stream",
     "text": [
      "  0   1 6.02e+02 3.15e+02 6.81278e+04\n",
      "  1   1 6.04e+02 3.02e+02 6.79294e+04\n",
      "  2   1 6.06e+02 2.89e+02 6.77485e+04\n",
      "  3   1 6.08e+02 2.77e+02 6.75851e+04\n",
      "  4   1 6.09e+02 2.66e+02 6.74385e+04\n",
      "  5   1 6.11e+02 2.56e+02 6.73080e+04\n",
      "  6   1 6.12e+02 2.46e+02 6.71925e+04\n",
      "  7   1 6.12e+02 2.37e+02 6.70908e+04\n",
      "  8   1 6.13e+02 2.29e+02 6.70019e+04\n",
      "  9   1 6.13e+02 2.21e+02 6.69243e+04\n",
      " 10   1 6.14e+02 2.14e+02 6.68570e+04\n",
      " 11   1 6.14e+02 2.08e+02 6.67986e+04\n",
      " 12   1 6.14e+02 2.02e+02 6.67481e+04\n",
      " 13   1 6.14e+02 1.97e+02 6.67044e+04\n",
      " 14   1 6.13e+02 1.92e+02 6.66666e+04\n",
      " 15   1 6.13e+02 1.87e+02 6.66337e+04\n",
      " 16   1 6.12e+02 1.83e+02 6.66052e+04\n",
      " 17   1 6.12e+02 1.80e+02 6.65803e+04\n",
      " 18   1 6.11e+02 1.76e+02 6.65584e+04\n",
      " 19   1 6.11e+02 1.73e+02 6.65390e+04\n",
      " 20   1 6.10e+02 1.70e+02 6.65218e+04\n",
      " 21   1 6.09e+02 1.67e+02 6.65064e+04\n",
      " 22   1 6.08e+02 1.65e+02 6.64924e+04\n",
      " 23   1 6.07e+02 1.63e+02 6.64798e+04\n",
      " 24   1 6.06e+02 1.60e+02 6.64681e+04\n",
      " 25   1 6.06e+02 1.59e+02 6.64573e+04\n",
      " 26   1 6.05e+02 1.57e+02 6.64473e+04\n",
      " 27   1 6.04e+02 1.55e+02 6.64379e+04\n",
      " 28   1 6.03e+02 1.54e+02 6.64290e+04\n",
      " 29   1 6.02e+02 1.52e+02 6.64205e+04\n",
      " 30   1 6.01e+02 1.51e+02 6.64125e+04\n",
      " 31   1 5.99e+02 1.50e+02 6.64048e+04\n",
      " 32   1 5.98e+02 1.48e+02 6.63973e+04\n",
      " 33   1 5.97e+02 1.47e+02 6.63902e+04\n",
      " 34   1 5.96e+02 1.46e+02 6.63832e+04\n",
      " 35   1 5.95e+02 1.45e+02 6.63765e+04\n",
      " 36   1 5.94e+02 1.44e+02 6.63700e+04\n",
      " 37   1 5.93e+02 1.43e+02 6.63636e+04\n",
      " 38   1 5.92e+02 1.43e+02 6.63574e+04\n",
      " 39   1 5.91e+02 1.42e+02 6.63514e+04\n",
      " 40   1 5.90e+02 1.41e+02 6.63454e+04\n",
      " 41   1 5.89e+02 1.40e+02 6.63397e+04\n",
      " 42   1 5.88e+02 1.39e+02 6.63340e+04\n",
      " 43   1 5.87e+02 1.39e+02 6.63285e+04\n",
      " 44   1 5.86e+02 1.38e+02 6.63231e+04\n",
      " 45   1 5.85e+02 1.37e+02 6.63177e+04\n",
      " 46   1 5.84e+02 1.37e+02 6.63125e+04\n",
      " 47   1 5.83e+02 1.36e+02 6.63074e+04\n",
      " 48   1 5.82e+02 1.36e+02 6.63024e+04\n",
      " 49   1 5.81e+02 1.35e+02 6.62975e+04\n",
      " 50   1 5.80e+02 1.34e+02 6.62927e+04\n",
      " 51   1 5.79e+02 1.34e+02 6.62880e+04\n",
      " 52   1 5.78e+02 1.33e+02 6.62834e+04\n",
      " 53   1 5.77e+02 1.33e+02 6.62789e+04\n",
      " 54   1 5.76e+02 1.32e+02 6.62744e+04\n",
      " 55   1 5.75e+02 1.32e+02 6.62700e+04\n",
      " 56   1 5.74e+02 1.31e+02 6.62657e+04\n",
      " 57   1 5.73e+02 1.31e+02 6.62615e+04\n",
      " 58   1 5.72e+02 1.30e+02 6.62574e+04\n",
      " 59   1 5.71e+02 1.30e+02 6.62533e+04\n",
      " 60   1 5.70e+02 1.29e+02 6.62494e+04\n",
      " 61   1 5.70e+02 1.29e+02 6.62455e+04\n",
      " 62   1 5.69e+02 1.28e+02 6.62416e+04\n",
      " 63   1 5.68e+02 1.28e+02 6.62379e+04\n",
      " 64   1 5.67e+02 1.27e+02 6.62342e+04\n",
      " 65   1 5.66e+02 1.27e+02 6.62305e+04\n",
      " 66   1 5.65e+02 1.26e+02 6.62270e+04\n",
      " 67   1 5.64e+02 1.26e+02 6.62235e+04\n",
      " 68   1 5.64e+02 1.26e+02 6.62201e+04\n",
      " 69   1 5.63e+02 1.25e+02 6.62167e+04\n",
      " 70   1 5.62e+02 1.25e+02 6.62134e+04\n",
      " 71   1 5.61e+02 1.24e+02 6.62101e+04\n",
      " 72   1 5.60e+02 1.24e+02 6.62070e+04\n",
      " 73   1 5.60e+02 1.23e+02 6.62038e+04\n",
      " 74   1 5.59e+02 1.23e+02 6.62008e+04\n",
      " 75   1 5.58e+02 1.22e+02 6.61978e+04\n",
      " 76   1 5.57e+02 1.22e+02 6.61948e+04\n",
      " 77   1 5.57e+02 1.22e+02 6.61919e+04\n",
      " 78   1 5.56e+02 1.21e+02 6.61891e+04\n",
      " 79   1 5.55e+02 1.21e+02 6.61863e+04\n",
      " 80   1 5.54e+02 1.20e+02 6.61835e+04\n",
      " 81   1 5.54e+02 1.20e+02 6.61808e+04\n",
      " 82   1 5.53e+02 1.20e+02 6.61782e+04\n",
      " 83   1 5.52e+02 1.19e+02 6.61756e+04\n",
      " 84   1 5.52e+02 1.19e+02 6.61731e+04\n",
      " 85   1 5.51e+02 1.18e+02 6.61706e+04\n",
      " 86   1 5.50e+02 1.18e+02 6.61681e+04\n",
      " 87   1 5.50e+02 1.18e+02 6.61657e+04\n",
      " 88   1 5.49e+02 1.17e+02 6.61634e+04\n",
      " 89   1 5.48e+02 1.17e+02 6.61611e+04\n",
      " 90   1 5.48e+02 1.16e+02 6.61588e+04\n",
      " 91   1 5.47e+02 1.16e+02 6.61566e+04\n",
      " 92   1 5.46e+02 1.16e+02 6.61544e+04\n",
      " 93   1 5.46e+02 1.15e+02 6.61523e+04\n",
      " 94   1 5.45e+02 1.15e+02 6.61502e+04\n",
      " 95   1 5.44e+02 1.15e+02 6.61481e+04\n",
      " 96   1 5.44e+02 1.14e+02 6.61461e+04\n",
      " 97   1 5.43e+02 1.14e+02 6.61441e+04\n",
      " 98   1 5.43e+02 1.14e+02 6.61422e+04\n",
      " 99   1 5.42e+02 1.13e+02 6.61403e+04\n",
      "100   1 5.42e+02 1.13e+02 6.61384e+04\n",
      "101   1 5.41e+02 1.13e+02 6.61366e+04\n",
      "102   1 5.40e+02 1.12e+02 6.61348e+04\n",
      "103   1 5.40e+02 1.12e+02 6.61330e+04\n",
      "104   1 5.39e+02 1.11e+02 6.61313e+04\n",
      "105   1 5.39e+02 1.11e+02 6.61296e+04\n",
      "106   1 5.38e+02 1.11e+02 6.61280e+04\n",
      "107   1 5.38e+02 1.10e+02 6.61263e+04\n",
      "108   1 5.37e+02 1.10e+02 6.61247e+04\n",
      "109   1 5.37e+02 1.10e+02 6.61232e+04\n",
      "110   1 5.36e+02 1.10e+02 6.61217e+04\n",
      "111   1 5.36e+02 1.09e+02 6.61202e+04\n",
      "112   1 5.35e+02 1.09e+02 6.61187e+04\n",
      "113   1 5.35e+02 1.09e+02 6.61172e+04\n",
      "114   1 5.34e+02 1.08e+02 6.61158e+04\n",
      "115   1 5.34e+02 1.08e+02 6.61145e+04\n",
      "116   1 5.33e+02 1.08e+02 6.61131e+04\n",
      "117   1 5.33e+02 1.07e+02 6.61118e+04\n",
      "118   1 5.32e+02 1.07e+02 6.61105e+04\n",
      "119   1 5.32e+02 1.07e+02 6.61092e+04\n",
      "120   1 5.31e+02 1.06e+02 6.61080e+04\n",
      "121   1 5.31e+02 1.06e+02 6.61067e+04\n",
      "122   1 5.30e+02 1.06e+02 6.61055e+04\n",
      "123   1 5.30e+02 1.06e+02 6.61044e+04\n",
      "124   1 5.29e+02 1.05e+02 6.61032e+04\n",
      "125   1 5.29e+02 1.05e+02 6.61021e+04\n",
      "126   1 5.29e+02 1.05e+02 6.61010e+04\n",
      "127   1 5.28e+02 1.04e+02 6.60999e+04\n",
      "128   1 5.28e+02 1.04e+02 6.60988e+04\n",
      "129   1 5.27e+02 1.04e+02 6.60978e+04\n",
      "130   1 5.27e+02 1.04e+02 6.60968e+04\n",
      "131   1 5.27e+02 1.03e+02 6.60958e+04\n",
      "132   1 5.26e+02 1.03e+02 6.60948e+04\n",
      "133   1 5.26e+02 1.03e+02 6.60939e+04\n",
      "134   1 5.25e+02 1.03e+02 6.60929e+04\n",
      "135   1 5.25e+02 1.02e+02 6.60920e+04\n",
      "136   1 5.25e+02 1.02e+02 6.60911e+04\n",
      "137   1 5.24e+02 1.02e+02 6.60903e+04\n",
      "138   1 5.24e+02 1.02e+02 6.60894e+04\n",
      "139   1 5.23e+02 1.01e+02 6.60886e+04\n",
      "140   1 5.23e+02 1.01e+02 6.60877e+04\n",
      "141   1 5.23e+02 1.01e+02 6.60869e+04\n",
      "142   1 5.22e+02 1.01e+02 6.60862e+04\n",
      "143   1 5.22e+02 1.00e+02 6.60854e+04\n",
      "144   1 5.22e+02 1.00e+02 6.60846e+04\n",
      "145   1 5.21e+02 9.99e+01 6.60839e+04\n",
      "146   1 5.21e+02 9.97e+01 6.60832e+04\n",
      "147   1 5.21e+02 9.95e+01 6.60825e+04\n",
      "148   1 5.20e+02 9.93e+01 6.60818e+04\n",
      "149   1 5.20e+02 9.90e+01 6.60811e+04\n",
      "150   1 5.20e+02 9.88e+01 6.60804e+04\n",
      "151   1 5.19e+02 9.86e+01 6.60798e+04\n",
      "152   1 5.19e+02 9.84e+01 6.60792e+04\n",
      "153   1 5.19e+02 9.82e+01 6.60785e+04\n",
      "154   1 5.18e+02 9.79e+01 6.60779e+04\n",
      "155   1 5.18e+02 9.77e+01 6.60773e+04\n",
      "156   1 5.18e+02 9.75e+01 6.60768e+04\n",
      "157   1 5.18e+02 9.73e+01 6.60762e+04\n",
      "158   1 5.17e+02 9.71e+01 6.60756e+04\n",
      "159   1 5.17e+02 9.69e+01 6.60751e+04\n",
      "160   1 5.17e+02 9.67e+01 6.60746e+04\n",
      "161   1 5.16e+02 9.65e+01 6.60741e+04\n",
      "162   1 5.16e+02 9.63e+01 6.60735e+04\n",
      "163   1 5.16e+02 9.61e+01 6.60731e+04\n",
      "164   1 5.16e+02 9.59e+01 6.60726e+04\n",
      "165   1 5.15e+02 9.57e+01 6.60721e+04\n",
      "166   1 5.15e+02 9.56e+01 6.60716e+04\n",
      "167   1 5.15e+02 9.54e+01 6.60712e+04\n",
      "168   1 5.14e+02 9.52e+01 6.60707e+04\n",
      "169   1 5.14e+02 9.50e+01 6.60703e+04\n",
      "170   1 5.14e+02 9.48e+01 6.60699e+04\n",
      "171   1 5.14e+02 9.46e+01 6.60695e+04\n",
      "172   1 5.13e+02 9.45e+01 6.60691e+04\n",
      "173   1 5.13e+02 9.43e+01 6.60687e+04\n",
      "174   1 5.13e+02 9.41e+01 6.60683e+04\n",
      "175   1 5.13e+02 9.40e+01 6.60679e+04\n",
      "176   1 5.13e+02 9.38e+01 6.60675e+04\n",
      "177   1 5.12e+02 9.36e+01 6.60672e+04\n",
      "178   1 5.12e+02 9.34e+01 6.60668e+04\n",
      "179   1 5.12e+02 9.33e+01 6.60665e+04\n",
      "180   1 5.12e+02 9.31e+01 6.60661e+04\n",
      "181   1 5.11e+02 9.30e+01 6.60658e+04\n",
      "182   1 5.11e+02 9.28e+01 6.60655e+04\n",
      "183   1 5.11e+02 9.26e+01 6.60652e+04\n",
      "184   1 5.11e+02 9.25e+01 6.60649e+04\n",
      "185   1 5.10e+02 9.23e+01 6.60646e+04\n",
      "186   1 5.10e+02 9.22e+01 6.60643e+04\n",
      "187   1 5.10e+02 9.20e+01 6.60640e+04\n",
      "188   1 5.10e+02 9.19e+01 6.60637e+04\n",
      "189   1 5.10e+02 9.17e+01 6.60634e+04\n",
      "190   1 5.09e+02 9.16e+01 6.60632e+04\n",
      "191   1 5.09e+02 9.14e+01 6.60629e+04\n",
      "192   1 5.09e+02 9.13e+01 6.60626e+04\n",
      "193   1 5.09e+02 9.12e+01 6.60624e+04\n",
      "194   1 5.09e+02 9.10e+01 6.60622e+04\n",
      "195   1 5.09e+02 9.09e+01 6.60619e+04\n",
      "196   1 5.08e+02 9.08e+01 6.60617e+04\n",
      "197   1 5.08e+02 9.06e+01 6.60615e+04\n",
      "198   1 5.08e+02 9.05e+01 6.60612e+04\n",
      "199   1 5.08e+02 9.03e+01 6.60610e+04\n",
      "200   1 5.08e+02 9.02e+01 6.60608e+04\n",
      "201   1 5.07e+02 9.01e+01 6.60606e+04\n",
      "202   1 5.07e+02 9.00e+01 6.60604e+04\n",
      "203   1 5.07e+02 8.98e+01 6.60602e+04\n",
      "204   1 5.07e+02 8.97e+01 6.60600e+04\n",
      "205   1 5.07e+02 8.96e+01 6.60598e+04\n",
      "206   1 5.07e+02 8.95e+01 6.60597e+04\n",
      "207   1 5.06e+02 8.93e+01 6.60595e+04\n",
      "208   1 5.06e+02 8.92e+01 6.60593e+04\n",
      "209   1 5.06e+02 8.91e+01 6.60591e+04\n",
      "210   1 5.06e+02 8.90e+01 6.60590e+04\n",
      "211   1 5.06e+02 8.89e+01 6.60588e+04\n",
      "212   1 5.06e+02 8.88e+01 6.60586e+04\n",
      "213   1 5.05e+02 8.86e+01 6.60585e+04\n",
      "214   1 5.05e+02 8.85e+01 6.60583e+04\n",
      "215   1 5.05e+02 8.84e+01 6.60582e+04\n",
      "216   1 5.05e+02 8.83e+01 6.60581e+04\n",
      "217   1 5.05e+02 8.82e+01 6.60579e+04\n",
      "218   1 5.05e+02 8.81e+01 6.60578e+04\n",
      "219   1 5.05e+02 8.80e+01 6.60576e+04\n",
      "220   1 5.04e+02 8.79e+01 6.60575e+04\n",
      "221   1 5.04e+02 8.78e+01 6.60574e+04\n",
      "222   1 5.04e+02 8.77e+01 6.60573e+04\n",
      "223   1 5.04e+02 8.76e+01 6.60571e+04\n",
      "224   1 5.04e+02 8.75e+01 6.60570e+04\n",
      "225   1 5.04e+02 8.74e+01 6.60569e+04\n",
      "226   1 5.04e+02 8.73e+01 6.60568e+04\n",
      "227   1 5.04e+02 8.72e+01 6.60567e+04\n",
      "228   1 5.03e+02 8.71e+01 6.60566e+04\n",
      "229   1 5.03e+02 8.70e+01 6.60565e+04\n",
      "230   1 5.03e+02 8.69e+01 6.60564e+04\n",
      "231   1 5.03e+02 8.68e+01 6.60563e+04\n",
      "232   1 5.03e+02 8.67e+01 6.60562e+04\n",
      "233   1 5.03e+02 8.66e+01 6.60561e+04\n",
      "234   1 5.03e+02 8.65e+01 6.60560e+04\n",
      "235   1 5.03e+02 8.65e+01 6.60559e+04\n",
      "236   1 5.02e+02 8.64e+01 6.60558e+04\n",
      "237   1 5.02e+02 8.63e+01 6.60557e+04\n",
      "238   1 5.02e+02 8.62e+01 6.60557e+04\n",
      "239   1 5.02e+02 8.61e+01 6.60556e+04\n",
      "240   1 5.02e+02 8.60e+01 6.60555e+04\n",
      "241   1 5.02e+02 8.60e+01 6.60554e+04\n",
      "242   1 5.02e+02 8.59e+01 6.60553e+04\n",
      "243   1 5.02e+02 8.58e+01 6.60553e+04\n",
      "244   1 5.02e+02 8.57e+01 6.60552e+04\n",
      "245   1 5.01e+02 8.56e+01 6.60551e+04\n",
      "246   1 5.01e+02 8.56e+01 6.60551e+04\n"
     ]
    }
   ],
   "source": [
    "for i in range(10000):\n",
    "    m = 0.\n",
    "    lamb = 1.\n",
    "    \n",
    "    # calculando a Jacobiana e o gradiente\n",
    "    G = jacobi_geo(regular_grid['xp'], regular_grid['yp'], regular_grid['zp'], prism0, cylinder_model['M'],\n",
    "                   deltar, deltaz, cylinder_model['inc'], cylinder_model['dec'])\n",
    "    grad = -2.*np.dot(G.T, res0)\n",
    "    \n",
    "    # calculando p e atualizando para a próxima iteração\n",
    "    p = p0 - lamb*grad\n",
    "    l = [[np.zeros(cylinder_model['M']) + p[0], x0, y0, p[1], cylinder_model['dz'], cylinder_model['props']]]\n",
    "    prism = mfun.pol2cart(l, cylinder_model['M'], cylinder_model['L'])\n",
    "    d = polyprism.tf(regular_grid['xp'], regular_grid['yp'], regular_grid['zp'],\n",
    "                    prism, cylinder_model['inc'], cylinder_model['dec'])\n",
    "    res = cylinder_data['data_noise'] - d\n",
    "    phi = np.sum(res*res)\n",
    "    \n",
    "    while (phi - phi0) > alfa*lamb*np.sum(grad*grad):\n",
    "        m += 1.\n",
    "        print m\n",
    "        lamb = beta**m\n",
    "        p = p0 + lamb*grad\n",
    "        l = [[np.zeros(cylinder_model['M']) + p[0], x0, y0, p[1], cylinder_model['dz'], cylinder_model['props']]]\n",
    "        prism = mfun.pol2cart(l, cylinder_model['M'], cylinder_model['L'])\n",
    "        d = polyprism.tf(regular_grid['xp'], regular_grid['yp'], regular_grid['zp'],\n",
    "                    prism, cylinder_model['inc'], cylinder_model['dec'])\n",
    "        res = cylinder_data['data_noise'] - d\n",
    "        phi = np.sum(res*res)    \n",
    "    \n",
    "    if (abs(phi - phi0)/abs(phi0) <= epsilon):\n",
    "        break\n",
    "    else:\n",
    "        # armazenando os resultados em listas para o plot\n",
    "        phi_list.append(phi)\n",
    "        p1_list.append(p[0])\n",
    "        p2_list.append(p[1])\n",
    "        \n",
    "        # atualizando parâmetros\n",
    "        p0 = p\n",
    "        d0 = d\n",
    "        res0 = res\n",
    "        phi0 = phi\n",
    "        prim0 = prism\n",
    "        \n",
    "        # printa os valores\n",
    "        print '%3d %3d %.2e %.2e %.5e' % (i, lamb, p0[0], p0[1], phi0)"
   ]
  },
  {
   "cell_type": "code",
   "execution_count": 9,
   "metadata": {
    "collapsed": false
   },
   "outputs": [
    {
     "data": {
      "image/png": "[encoded data removed]",
      "text/plain": [
       "<matplotlib.figure.Figure at 0x7f17be62bb10>"
      ]
     },
     "metadata": {},
     "output_type": "display_data"
    }
   ],
   "source": [
    "#plot\n",
    "plt.figure(figsize=(5,5))\n",
    "plt.plot(500., 100., 'oy')\n",
    "plt.plot(p1_list, p2_list, '.w-', markersize=5)\n",
    "plt.title('SD - geofisica', fontsize=18)\n",
    "plt.contourf(cylinder_data['p1'], cylinder_data['p2'], cylinder_data['phi_eq'], 40, cmap='jet')\n",
    "plt.xlabel('$p_1$', fontsize=18)\n",
    "plt.ylabel('$p_2$', fontsize=18)\n",
    "plt.colorbar(pad=0.01, aspect=20, shrink=1)\n",
    "plt.savefig('plot_rosenbrock.png', pad_inches=0.0)\n",
    "plt.show()"
   ]
  },
  {
   "cell_type": "code",
   "execution_count": 10,
   "metadata": {
    "collapsed": false
   },
   "outputs": [
    {
     "data": {
      "image/png": "[encoded data removed]",
      "text/plain": [
       "<matplotlib.figure.Figure at 0x7f17be645c90>"
      ]
     },
     "metadata": {},
     "output_type": "display_data"
    }
   ],
   "source": [
    "plt.title('Convergence', fontsize = 18)\n",
    "plt.xlabel('Iteration number')\n",
    "plt.ylabel('Phi value')\n",
    "plt.plot(phi_list, 'o')\n",
    "plt.savefig('convergence.png', dpi=300)\n",
    "plt.show()"
   ]
  },
  {
   "cell_type": "code",
   "execution_count": 11,
   "metadata": {
    "collapsed": true
   },
   "outputs": [],
   "source": [
    "# calculando o valor da função e do gradiente em p0\n",
    "res = cylinder_data['data_noise'] - d0\n",
    "phi0 = np.sum(res*res)\n",
    "\n",
    "# zerando as listas\n",
    "p1_list = [p01]\n",
    "p2_list = [p02]\n",
    "phi_list = [phi0]"
   ]
  },
  {
   "cell_type": "code",
   "execution_count": 12,
   "metadata": {
    "collapsed": false
   },
   "outputs": [
    {
     "ename": "NameError",
     "evalue": "name 'delta' is not defined",
     "output_type": "error",
     "traceback": [
      "\u001b[0;31m---------------------------------------------------------------------------\u001b[0m",
      "\u001b[0;31mNameError\u001b[0m                                 Traceback (most recent call last)",
      "\u001b[0;32m<ipython-input-12-f8b67e3f5825>\u001b[0m in \u001b[0;36m<module>\u001b[0;34m()\u001b[0m\n\u001b[1;32m      4\u001b[0m     \u001b[0;31m# calculando a Jacobiana\u001b[0m\u001b[0;34m\u001b[0m\u001b[0;34m\u001b[0m\u001b[0m\n\u001b[1;32m      5\u001b[0m     G = jacobi_geo(regular_grid['xp'], regular_grid['yp'], regular_grid['zp'], prism, cylinder_model['M'],\n\u001b[0;32m----> 6\u001b[0;31m                    cylinder_model['inc'], cylinder_model['dec'], delta)\n\u001b[0m\u001b[1;32m      7\u001b[0m     \u001b[0mgrad\u001b[0m \u001b[0;34m=\u001b[0m \u001b[0;36m2.\u001b[0m\u001b[0;34m*\u001b[0m\u001b[0mnp\u001b[0m\u001b[0;34m.\u001b[0m\u001b[0mdot\u001b[0m\u001b[0;34m(\u001b[0m\u001b[0mG\u001b[0m\u001b[0;34m.\u001b[0m\u001b[0mT\u001b[0m\u001b[0;34m,\u001b[0m \u001b[0mres\u001b[0m\u001b[0;34m)\u001b[0m\u001b[0;34m\u001b[0m\u001b[0m\n\u001b[1;32m      8\u001b[0m \u001b[0;34m\u001b[0m\u001b[0m\n",
      "\u001b[0;31mNameError\u001b[0m: name 'delta' is not defined"
     ]
    }
   ],
   "source": [
    "for i in range(100):\n",
    "    m = 0\n",
    "    lamb = 1.\n",
    "    # calculando a Jacobiana\n",
    "    G = jacobi_geo(regular_grid['xp'], regular_grid['yp'], regular_grid['zp'], prism, cylinder_model['M'],\n",
    "                   cylinder_model['inc'], cylinder_model['dec'], delta)\n",
    "    grad = 2.*np.dot(G.T, res)\n",
    "    \n",
    "    # calculando p e atualizando para a próxima iteração\n",
    "    p = p0 + alfa*grad\n",
    "    r = np.zeros(cylinder_model['M']) + p[0]\n",
    "    l = [[r, x0, y0, cylinder_model['dz'], p[1], cylinder_model['props']]]\n",
    "    prism = mfun.pol2cart(l, cylinder_model['M'], cylinder_model['L'])\n",
    "    d = polyprism.tf(regular_grid['xp'], regular_grid['yp'], regular_grid['zp'],\n",
    "                    prism, cylinder_model['inc'], cylinder_model['dec'])\n",
    "    res = cylinder_data['data_noise'] - d\n",
    "    phi = np.sum(res*res)\n",
    "    \n",
    "    while (phi - phi0) > alfa*lamb*np.sum(grad*grad):\n",
    "        m += 1.\n",
    "        print m\n",
    "        lamb = beta**m\n",
    "        #print lamb\n",
    "        p = p0 - lamb*grad\n",
    "        res = cylinder_data['data_noise'] - d\n",
    "        phi = np.sum(res*res)\n",
    "        #print phi\n",
    "        #grad = grad_rosenbrock(p)\n",
    "        #print grad\n",
    "        \n",
    "    p0 = p\n",
    "    d0 = d\n",
    "    phi0 = phi\n",
    "    \n",
    "    # armazenando os resultados em listas para o plot\n",
    "    phi_list.append(phi0)\n",
    "    p1_list.append(p0[0])\n",
    "    p2_list.append(p0[1])\n",
    "    \n",
    "    # printa os valores\n",
    "    print '%3d %.2e %.2e %.5e' % (i, p0[0], p0[1], phi0)"
   ]
  },
  {
   "cell_type": "code",
   "execution_count": null,
   "metadata": {
    "collapsed": false
   },
   "outputs": [],
   "source": [
    "#plot\n",
    "plt.figure(figsize=(5,5))\n",
    "plt.plot(1., 1., 'oy')\n",
    "plt.plot(p1_list, p2_list, '.w-', markersize=1)\n",
    "plt.title('SD com Armijo - Rosenbrock', fontsize=18)\n",
    "plt.contourf(p1, p2, phi_eq, 40, cmap='jet')\n",
    "plt.xlabel('$p_1$', fontsize=18)\n",
    "plt.ylabel('$p_2$', fontsize=18)\n",
    "plt.colorbar(pad=0.01, aspect=20, shrink=1)\n",
    "plt.savefig('plot_rosenbrock_Armijo.png', pad_inches=0.0)\n",
    "plt.show()"
   ]
  },
  {
   "cell_type": "code",
   "execution_count": null,
   "metadata": {
    "collapsed": false
   },
   "outputs": [],
   "source": [
    "plt.title('Convergence', fontsize = 18)\n",
    "plt.xlabel('Iteration number')\n",
    "plt.ylabel('Phi value')\n",
    "plt.plot(phi_list, 'o')\n",
    "plt.savefig('convergence.png', dpi=300)\n",
    "plt.show()"
   ]
  },
  {
   "cell_type": "code",
   "execution_count": null,
   "metadata": {
    "collapsed": true
   },
   "outputs": [],
   "source": []
  }
 ],
 "metadata": {
  "kernelspec": {
   "display_name": "Python 2",
   "language": "python",
   "name": "python2"
  },
  "language_info": {
   "codemirror_mode": {
    "name": "ipython",
    "version": 2
   },
   "file_extension": ".py",
   "mimetype": "text/x-python",
   "name": "python",
   "nbconvert_exporter": "python",
   "pygments_lexer": "ipython2",
   "version": "2.7.13"
  }
 },
 "nbformat": 4,
 "nbformat_minor": 2
}
