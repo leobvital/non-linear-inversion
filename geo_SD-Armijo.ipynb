{
 "cells": [
  {
   "cell_type": "markdown",
   "metadata": {},
   "source": [
    "# Steepest descent aplicado à função Rosenbrock"
   ]
  },
  {
   "cell_type": "markdown",
   "metadata": {},
   "source": [
    "Este algoritmo aplica o método de otimização Steepest descent à função matemática de Rosenbrock, a qual é definida pela equação geral:"
   ]
  },
  {
   "cell_type": "markdown",
   "metadata": {},
   "source": [
    "\\begin{equation}\n",
    "f(x,y) = (a - x)^2 + b(y - x^2)^2 ,\n",
    "\\end{equation}"
   ]
  },
  {
   "cell_type": "markdown",
   "metadata": {},
   "source": [
    "onde $a$ e $b$ são constantes e o mínimo dessa função é $(x,y)=(a,a^2)$, onde $f(a,a^2)=0$. Normalmente $a$ e $b$ são iguais a 1 e a 100, respectivamente, nesse caso, o mínimo dessa função é $(x,y)=(1,1)$."
   ]
  },
  {
   "cell_type": "markdown",
   "metadata": {},
   "source": [
    "Então a função a ser minimizada através do método steepest descente é:"
   ]
  },
  {
   "cell_type": "markdown",
   "metadata": {},
   "source": [
    "\\begin{equation}\n",
    "f(p_1,p_2) = 100(p_2 - p_1^2)^2 + (p_1 - 1)^2 ,\n",
    "\\end{equation}"
   ]
  },
  {
   "cell_type": "markdown",
   "metadata": {},
   "source": [
    "A proposta do código é encontrar o mínimo da função através de muitas iterações."
   ]
  },
  {
   "cell_type": "markdown",
   "metadata": {},
   "source": [
    "O método steepest descent é um método de convergência global, o qual se aproxima do mínimo com a direção de $-\\nabla \\boldsymbol{\\phi}(\\mathbf{p})$, que é menos o gradiente da função objetivo e $\\mathbf{p}$ é o vetor de parâmentros. O método possui o seguinte algoritmo:"
   ]
  },
  {
   "cell_type": "markdown",
   "metadata": {},
   "source": [
    "1) estabelece um chute inicial $\\mathbf{p}_i$\n",
    "\n",
    "2) determina a direção $\\mathbf{a}_i$ que diminua $\\boldsymbol{\\phi}$ em torno de $\\mathbf{p}_i$\n",
    "\n",
    "3) calcula $\\mathbf{p}_{i+1} = \\mathbf{p}_i + \\rho _i \\mathbf{a}_i$, onde $\\rho_i$ é um escalar que modula o passo em direção ao mínimo e $\\mathbf{a}_i = -\\nabla \\boldsymbol{\\phi}(\\mathbf{p})$\n",
    " \n",
    "4) testa a convergência, se for satisfeita o algoritmo para, caso contrário retorna para 1)"
   ]
  },
  {
   "cell_type": "markdown",
   "metadata": {},
   "source": [
    "# Importando pacotes"
   ]
  },
  {
   "cell_type": "code",
   "execution_count": 1,
   "metadata": {
    "collapsed": false
   },
   "outputs": [
    {
     "name": "stderr",
     "output_type": "stream",
     "text": [
      "/home/vital/anaconda2/lib/python2.7/site-packages/fatiando/vis/mpl.py:76: UserWarning: This module will be removed in v0.6. We recommend the use of matplotlib.pyplot module directly. Some of the fatiando specific functions will remain.\n",
      "  \"specific functions will remain.\")\n",
      "/home/vital/anaconda2/lib/python2.7/site-packages/fatiando/vis/myv.py:51: UserWarning: This module will be removed in v0.7.\n",
      "  warnings.warn(\"This module will be removed in v0.7.\")\n"
     ]
    }
   ],
   "source": [
    "import numpy as np\n",
    "import matplotlib.pyplot as plt\n",
    "import cPickle as pickle\n",
    "from visual import histeq\n",
    "from fatiando.mesher import PolygonalPrism\n",
    "from IPython.display import Image as img\n",
    "from fatiando.gravmag import polyprism\n",
    "from copy import deepcopy\n",
    "from fatiando.vis import mpl, myv\n",
    "\n",
    "import sys\n",
    "sys.path.insert(0, '../magnetic-radial-inversion/code')\n",
    "\n",
    "import mag_polyprism_functions as mfun"
   ]
  },
  {
   "cell_type": "markdown",
   "metadata": {},
   "source": [
    "# Importando modelo direto, grid e dados"
   ]
  },
  {
   "cell_type": "code",
   "execution_count": 2,
   "metadata": {
    "collapsed": true
   },
   "outputs": [],
   "source": [
    "with open('data/cylinder_model.pickle') as w:\n",
    "        cylinder_model = pickle.load(w)\n",
    "with open('data/cylinder_data.pickle') as w:\n",
    "        cylinder_data = pickle.load(w)\n",
    "with open('data/regular_grid.pickle') as w:\n",
    "        regular_grid = pickle.load(w)"
   ]
  },
  {
   "cell_type": "raw",
   "metadata": {},
   "source": [
    "bounds = [-800., 800., -800., 800., -200.0, 800.]\n",
    "\n",
    "red, green, blue = (1, 0, 0), (0, 1, 0), (0, 0, 1)\n",
    "white, black = (1, 1, 1), (0, 0, 0),\n",
    "\n",
    "# Show the model\n",
    "scene = myv.figure()\n",
    "myv.polyprisms(cylinder_model['prisms'], 'magnetization', color=blue, opacity=1.)\n",
    "\n",
    "ax = myv.axes(myv.outline(bounds), ranges=[i * 0.001 for i in bounds])\n",
    "ax.axes.x_label, ax.axes.y_label, ax.axes.z_label = 'x (m)', 'y (m)', 'z (m)'\n",
    "ax.axes.font_factor = 1.5\n",
    "scene.scene.camera.position = [-0.089204656936016313, -0.066107174155361687, -0.04083578885723696]\n",
    "scene.scene.camera.focal_point = [1.1820671636724554e-16, 1.3134079596360617e-17, -1.9701119394540926e-17]\n",
    "scene.scene.camera.view_angle = 30.0\n",
    "scene.scene.camera.view_up = [0.24683390337942718, 0.24593292331329802, -0.93733132955911114]\n",
    "scene.scene.camera.clipping_range = [0.057117737884348194, 0.1956040854922288]\n",
    "scene.scene.camera.compute_view_plane_normal()\n",
    "\n",
    "myv.wall_bottom(ax.axes.bounds, opacity=0.2)\n",
    "myv.wall_north(ax.axes.bounds)\n",
    "myv.savefig('bolacha.png')\n",
    "myv.show()"
   ]
  },
  {
   "cell_type": "code",
   "execution_count": 3,
   "metadata": {
    "collapsed": false
   },
   "outputs": [
    {
     "data": {
      "image/png": "[encoded data removed]",
      "text/plain": [
       "<IPython.core.display.Image object>"
      ]
     },
     "execution_count": 3,
     "metadata": {},
     "output_type": "execute_result"
    }
   ],
   "source": [
    "img(filename='bolacha.png')"
   ]
  },
  {
   "cell_type": "markdown",
   "metadata": {},
   "source": [
    "## Plotando a função"
   ]
  },
  {
   "cell_type": "code",
   "execution_count": 4,
   "metadata": {
    "collapsed": false
   },
   "outputs": [
    {
     "data": {
      "image/png": "[encoded data removed]",
      "text/plain": [
       "<matplotlib.figure.Figure at 0x7fc29f22a390>"
      ]
     },
     "metadata": {},
     "output_type": "display_data"
    }
   ],
   "source": [
    "plt.figure(figsize=(5,5))\n",
    "plt.plot(500., 100., 'og')\n",
    "plt.title('Funcao objetivo', fontsize=18)\n",
    "plt.contourf(cylinder_data['p1'], cylinder_data['p2'], cylinder_data['phi_eq'], 50, cmap='jet')\n",
    "plt.xlabel('$r$ (m)', fontsize=18)\n",
    "plt.ylabel('$z_0$ (m)', fontsize=18)\n",
    "plt.colorbar(pad=0.01, aspect=20, shrink=1)\n",
    "plt.savefig('plot_geo_prob.png', pad_inches=0.0)\n",
    "plt.show()"
   ]
  },
  {
   "cell_type": "markdown",
   "metadata": {},
   "source": [
    "# Funções"
   ]
  },
  {
   "cell_type": "code",
   "execution_count": 5,
   "metadata": {
    "collapsed": false
   },
   "outputs": [],
   "source": [
    "def derivative_tf_z0(xp, yp, zp, prism, M, deltax, inc, dec):\n",
    "    '''\n",
    "    This function calculates the derivative for total field anomaly\n",
    "    from a model of polygonal prisms using finite difference.\n",
    "\n",
    "    input\n",
    "\n",
    "    xp: array - x observation points\n",
    "    yp: array - y observation points\n",
    "    zp: array - z observation points\n",
    "    prism: list - list of one fatiando.mesher.PolygonalPrism\n",
    "    M: int - number of vertices per prism\n",
    "    delta: float - increment in x coordinate in meters\n",
    "    inc: float - inclination\n",
    "    dec: declination\n",
    "\n",
    "    output\n",
    "\n",
    "    df: 1D array - derivative\n",
    "    '''\n",
    "    assert xp.size == yp.size == zp.size, 'The number of points in x, y and z must be equal'\n",
    "\n",
    "    prism_plus = deepcopy([prism])  # m.x + delta\n",
    "    prism_minus = deepcopy([prism])  # m.x - deltaa\n",
    "    prism_plus[0].z1 += delta\n",
    "    prism_minus[0].z1 -= delta\n",
    "\n",
    "    df = polyprism.tf(xp, yp, zp, prism_plus, inc, dec)\n",
    "    df -= polyprism.tf(xp, yp, zp, prism_minus, inc, dec)\n",
    "    df /= (2.*delta)\n",
    "\n",
    "    return df\n",
    "\n",
    "def derivative_tf_radiall(xp, yp, zp, prism, M, delta, inc, dec):\n",
    "    '''\n",
    "    This function calculates the derivative for total field anomaly\n",
    "    from a model of polygonal prisms using finite difference.\n",
    "\n",
    "    input\n",
    "\n",
    "    xp: array - x observation points\n",
    "    yp: array - y observation points\n",
    "    zp: array - z observation points\n",
    "    prism: list - list of a fatiando.mesher.PolygonalPrism\n",
    "    M: int - number of vertices per prism\n",
    "    delta: float - increment in radial distance in meters\n",
    "    inc: float - inclination\n",
    "    dec: declination\n",
    "\n",
    "    output\n",
    "\n",
    "    df: 1D array - derivative\n",
    "    '''\n",
    "    assert xp.size == yp.size == zp.size, 'The number of points in x, y and z must be equal'\n",
    "    \n",
    "    ang = 2.*np.pi/M # angle between two vertices\n",
    "    \n",
    "    prism_plus = deepcopy([prism])  # m.x + delta\n",
    "    prism_minus = deepcopy([prism])  # m.x - delta\n",
    "\n",
    "    for i in range(M):\n",
    "        deltax = delta*np.cos(i*ang)\n",
    "        deltay = delta*np.sin(i*ang)\n",
    "        prism_plus[0].x[i] += deltax\n",
    "        prism_plus[0].y[i] += deltay\n",
    "        prism_minus[0].x[i] -= deltax\n",
    "        prism_minus[0].y[i] -= deltay\n",
    "\n",
    "    df = polyprism.tf(xp, yp, zp, prism_plus, inc, dec)\n",
    "    df -= polyprism.tf(xp, yp, zp, prism_minus, inc, dec)\n",
    "    df /= (2.*delta)\n",
    "\n",
    "    return df\n",
    "\n",
    "# calculando gradiente de phi\n",
    "def jacobi_geo(xp, yp, zp, prism, M, delta, inc, dec):\n",
    "    '''\n",
    "    Returns the sensitivity matrix for polygonal prisms using finite\n",
    "    differences.\n",
    "\n",
    "    input\n",
    "\n",
    "    xp: array - x observation points\n",
    "    yp: array - y observation points\n",
    "    zp: array - z observation points\n",
    "    prism: list - list of fatiando.mesher.PolygonalPrism\n",
    "    M: int - number of vertices per prism\n",
    "    delta: float - increment in meters\n",
    "    inc: float - inclination of the local-geomagnetic field\n",
    "    dec: declination of the local-geomagnetic field\n",
    "\n",
    "    output\n",
    "\n",
    "    G: 2D array - sensitivity matrix\n",
    "    '''\n",
    "    assert xp.size == yp.size == zp.size, 'The number of points in x, y and z must be equal'\n",
    "\n",
    "    G = np.zeros((xp.size, 2))\n",
    "\n",
    "    G[:, 0] = derivative_tf_radiall(xp, yp, zp, prism[0], M, delta, inc, dec)\n",
    "    G[:, 1] = derivative_tf_z0(xp, yp, zp, prism[0], M, delta, inc, dec)\n",
    "\n",
    "    return G"
   ]
  },
  {
   "cell_type": "markdown",
   "metadata": {},
   "source": [
    "# Modelo interpretativo"
   ]
  },
  {
   "cell_type": "code",
   "execution_count": 6,
   "metadata": {
    "collapsed": false
   },
   "outputs": [],
   "source": [
    "# chute inicial\n",
    "p01 = 600.\n",
    "p02 = 150.\n",
    "\n",
    "# incremento para as derivadas\n",
    "delta = 10.\n",
    "\n",
    "r = np.zeros(cylinder_model['M']) + p01 # radial distance for each vertice\n",
    "\n",
    "# Cartesian coordinates of the origin of each prism\n",
    "x0 = 0. \n",
    "y0 = 0.\n",
    "\n",
    "l = [[r, x0, y0, p02, cylinder_model['dz'], cylinder_model['props']]]"
   ]
  },
  {
   "cell_type": "code",
   "execution_count": 7,
   "metadata": {
    "collapsed": false
   },
   "outputs": [],
   "source": [
    "prism = mfun.pol2cart(l, cylinder_model['M'], cylinder_model['L'])\n",
    "\n",
    "d0 = polyprism.tf(regular_grid['xp'], regular_grid['yp'], regular_grid['zp'],\n",
    "                    prism, cylinder_model['inc'], cylinder_model['dec'])\n",
    "\n",
    "# vetor do chute inicial\n",
    "p0 = np.array([p01,p02]) \n",
    "\n",
    "# parâmetros para o critério de Armijo\n",
    "alfa = 0.1\n",
    "beta = 0.4\n",
    "\n",
    "p1_list = [p01]\n",
    "p2_list = [p02]\n",
    "phi_list = []"
   ]
  },
  {
   "cell_type": "markdown",
   "metadata": {},
   "source": [
    "# Algoritmo Steepest Descent"
   ]
  },
  {
   "cell_type": "code",
   "execution_count": 8,
   "metadata": {
    "collapsed": false
   },
   "outputs": [
    {
     "ename": "ValueError",
     "evalue": "The truth value of an array with more than one element is ambiguous. Use a.any() or a.all()",
     "output_type": "error",
     "traceback": [
      "\u001b[0;31m---------------------------------------------------------------------------\u001b[0m",
      "\u001b[0;31mValueError\u001b[0m                                Traceback (most recent call last)",
      "\u001b[0;32m<ipython-input-8-0fcdcedce346>\u001b[0m in \u001b[0;36m<module>\u001b[0;34m()\u001b[0m\n\u001b[1;32m     19\u001b[0m \u001b[0;34m\u001b[0m\u001b[0m\n\u001b[1;32m     20\u001b[0m     \u001b[0;31m# condição de Armijo\u001b[0m\u001b[0;34m\u001b[0m\u001b[0;34m\u001b[0m\u001b[0m\n\u001b[0;32m---> 21\u001b[0;31m     \u001b[0;32mwhile\u001b[0m \u001b[0;34m(\u001b[0m\u001b[0md\u001b[0m \u001b[0;34m-\u001b[0m \u001b[0md0\u001b[0m\u001b[0;34m)\u001b[0m \u001b[0;34m>\u001b[0m \u001b[0malfa\u001b[0m\u001b[0;34m*\u001b[0m\u001b[0mlamb\u001b[0m\u001b[0;34m*\u001b[0m\u001b[0mnp\u001b[0m\u001b[0;34m.\u001b[0m\u001b[0msum\u001b[0m\u001b[0;34m(\u001b[0m\u001b[0mgrad\u001b[0m\u001b[0;34m*\u001b[0m\u001b[0mgrad\u001b[0m\u001b[0;34m)\u001b[0m\u001b[0;34m:\u001b[0m\u001b[0;34m\u001b[0m\u001b[0m\n\u001b[0m\u001b[1;32m     22\u001b[0m         \u001b[0mm\u001b[0m \u001b[0;34m+=\u001b[0m \u001b[0;36m1.\u001b[0m\u001b[0;34m\u001b[0m\u001b[0m\n\u001b[1;32m     23\u001b[0m         \u001b[0;31m#print m\u001b[0m\u001b[0;34m\u001b[0m\u001b[0;34m\u001b[0m\u001b[0m\n",
      "\u001b[0;31mValueError\u001b[0m: The truth value of an array with more than one element is ambiguous. Use a.any() or a.all()"
     ]
    }
   ],
   "source": [
    "for i in range(100):\n",
    "    m = 0\n",
    "    lamb = 1.\n",
    "    # calculando o valor da função e do gradiente em p0\n",
    "    res = cylinder_data['data_noise'] - d0\n",
    "    phi0 = np.sum(res*res)\n",
    "    \n",
    "    G = jacobi_geo(regular_grid['xp'], regular_grid['yp'], regular_grid['zp'], prism, cylinder_model['M'],\n",
    "                   cylinder_model['inc'], cylinder_model['dec'], delta)\n",
    "    grad = -2.*np.dot(G.T, res)\n",
    "    \n",
    "    # calculando p e atualizando para a próxima iteração\n",
    "    p = p0 + alfa*grad\n",
    "    r = np.zeros(cylinder_model['M']) + p[0]\n",
    "    l = [[r, x0, y0, cylinder_model['dz'], p[1], cylinder_model['props']]]\n",
    "    prism = mfun.pol2cart(l, cylinder_model['M'], cylinder_model['L'])\n",
    "    d = polyprism.tf(regular_grid['xp'], regular_grid['yp'], regular_grid['zp'],\n",
    "                    prism, cylinder_model['inc'], cylinder_model['dec'])\n",
    "    \n",
    "    \n",
    "    \n",
    "    # condição de Armijo\n",
    "    while (phi - phi0) > alfa*lamb*np.sum(grad*grad):\n",
    "        m += 1.\n",
    "        #print m\n",
    "        lamb = beta**m\n",
    "        #print lamb\n",
    "        p = p0 - lamb*grad\n",
    "        phi = rosenbrock(p)\n",
    "        #print phi\n",
    "        #grad = grad_rosenbrock(p)\n",
    "        #print grad\n",
    "    \n",
    "    p0 = p\n",
    "    d0 = d\n",
    "    \n",
    "    # armazenando os resultados em listas para o plot\n",
    "    phi_list.append(phi0)\n",
    "    p1_list.append(p0[0])\n",
    "    p2_list.append(p0[1])\n",
    "    \n",
    "    # printa os valores\n",
    "    print '%3d %.2e %.2e %.5e' % (i, p0[0], p0[1], phi0)"
   ]
  },
  {
   "cell_type": "code",
   "execution_count": null,
   "metadata": {
    "collapsed": false
   },
   "outputs": [],
   "source": [
    "#plot\n",
    "plt.figure(figsize=(5,5))\n",
    "plt.plot(500., 100., 'oy')\n",
    "plt.plot(p1_list, p2_list, '.w-', markersize=1)\n",
    "plt.title('SD - Rosenbrock', fontsize=18)\n",
    "plt.contourf(cylinder_data['p1'], cylinder_data['p2'], cylinder_data['phi_eq'], 40, cmap='jet')\n",
    "plt.xlabel('$p_1$', fontsize=18)\n",
    "plt.ylabel('$p_2$', fontsize=18)\n",
    "plt.colorbar(pad=0.01, aspect=20, shrink=1)\n",
    "plt.savefig('plot_rosenbrock.png', pad_inches=0.0)\n",
    "plt.show()"
   ]
  },
  {
   "cell_type": "code",
   "execution_count": null,
   "metadata": {
    "collapsed": false
   },
   "outputs": [],
   "source": [
    "plt.title('Convergence', fontsize = 18)\n",
    "plt.xlabel('Iteration number')\n",
    "plt.ylabel('Phi value')\n",
    "plt.plot(phi_list, 'o')\n",
    "plt.savefig('convergence.png', dpi=300)\n",
    "plt.show()"
   ]
  },
  {
   "cell_type": "markdown",
   "metadata": {},
   "source": [
    "# Steepest Descent com critério de Armijo"
   ]
  },
  {
   "cell_type": "markdown",
   "metadata": {},
   "source": [
    "O método steepest descent é um método de convergência global, o qual se aproxima do mínimo com a direção de $-\\nabla \\boldsymbol{\\phi}(\\mathbf{p})$, que é menos o gradiente da função objetivo e $\\mathbf{p}$ é o vetor de parâmentros. Porém, para uma melhor aproximação do mínimo é necessário de um critério mais rigoroso para a escolha da largura do passo. Para isso a chamada regra de Armijo é um exemplo de line search. A condição a ser satisfeita para uma direção mais aceitável é, então:"
   ]
  },
  {
   "cell_type": "markdown",
   "metadata": {},
   "source": [
    "\\begin{equation}\n",
    "\\boldsymbol{\\phi}(\\mathbf{p}_{k+1}) - \\boldsymbol{\\phi}(\\mathbf{p}_k) < -\\alpha \\lambda\\| \\nabla\\boldsymbol{\\phi}(\\mathbf{p}_k) \\|^2  ,\n",
    "\\end{equation}"
   ]
  },
  {
   "cell_type": "markdown",
   "metadata": {},
   "source": [
    "onde $\\lambda = \\beta^m$, $m \\geq 0$ é o menor não-negativo inteiro para uma descida suficiente e $\\alpha,\\beta$ $\\epsilon$ $(0,1)$."
   ]
  },
  {
   "cell_type": "markdown",
   "metadata": {},
   "source": [
    "1) estabelece um chute inicial $\\mathbf{p}_i$\n",
    "\n",
    "2) determina a direção $\\mathbf{a}_i$ que diminua $\\boldsymbol{\\phi}$ em torno de $\\mathbf{p}_i$\n",
    "\n",
    "3) calcula $\\mathbf{p}_{i+1} = \\mathbf{p}_i -\\lambda\\nabla \\boldsymbol{\\phi}(\\mathbf{p})$\n",
    "\n",
    "4) verifica a condição de Armijo, enquanto $\\boldsymbol{\\phi}(\\mathbf{p}_{k+1}) - \\boldsymbol{\\phi}(\\mathbf{p}_k) > \\alpha \\lambda\\| \\nabla\\boldsymbol{\\phi}(\\mathbf{p}_k) \\|^2$:\n",
    "\n",
    "a) caso não seja satisfeita $m = m + 1$\n",
    "\n",
    "b) calcula $\\lambda = \\beta^m$\n",
    "\n",
    "c) calcula $\\mathbf{p}_{+} = \\mathbf{p}_i -\\lambda\\nabla \\boldsymbol{\\phi}(\\mathbf{p})$\n",
    "\n",
    "d) calcula $\\phi(\\mathbf{p}_{+})$ e reorna para 4)\n",
    " \n",
    "5) testa a convergência, se for satisfeita o algoritmo para, caso contrário retorna para 1)"
   ]
  },
  {
   "cell_type": "code",
   "execution_count": null,
   "metadata": {
    "collapsed": true
   },
   "outputs": [],
   "source": [
    "# zerando as listas\n",
    "p1_list = [p01]\n",
    "p2_list = [p02]\n",
    "phi_list = []"
   ]
  },
  {
   "cell_type": "code",
   "execution_count": null,
   "metadata": {
    "collapsed": false
   },
   "outputs": [],
   "source": [
    "for i in range(5000):\n",
    "    # calcula grad, p e phi\n",
    "    grad = grad_rosenbrock(p0)\n",
    "    p = p0 - lamb*grad\n",
    "    phi = rosenbrock(p)\n",
    "    #print phi - phi0\n",
    "    #print alfa*lamb*np.sqrt(np.sum(grad*grad))\n",
    "    \n",
    "    # condição de Armijo\n",
    "    while phi - phi0 > alfa*lamb*np.sum(grad*grad):\n",
    "        m += 1.\n",
    "        #print m\n",
    "        lamb = beta**m\n",
    "        #print lamb\n",
    "        p = p0 - lamb*grad\n",
    "        phi = rosenbrock(p)\n",
    "        #print phi\n",
    "        #grad = grad_rosenbrock(p)\n",
    "        #print grad\n",
    "    \n",
    "    # atualiza p0 e phi0\n",
    "    p0 = p\n",
    "    phi0 = phi\n",
    "    \n",
    "    # armazena os valores nas listas\n",
    "    phi_list.append(phi0)\n",
    "    p1_list.append(p0[0])\n",
    "    p2_list.append(p0[1])"
   ]
  },
  {
   "cell_type": "code",
   "execution_count": null,
   "metadata": {
    "collapsed": false
   },
   "outputs": [],
   "source": [
    "#plot\n",
    "plt.figure(figsize=(5,5))\n",
    "plt.plot(1., 1., 'oy')\n",
    "plt.plot(p1_list, p2_list, '.w-', markersize=1)\n",
    "plt.title('SD com Armijo - Rosenbrock', fontsize=18)\n",
    "plt.contourf(p1, p2, phi_eq, 40, cmap='jet')\n",
    "plt.xlabel('$p_1$', fontsize=18)\n",
    "plt.ylabel('$p_2$', fontsize=18)\n",
    "plt.colorbar(pad=0.01, aspect=20, shrink=1)\n",
    "plt.savefig('plot_rosenbrock_Armijo.png', pad_inches=0.0)\n",
    "plt.show()"
   ]
  },
  {
   "cell_type": "code",
   "execution_count": null,
   "metadata": {
    "collapsed": false
   },
   "outputs": [],
   "source": [
    "plt.title('Convergence', fontsize = 18)\n",
    "plt.xlabel('Iteration number')\n",
    "plt.ylabel('Phi value')\n",
    "plt.plot(phi_list, 'o')\n",
    "plt.savefig('convergence.png', dpi=300)\n",
    "plt.show()"
   ]
  },
  {
   "cell_type": "code",
   "execution_count": null,
   "metadata": {
    "collapsed": true
   },
   "outputs": [],
   "source": []
  }
 ],
 "metadata": {
  "kernelspec": {
   "display_name": "Python 2",
   "language": "python",
   "name": "python2"
  },
  "language_info": {
   "codemirror_mode": {
    "name": "ipython",
    "version": 2
   },
   "file_extension": ".py",
   "mimetype": "text/x-python",
   "name": "python",
   "nbconvert_exporter": "python",
   "pygments_lexer": "ipython2",
   "version": "2.7.13"
  }
 },
 "nbformat": 4,
 "nbformat_minor": 2
}
