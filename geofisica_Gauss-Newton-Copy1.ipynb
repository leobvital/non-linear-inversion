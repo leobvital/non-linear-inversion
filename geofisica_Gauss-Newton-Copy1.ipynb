{
 "cells": [
  {
   "cell_type": "markdown",
   "metadata": {},
   "source": [
    "# Método de Gauss_Newton aplicado à função geofísica"
   ]
  },
  {
   "cell_type": "markdown",
   "metadata": {},
   "source": [
    "Algoritmo de Gauss_Newton aplicado a um problema geofísico para estimar o raio e o topo de um prisma de base poligonal próximo de um cilindro."
   ]
  },
  {
   "cell_type": "markdown",
   "metadata": {},
   "source": [
    "# Importando pacotes"
   ]
  },
  {
   "cell_type": "code",
   "execution_count": 1,
   "metadata": {
    "collapsed": false
   },
   "outputs": [
    {
     "name": "stderr",
     "output_type": "stream",
     "text": [
      "/home/vital/anaconda2/lib/python2.7/site-packages/fatiando/vis/mpl.py:76: UserWarning: This module will be removed in v0.6. We recommend the use of matplotlib.pyplot module directly. Some of the fatiando specific functions will remain.\n",
      "  \"specific functions will remain.\")\n",
      "/home/vital/anaconda2/lib/python2.7/site-packages/fatiando/vis/myv.py:51: UserWarning: This module will be removed in v0.7.\n",
      "  warnings.warn(\"This module will be removed in v0.7.\")\n"
     ]
    }
   ],
   "source": [
    "import numpy as np\n",
    "import matplotlib.pyplot as plt\n",
    "import cPickle as pickle\n",
    "from visual import histeq\n",
    "from fatiando import utils\n",
    "from fatiando.mesher import PolygonalPrism\n",
    "from IPython.display import Image as img\n",
    "from fatiando.gravmag import polyprism\n",
    "from copy import deepcopy\n",
    "from fatiando.vis import myv\n",
    "from fatiando.gridder import regular"
   ]
  },
  {
   "cell_type": "markdown",
   "metadata": {},
   "source": [
    "# Funções para o prisma de base polygonal do fatiando"
   ]
  },
  {
   "cell_type": "code",
   "execution_count": 2,
   "metadata": {
    "collapsed": true
   },
   "outputs": [],
   "source": [
    "def pol2cart(l, M, L):\n",
    "    '''\n",
    "    This function transforms polar coordinates of the prisms\n",
    "    into Cartesian coordinates and returns a list of polygonal\n",
    "    prisms of the Fatiando a Terra.\n",
    "\n",
    "    input\n",
    "\n",
    "    l: list - each element is a list of [r, x0, y0, z1, z2, 'magnetization,\n",
    "              whrere r is an array with the radial distances of the vertices,\n",
    "              x0 and y0 are the origin cartesian coordinates of each prism,\n",
    "              z1 and z2 are the top and bottom of each prism and\n",
    "              magnetization is physical property\n",
    "    M: int - number of vertices per prism\n",
    "    L: int - number of prisms\n",
    "\n",
    "    output\n",
    "\n",
    "    mk: list - list of objects of the class\n",
    "    fatiando.mesher.PolygonalPrism\n",
    "    '''\n",
    "\n",
    "    lk = []\n",
    "    r = np.zeros(M)  # it contains radial distances of the vertices in polar coordinates\n",
    "    verts = [] # it contains radial distances of the vertices in Cartesian coordinates\n",
    "\n",
    "    assert len(l) == L, 'The size of m and the number of prisms must be equal'\n",
    "\n",
    "    for lv in l:\n",
    "        assert len(lv[0]) == M, 'All prisms must have M vertices'\n",
    "\n",
    "    ang = 2*np.pi/M # angle between two vertices\n",
    "\n",
    "    for lv in l:\n",
    "        r = lv[0]\n",
    "        verts=[]\n",
    "        for i in range(M):\n",
    "            verts.append([r[i]*np.cos(i*ang) + lv[1], r[i]*np.sin(i*ang) + lv[2]])\n",
    "        lk.append(PolygonalPrism(verts, lv[3], lv[4], lv[5]))\n",
    "\n",
    "    return lk\n",
    "\n",
    "def param2polyprism(m, M, L, z0, dz, props):\n",
    "    '''\n",
    "    Returns a lis of objects of the class\n",
    "    fatiando.mesher.PolygonalPrism\n",
    "\n",
    "    input\n",
    "\n",
    "    m: 1D array - parameter vector\n",
    "    M: int - number of vertices\n",
    "    L: int - number of prisms\n",
    "    z0: float - top of the model\n",
    "    dz: float - thickness of each prism\n",
    "    props: dictionary - physical property\n",
    "\n",
    "    output\n",
    "\n",
    "    mv: list - list of fatiando.mesher.PolygonalPrism\n",
    "    '''\n",
    "    P = L*(M + 2)\n",
    "    assert m.size == P, 'The size of m must be equal to L*(M + 2)'\n",
    "    for i in range(P):\n",
    "        assert m[i:i+M].all >= 0., 'The radial distances must be positives'\n",
    "\n",
    "    r = np.zeros(M) # vector for radial distances\n",
    "    mv = [] # list of prisms\n",
    "\n",
    "    k = 0.\n",
    "    for i in range(0, P, M + 2):\n",
    "        r = m[i:M+i]\n",
    "        mv.append([r, m[i+M], m[i+M+1], z0 + dz*k, z0 + dz*(k + 1.), props])\n",
    "        k = k + 1.\n",
    "\n",
    "    mv = pol2cart(mv, M, L)\n",
    "\n",
    "    return mv"
   ]
  },
  {
   "cell_type": "markdown",
   "metadata": {},
   "source": [
    "# Modelagem direta"
   ]
  },
  {
   "cell_type": "code",
   "execution_count": 3,
   "metadata": {
    "collapsed": true
   },
   "outputs": [],
   "source": [
    "M = 10 # number of vertices per prism\n",
    "L = 1 # number of prisms\n",
    "P = L*(M+2) # number of parameters\n",
    "\n",
    "z0 = 100.    # depth of the top the shallowest prism\n",
    "dz_true = 500.    # thickness of each prism\n",
    "\n",
    "inc = -60.  # inclination\n",
    "dec = 50.   # declination\n",
    "intensity = 0.035 # intensity\n",
    "\n",
    "props={'magnetization': utils.ang2vec(intensity, inc, dec)} # physical property: magnetization\n",
    "\n",
    "r_true = 500.\n",
    "\n",
    "r = np.zeros(M) + r_true # radial distance for each vertice\n",
    "\n",
    "# Cartesian coordinates of the origin of each prism\n",
    "x0 = 0. \n",
    "y0 = 0.\n",
    "\n",
    "l = [[r, x0, y0, z0, z0 + dz_true, props]]   # list of parameters of the prisms\n",
    "\n",
    "# criando os prismas do fatiando\n",
    "prisms = pol2cart(l, M, L)"
   ]
  },
  {
   "cell_type": "code",
   "execution_count": 4,
   "metadata": {
    "collapsed": false
   },
   "outputs": [
    {
     "data": {
      "image/png": "[encoded data removed]",
      "text/plain": [
       "<IPython.core.display.Image object>"
      ]
     },
     "execution_count": 4,
     "metadata": {},
     "output_type": "execute_result"
    }
   ],
   "source": [
    "img(filename='bolacha.png')"
   ]
  },
  {
   "cell_type": "markdown",
   "metadata": {},
   "source": [
    "# Pontos de observação"
   ]
  },
  {
   "cell_type": "code",
   "execution_count": 5,
   "metadata": {
    "collapsed": true
   },
   "outputs": [],
   "source": [
    "area = [-2000, 2000, -2000, 2000] #x minimum, x maximum, y minimum and y maximum\n",
    "shape = (50,50) #number of data along the y and x directions\n",
    "N = shape[0]*shape[1] #total number of data\n",
    "\n",
    "#coordinates x and y of the data\n",
    "xp, yp = regular(area, shape)\n",
    "\n",
    "zp = np.zeros(N) - 100."
   ]
  },
  {
   "cell_type": "markdown",
   "metadata": {},
   "source": [
    "# Dados observados"
   ]
  },
  {
   "cell_type": "code",
   "execution_count": 6,
   "metadata": {
    "collapsed": false
   },
   "outputs": [],
   "source": [
    "data = polyprism.tf(xp, yp, zp, prisms, inc, dec) # predict data\n",
    "amp_noise = 0.01*np.max(data)\n",
    "data_noise = data + np.random.normal(loc=0., scale=amp_noise, size=shape[0]*shape[1]) # noise corrupted data"
   ]
  },
  {
   "cell_type": "markdown",
   "metadata": {},
   "source": [
    "# Plot função desajuste"
   ]
  },
  {
   "cell_type": "code",
   "execution_count": 7,
   "metadata": {
    "collapsed": true
   },
   "outputs": [],
   "source": [
    "r_plot = np.linspace(100., 1000., 20)\n",
    "dz_plot = np.linspace(10., 1000., 20)\n",
    "r_plot,dz_plot = np.meshgrid(r_plot, dz_plot)\n",
    "r_plot = r_plot.ravel()\n",
    "dz_plot = dz_plot.ravel()\n",
    "phi_plot = np.zeros_like(r_plot)\n",
    "\n",
    "for i, (r, dz) in enumerate(zip(r_plot,dz_plot)):\n",
    "    m = np.zeros(M) + r\n",
    "    m = np.hstack((m,np.zeros(2)))\n",
    "    l = param2polyprism(m, M, L, z0, z0 + dz, props)\n",
    "    d_pred = polyprism.tf(xp, yp, zp, l, inc, dec)\n",
    "    phi_plot[i] = np.sum((data - d_pred)**2)\n",
    "\n",
    "r_plot = r_plot.reshape((20,20))\n",
    "dz_plot = dz_plot.reshape((20,20))\n",
    "phi_plot = phi_plot.reshape((20,20))\n",
    "\n",
    "# equalizando as cores\n",
    "phi_eq = histeq(phi_plot)\n",
    "phi_eq = np.reshape(phi_eq,(20,20))\n",
    "phi_eq = phi_eq"
   ]
  },
  {
   "cell_type": "code",
   "execution_count": 8,
   "metadata": {
    "collapsed": false
   },
   "outputs": [
    {
     "data": {
      "image/png": "[encoded data removed]",
      "text/plain": [
       "<matplotlib.figure.Figure at 0x7f48b1eddf50>"
      ]
     },
     "metadata": {},
     "output_type": "display_data"
    }
   ],
   "source": [
    "plt.figure(figsize=(5,5))\n",
    "plt.plot(r_true, dz_true, 'og')\n",
    "plt.title('Funcao objetivo', fontsize=18)\n",
    "plt.contourf(r_plot, dz_plot, phi_eq, 50, cmap='jet')\n",
    "plt.xlabel('$r$ (m)', fontsize=18)\n",
    "plt.ylabel('$dz$ (m)', fontsize=18)\n",
    "plt.colorbar(pad=0.01, aspect=20, shrink=1)\n",
    "plt.show()"
   ]
  },
  {
   "cell_type": "markdown",
   "metadata": {},
   "source": [
    "# Funções"
   ]
  },
  {
   "cell_type": "code",
   "execution_count": 9,
   "metadata": {
    "collapsed": true
   },
   "outputs": [],
   "source": [
    "def derivative_tf_z(xp, yp, zp, prism, M, deltaz, inc, dec):\n",
    "    '''\n",
    "    This function calculates the derivative for total field anomaly\n",
    "    from a model of polygonal prisms using finite difference.\n",
    "\n",
    "    input\n",
    "\n",
    "    xp: array - x observation points\n",
    "    yp: array - y observation points\n",
    "    zp: array - z observation points\n",
    "    prism: list - list of one fatiando.mesher.PolygonalPrism\n",
    "    M: int - number of vertices per prism\n",
    "    delta: float - increment in x coordinate in meters\n",
    "    inc: float - inclination\n",
    "    dec: declination\n",
    "\n",
    "    output\n",
    "\n",
    "    df: 1D array - derivative\n",
    "    '''\n",
    "    assert xp.size == yp.size == zp.size, 'The number of points in x, y and z must be equal'\n",
    "\n",
    "    prism_plus = deepcopy([prism])  # m.x + delta\n",
    "    prism_minus = deepcopy([prism])  # m.x - deltaa\n",
    "    prism_plus[0].z2 += deltaz\n",
    "    prism_minus[0].z2 -= deltaz\n",
    "\n",
    "    df = polyprism.tf(xp, yp, zp, prism_plus, inc, dec)\n",
    "    df -= polyprism.tf(xp, yp, zp, prism_minus, inc, dec)\n",
    "    df /= (2.*deltaz)\n",
    "\n",
    "    return df\n",
    "\n",
    "def derivative_tf_radiall(xp, yp, zp, prism, M, deltar, inc, dec):\n",
    "    '''\n",
    "    This function calculates the derivative for total field anomaly\n",
    "    from a model of polygonal prisms using finite difference.\n",
    "\n",
    "    input\n",
    "\n",
    "    xp: array - x observation points\n",
    "    yp: array - y observation points\n",
    "    zp: array - z observation points\n",
    "    prism: list - list of a fatiando.mesher.PolygonalPrism\n",
    "    M: int - number of vertices per prism\n",
    "    deltar: float - increment in radial distance in meters\n",
    "    inc: float - inclination\n",
    "    dec: declination\n",
    "\n",
    "    output\n",
    "\n",
    "    df: 1D array - derivative\n",
    "    '''\n",
    "    assert xp.size == yp.size == zp.size, 'The number of points in x, y and z must be equal'\n",
    "    \n",
    "    ang = 2.*np.pi/M # angle between two vertices\n",
    "    \n",
    "    prism_plus = deepcopy([prism])  # m.x + delta\n",
    "    prism_minus = deepcopy([prism])  # m.x - delta\n",
    "\n",
    "    for i in range(M):\n",
    "        deltax = deltar*np.cos(i*ang)\n",
    "        deltay = deltar*np.sin(i*ang)\n",
    "        prism_plus[0].x[i] += deltax\n",
    "        prism_plus[0].y[i] += deltay\n",
    "        prism_minus[0].x[i] -= deltax\n",
    "        prism_minus[0].y[i] -= deltay\n",
    "\n",
    "    df = polyprism.tf(xp, yp, zp, prism_plus, inc, dec)\n",
    "    df -= polyprism.tf(xp, yp, zp, prism_minus, inc, dec)\n",
    "    df /= (2.*deltar)\n",
    "\n",
    "    return df\n",
    "\n",
    "# calculando jacobiana de phi\n",
    "def jacobi_geo(xp, yp, zp, prism, M, deltar, deltaz, inc, dec):\n",
    "    '''\n",
    "    Returns the sensitivity matrix for polygonal prisms using finite\n",
    "    differences.\n",
    "\n",
    "    input\n",
    "\n",
    "    xp: array - x observation points\n",
    "    yp: array - y observation points\n",
    "    zp: array - z observation points\n",
    "    prism: list - list of fatiando.mesher.PolygonalPrism\n",
    "    M: int - number of vertices per prism\n",
    "    deltar: float - increment in meters for radial distance\n",
    "    deltaz: float - increment in meters for depth\n",
    "    inc: float - inclination of the local-geomagnetic field\n",
    "    dec: declination of the local-geomagnetic field\n",
    "\n",
    "    output\n",
    "\n",
    "    G: 2D array - sensitivity matrix\n",
    "    '''\n",
    "    assert xp.size == yp.size == zp.size, 'The number of points in x, y and z must be equal'\n",
    "\n",
    "    G = np.zeros((xp.size, 2))\n",
    "\n",
    "    G[:, 0] = derivative_tf_radiall(xp, yp, zp, prism[0], M, deltar, inc, dec)\n",
    "    G[:, 1] = derivative_tf_z(xp, yp, zp, prism[0], M, deltaz, inc, dec)\n",
    "\n",
    "    return G"
   ]
  },
  {
   "cell_type": "markdown",
   "metadata": {},
   "source": [
    "# Funções de regularização"
   ]
  },
  {
   "cell_type": "code",
   "execution_count": 10,
   "metadata": {
    "collapsed": true
   },
   "outputs": [],
   "source": [
    "def regularization(p0, mi0, mi1, mit):\n",
    "    '''\n",
    "    Returns the value, gradient and Hessian of the constraint function.\n",
    "    \n",
    "    input\n",
    "    \n",
    "    p0: 1D array - parameters vector\n",
    "    mi0: float - zero order Tikhonov's regularization parameter\n",
    "    mi1: float - one order smoothness regularization parameter\n",
    "    mit: float - total variation regularization parameter\n",
    "    \n",
    "    output\n",
    "    \n",
    "    phi: float - value of constraint function\n",
    "    grad: 1D array - gradient of constraint funtion\n",
    "    H: 2D array - Hessian of constraint function\n",
    "    '''\n",
    "    H = mi0*np.identity(p0.size)\n",
    "    grad = mi0*p0\n",
    "    phi = np.dot(p0, grad)\n",
    "    \n",
    "    RTR = np.array([[1.,-1.], [-1.,1.]])\n",
    "    H += mi1*RTR\n",
    "    grad += mi1*np.dot(RTR, p0)\n",
    "    phi += np.dot(p0, grad)\n",
    "    \n",
    "    return phi, grad, H"
   ]
  },
  {
   "cell_type": "markdown",
   "metadata": {},
   "source": [
    "# Modelo interpretativo"
   ]
  },
  {
   "cell_type": "code",
   "execution_count": 11,
   "metadata": {
    "collapsed": false
   },
   "outputs": [],
   "source": [
    "# chute inicial\n",
    "p01 = 200.\n",
    "p02 = 200.\n",
    "\n",
    "# incremento para as derivadas\n",
    "deltar = 0.01*p01\n",
    "deltaz = 0.01*p02\n",
    "\n",
    "r = np.zeros(M) + p01 # radial distance for each vertice\n",
    "\n",
    "# Cartesian coordinates of the origin of each prism\n",
    "x0 = 0. \n",
    "y0 = 0.\n",
    "\n",
    "l = [[r, x0, y0, z0, z0 + p02, props]]\n",
    "\n",
    "prism0 = pol2cart(l, M, L)\n",
    "\n",
    "d0 = polyprism.tf(xp, yp, zp, prism0, inc, dec)\n",
    "\n",
    "# vetor do chute inicial\n",
    "p0 = np.array([p01,p02])\n",
    "\n",
    "#critétio de parada\n",
    "epsilon = 0.00001\n",
    "\n",
    "# parâmetros de regularização\n",
    "mi0 = 0.000001\n",
    "mi1 = 0.\n",
    "mit = 0.\n",
    "\n",
    "# calculando o valor da função e do resíduo em p0\n",
    "res0 = data_noise - d0\n",
    "phi0 = np.sum(res0*res0)\n",
    "\n",
    "# listas para armazenar as estimativas\n",
    "p1_list = [p01]\n",
    "p2_list = [p02]\n",
    "phi_list = [phi0]\n",
    "\n",
    "# iterações do algoritmo\n",
    "itmax = 30"
   ]
  },
  {
   "cell_type": "markdown",
   "metadata": {},
   "source": [
    "# Parâmetros para o plot das funções de regularização"
   ]
  },
  {
   "cell_type": "code",
   "execution_count": 12,
   "metadata": {
    "collapsed": false
   },
   "outputs": [],
   "source": [
    "phi_reg = np.zeros((20,20)).ravel()\n",
    "p_reg = np.zeros(2)\n",
    "for i, (ri, zi) in enumerate(zip(r_plot.ravel(), dz_plot.ravel())):\n",
    "    p_reg[0] = ri\n",
    "    p_reg[1] = zi\n",
    "    phi_reg[i], grad_reg, H_reg = regularization(p_reg, mi0, mi1,  mit)\n",
    "    \n",
    "phi_reg_plot = histeq(phi_reg)"
   ]
  },
  {
   "cell_type": "code",
   "execution_count": 13,
   "metadata": {
    "collapsed": false
   },
   "outputs": [],
   "source": [
    "phi_reg_plot = histeq(phi_reg)\n",
    "phi_reg_plot = phi_reg.reshape(20,20)"
   ]
  },
  {
   "cell_type": "markdown",
   "metadata": {},
   "source": [
    "# Algoritmo Gauss-Newton"
   ]
  },
  {
   "cell_type": "code",
   "execution_count": 14,
   "metadata": {
    "collapsed": false
   },
   "outputs": [
    {
     "name": "stdout",
     "output_type": "stream",
     "text": [
      "itreação:   0   r: 200.00   z: 200.00   misfit: 3.98e+03\n",
      "itreação:   1   r: -543.46   z: 3651.37   misfit: 1.10e+03\n",
      "itreação:   2   r: -491.29   z: 3062.61   misfit: 3.72e+02\n",
      "itreação:   3   r: -483.97   z: 2416.54   misfit: 3.07e+02\n",
      "itreação:   4   r: -483.20   z: 1760.09   misfit: 3.01e+02\n",
      "itreação:   5   r: -482.99   z: 1104.26   misfit: 2.99e+02\n",
      "itreação:   6   r: -482.83   z: 450.00   misfit: 2.98e+02\n",
      "itreação:   7   r: -482.68   z: -202.61   misfit: 2.97e+02\n",
      "itreação:   8   r: -482.53   z: -853.56   misfit: 2.95e+02\n",
      "itreação:   9   r: -482.38   z: -1502.85   misfit: 2.94e+02\n",
      "itreação:  10   r: -482.22   z: -2150.48   misfit: 2.93e+02\n",
      "itreação:  11   r: -482.07   z: -2796.44   misfit: 2.92e+02\n",
      "itreação:  12   r: -481.92   z: -3440.75   misfit: 2.91e+02\n",
      "itreação:  13   r: -481.77   z: -4083.40   misfit: 2.89e+02\n",
      "itreação:  14   r: -481.62   z: -4724.39   misfit: 2.88e+02\n",
      "itreação:  15   r: -481.47   z: -5363.71   misfit: 2.87e+02\n",
      "itreação:  16   r: -481.32   z: -6001.38   misfit: 2.86e+02\n",
      "itreação:  17   r: -481.16   z: -6637.39   misfit: 2.85e+02\n",
      "itreação:  18   r: -481.01   z: -7271.73   misfit: 2.84e+02\n",
      "itreação:  19   r: -480.86   z: -7904.42   misfit: 2.82e+02\n",
      "itreação:  20   r: -480.71   z: -8535.45   misfit: 2.81e+02\n",
      "itreação:  21   r: -480.56   z: -9164.82   misfit: 2.80e+02\n",
      "itreação:  22   r: -480.41   z: -9792.53   misfit: 2.79e+02\n",
      "itreação:  23   r: -480.26   z: -10418.59   misfit: 2.78e+02\n",
      "itreação:  24   r: -480.11   z: -11042.98   misfit: 2.77e+02\n",
      "itreação:  25   r: -479.96   z: -11665.72   misfit: 2.76e+02\n",
      "itreação:  26   r: -479.81   z: -12286.79   misfit: 2.74e+02\n",
      "itreação:  27   r: -479.66   z: -12906.21   misfit: 2.73e+02\n",
      "itreação:  28   r: -479.51   z: -13523.98   misfit: 2.72e+02\n",
      "itreação:  29   r: -479.37   z: -14140.08   misfit: 2.71e+02\n"
     ]
    }
   ],
   "source": [
    "for it in range(itmax):\n",
    "    # calculando os elementos da regularização\n",
    "    phi_reg, grad_reg, H_reg = regularization(p0, mi0, mi1, mit)\n",
    "    # calculando a Jacobiana e o gradiente\n",
    "    G = jacobi_geo(xp, yp, zp, prism0, M, deltar, deltaz, inc, dec)\n",
    "    H = 2.*np.dot(G.T, G) + H_reg\n",
    "    grad = -2.*np.dot(G.T, res0) + grad_reg\n",
    "    \n",
    "    # calculando p e atualizando para a próxima iteração\n",
    "    p = p0 + np.linalg.solve(H, -grad)\n",
    "    #print p, p0\n",
    "    l = [[np.zeros(M) + p[0], x0, y0, z0, z0 + dz, props]]\n",
    "    prism = pol2cart(l, M, L)\n",
    "    d = polyprism.tf(xp, yp, zp, prism, inc, dec)\n",
    "    res = data_noise - d\n",
    "    phi = np.sum(res*res)\n",
    "    \n",
    "    # printa os valores\n",
    "    print 'itreação: %3d   r: %.2f   z: %.2f   misfit: %.2e' % (it, p0[0], p0[1], phi0)\n",
    "    \n",
    "    # armazenando os resultados em listas para o plot\n",
    "    phi_list.append(phi)\n",
    "    p1_list.append(p[0])\n",
    "    p2_list.append(p[1])\n",
    "    \n",
    "    if (abs(phi-phi0)/phi0 <= epsilon):\n",
    "        break\n",
    "    else:\n",
    "        # atualizando parâmetros\n",
    "        p0 = p.copy()\n",
    "        d0 = d.copy()\n",
    "        res0 = res.copy()\n",
    "        phi0 = phi\n",
    "        prism0 = prism"
   ]
  },
  {
   "cell_type": "markdown",
   "metadata": {},
   "source": [
    "# Plots de resultados"
   ]
  },
  {
   "cell_type": "code",
   "execution_count": 15,
   "metadata": {
    "collapsed": true
   },
   "outputs": [],
   "source": [
    "res_norm = (res - np.mean(res))/np.std(res)\n",
    "res_plot = res.reshape(shape)\n",
    "xp = xp.reshape(shape)\n",
    "yp = yp.reshape(shape)\n",
    "dpred = data.reshape(shape)\n",
    "dobs = data_noise.reshape(shape)"
   ]
  },
  {
   "cell_type": "code",
   "execution_count": 16,
   "metadata": {
    "collapsed": false
   },
   "outputs": [
    {
     "ename": "NameError",
     "evalue": "name 'z0_plot' is not defined",
     "output_type": "error",
     "traceback": [
      "\u001b[0;31m---------------------------------------------------------------------------\u001b[0m",
      "\u001b[0;31mNameError\u001b[0m                                 Traceback (most recent call last)",
      "\u001b[0;32m<ipython-input-16-1afb60c1ede4>\u001b[0m in \u001b[0;36m<module>\u001b[0;34m()\u001b[0m\n\u001b[1;32m      4\u001b[0m \u001b[0mplt\u001b[0m\u001b[0;34m.\u001b[0m\u001b[0mplot\u001b[0m\u001b[0;34m(\u001b[0m\u001b[0mp1_list\u001b[0m\u001b[0;34m,\u001b[0m \u001b[0mp2_list\u001b[0m\u001b[0;34m,\u001b[0m \u001b[0;34m'.w-'\u001b[0m\u001b[0;34m,\u001b[0m \u001b[0mmarkersize\u001b[0m\u001b[0;34m=\u001b[0m\u001b[0;36m5\u001b[0m\u001b[0;34m)\u001b[0m\u001b[0;34m\u001b[0m\u001b[0m\n\u001b[1;32m      5\u001b[0m \u001b[0mplt\u001b[0m\u001b[0;34m.\u001b[0m\u001b[0mtitle\u001b[0m\u001b[0;34m(\u001b[0m\u001b[0;34m'SD - geofisica'\u001b[0m\u001b[0;34m,\u001b[0m \u001b[0mfontsize\u001b[0m\u001b[0;34m=\u001b[0m\u001b[0;36m18\u001b[0m\u001b[0;34m)\u001b[0m\u001b[0;34m\u001b[0m\u001b[0m\n\u001b[0;32m----> 6\u001b[0;31m \u001b[0mplt\u001b[0m\u001b[0;34m.\u001b[0m\u001b[0mcontourf\u001b[0m\u001b[0;34m(\u001b[0m\u001b[0mr_plot\u001b[0m\u001b[0;34m,\u001b[0m \u001b[0mz0_plot\u001b[0m\u001b[0;34m,\u001b[0m \u001b[0mphi_eq\u001b[0m\u001b[0;34m,\u001b[0m \u001b[0;36m40\u001b[0m\u001b[0;34m,\u001b[0m \u001b[0mcmap\u001b[0m\u001b[0;34m=\u001b[0m\u001b[0;34m'jet'\u001b[0m\u001b[0;34m)\u001b[0m\u001b[0;34m\u001b[0m\u001b[0m\n\u001b[0m\u001b[1;32m      7\u001b[0m \u001b[0mplt\u001b[0m\u001b[0;34m.\u001b[0m\u001b[0mxlabel\u001b[0m\u001b[0;34m(\u001b[0m\u001b[0;34m'$r$'\u001b[0m\u001b[0;34m,\u001b[0m \u001b[0mfontsize\u001b[0m\u001b[0;34m=\u001b[0m\u001b[0;36m18\u001b[0m\u001b[0;34m)\u001b[0m\u001b[0;34m\u001b[0m\u001b[0m\n\u001b[1;32m      8\u001b[0m \u001b[0mplt\u001b[0m\u001b[0;34m.\u001b[0m\u001b[0mylabel\u001b[0m\u001b[0;34m(\u001b[0m\u001b[0;34m'$dz$'\u001b[0m\u001b[0;34m,\u001b[0m \u001b[0mfontsize\u001b[0m\u001b[0;34m=\u001b[0m\u001b[0;36m18\u001b[0m\u001b[0;34m)\u001b[0m\u001b[0;34m\u001b[0m\u001b[0m\n",
      "\u001b[0;31mNameError\u001b[0m: name 'z0_plot' is not defined"
     ]
    }
   ],
   "source": [
    "#plot\n",
    "plt.figure(figsize=(5,5))\n",
    "plt.plot(r_true, dz_true, 'oy')\n",
    "plt.plot(p1_list, p2_list, '.w-', markersize=5)\n",
    "plt.title('SD - geofisica', fontsize=18)\n",
    "plt.contourf(r_plot, dz_plot, phi_eq, 40, cmap='jet')\n",
    "plt.xlabel('$r$', fontsize=18)\n",
    "plt.ylabel('$dz$', fontsize=18)\n",
    "plt.colorbar(pad=0.01, aspect=20, shrink=1)\n",
    "plt.show()"
   ]
  },
  {
   "cell_type": "code",
   "execution_count": null,
   "metadata": {
    "collapsed": false,
    "scrolled": true
   },
   "outputs": [],
   "source": [
    "# plot\n",
    "plt.figure(figsize=(20,5))\n",
    "plt.subplot(1, 3, 1)\n",
    "plt.title('Convergencia', fontsize = 18)\n",
    "plt.xlabel('Iteration number')\n",
    "plt.plot(phi_list, 'o')\n",
    "\n",
    "plt.subplot(1, 3, 2)\n",
    "plt.title('Estimativas de  r', fontsize = 18)\n",
    "plt.xlabel('Iteration number')\n",
    "plt.ylabel('r')\n",
    "plt.plot(p1_list, 'o')\n",
    "plt.plot(np.zeros(len(p1_list)) + r_true, '-')\n",
    "\n",
    "plt.subplot(1, 3, 3)\n",
    "plt.title('Estimativas de  dz', fontsize = 18)\n",
    "plt.xlabel('Iteration number')\n",
    "plt.ylabel('dz')\n",
    "plt.plot(p2_list, 'o')\n",
    "plt.plot(np.zeros(len(p1_list)) + dz_true, '-')\n",
    "plt.show()"
   ]
  },
  {
   "cell_type": "code",
   "execution_count": null,
   "metadata": {
    "collapsed": false
   },
   "outputs": [],
   "source": [
    "# plot\n",
    "plt.figure(figsize=(20,5))\n",
    "plt.subplot(1, 3, 1)\n",
    "plt.title('Dado predito', fontsize=20)\n",
    "plt.contourf(yp, xp, dpred, 40, cmap='jet').ax.tick_params(labelsize=12)\n",
    "plt.xlabel('$y$(m)', fontsize=18)\n",
    "plt.ylabel('$x$(m)', fontsize=18)\n",
    "clb = plt.colorbar(pad=0.01, aspect=20, shrink=1)\n",
    "clb.ax.tick_params(labelsize=13)\n",
    "\n",
    "plt.subplot(1, 3, 2)\n",
    "plt.title('Dado observado', fontsize=20)\n",
    "plt.contourf(yp, xp, dobs, 40, cmap='jet').ax.tick_params(labelsize=12)\n",
    "plt.xlabel('$y$(m)', fontsize=18)\n",
    "plt.ylabel('$x$(m)', fontsize=18)\n",
    "clb = plt.colorbar(pad=0.01, aspect=20, shrink=1)\n",
    "clb.ax.tick_params(labelsize=13)\n",
    "\n",
    "plt.subplot(1, 3, 3)\n",
    "plt.title('SD - ajuste', fontsize=20)\n",
    "plt.contourf(yp, xp, res_plot, 40, cmap='jet').ax.tick_params(labelsize=12)\n",
    "plt.xlabel('$y$(m)', fontsize=18)\n",
    "plt.ylabel('$x$(m)', fontsize=18)\n",
    "clb = plt.colorbar(pad=0.01, aspect=20, shrink=1)\n",
    "clb.ax.tick_params(labelsize=13)\n",
    "plt.show()"
   ]
  },
  {
   "cell_type": "code",
   "execution_count": null,
   "metadata": {
    "collapsed": false
   },
   "outputs": [],
   "source": [
    "plt.plot(figsize=(30,25))\n",
    "plt.title('Histogram', fontsize = 20)\n",
    "plt.xlabel('$\\mu$ = %.7f  $\\sigma$ = %.7f' % (np.mean(res_norm), np.std(res_norm)), fontsize=20)\n",
    "nbins = int((np.max(res_norm) - np.min(res_norm)))\n",
    "plt.hist(res_norm,bins=nbins, normed=True)\n",
    "plt.ylim(0.,0.5)\n",
    "plt.xlim(-10., 10.)\n",
    "plt.show()"
   ]
  },
  {
   "cell_type": "code",
   "execution_count": null,
   "metadata": {
    "collapsed": false
   },
   "outputs": [],
   "source": [
    "# plot\n",
    "plt.figure(figsize=(20,5))\n",
    "plt.subplot(1, 3, 1)\n",
    "plt.title('Misfit', fontsize=30)\n",
    "plt.plot(500., 100., 'oy')\n",
    "plt.contourf(r_plot, dz_plot, phi_eq, 40, cmap='jet').ax.tick_params(labelsize=12)\n",
    "plt.xlabel('$r$(m)', fontsize=18)\n",
    "plt.ylabel('$dz$(m)', fontsize=18)\n",
    "plt.colorbar(pad=0.01, aspect=20, shrink=1).ax.tick_params(labelsize=12)\n",
    "\n",
    "plt.subplot(1, 3, 2)\n",
    "plt.title('Regularizacao', fontsize=30)\n",
    "plt.plot(500., 100., 'oy')\n",
    "plt.contourf(r_plot, dz_plot, phi_reg_plot, 40, cmap='jet').ax.tick_params(labelsize=12)\n",
    "plt.xlabel('$r$(m)', fontsize=18)\n",
    "plt.ylabel('$x$(m)', fontsize=18)\n",
    "plt.colorbar(pad=0.01, aspect=20, shrink=1).ax.tick_params(labelsize=12)\n",
    "\n",
    "plt.subplot(1, 3, 3)\n",
    "plt.title('Funcao objetivo', fontsize=30)\n",
    "plt.plot(500., 100., 'oy')\n",
    "plt.contourf(r_plot, dz_plot, phi_eq+phi_reg_plot, 40, cmap='jet').ax.tick_params(labelsize=12)\n",
    "plt.xlabel('$r$(m)', fontsize=18)\n",
    "plt.ylabel('$x$(m)', fontsize=18)\n",
    "clb = plt.colorbar(pad=0.01, aspect=20, shrink=1)\n",
    "clb.ax.tick_params(labelsize=18)\n",
    "plt.show()"
   ]
  }
 ],
 "metadata": {
  "kernelspec": {
   "display_name": "Python 2",
   "language": "python",
   "name": "python2"
  },
  "language_info": {
   "codemirror_mode": {
    "name": "ipython",
    "version": 2
   },
   "file_extension": ".py",
   "mimetype": "text/x-python",
   "name": "python",
   "nbconvert_exporter": "python",
   "pygments_lexer": "ipython2",
   "version": "2.7.13"
  }
 },
 "nbformat": 4,
 "nbformat_minor": 2
}
