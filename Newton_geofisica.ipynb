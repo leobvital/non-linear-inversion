{
 "cells": [
  {
   "cell_type": "markdown",
   "metadata": {},
   "source": [
    "# Método de Newton aplicado à função geofísica"
   ]
  },
  {
   "cell_type": "markdown",
   "metadata": {},
   "source": [
    "O método de Newton é um método de gradiente aceitável, o qual expande a função objetivo em série de Taylor até segunda ordem em torno de $\\mathbf{p}_i$:"
   ]
  },
  {
   "cell_type": "markdown",
   "metadata": {},
   "source": [
    "\\begin{equation}\n",
    "\\phi(\\mathbf{p}) = \\phi(\\mathbf{p}_i) + \\mathbf{J}_i^T(\\mathbf{p} - \\mathbf{p}_i) + \\frac{1}{2}(\\mathbf{p} - \\mathbf{p}_i)^T\\mathbf{H}_i(\\mathbf{p} - \\mathbf{p}_i)\n",
    "\\end{equation}"
   ]
  },
  {
   "cell_type": "markdown",
   "metadata": {},
   "source": [
    "nde $\\mathbf{J} = \\boldsymbol{\\nabla}_{\\mathbf{p}}\\phi |_{\\mathbf{p} =\\mathbf{p}_i}$ e $\\mathbf{H} = \\boldsymbol{\\nabla}_{\\mathbf{p}}\\boldsymbol{\\nabla}_{\\mathbf{p}}^T\\phi|_{\\mathbf{p} =\\mathbf{p}_i}$ ."
   ]
  },
  {
   "cell_type": "markdown",
   "metadata": {},
   "source": [
    "Todo método de gradiente aceitável é definido pela equação:"
   ]
  },
  {
   "cell_type": "markdown",
   "metadata": {},
   "source": [
    "\\begin{equation}\n",
    "\\mathbf{p}_{i+1} = \\mathbf{p}_i - \\rho_i \\mathbf{R}_i\\mathbf{J}_i\n",
    "\\end{equation}"
   ]
  },
  {
   "cell_type": "markdown",
   "metadata": {},
   "source": [
    "No método de Newton $\\rho_i = 1$ e $\\mathbf{R}_i = \\mathbf{H}^{-1}_i$. Seu algoritmo fica:"
   ]
  },
  {
   "cell_type": "markdown",
   "metadata": {},
   "source": [
    "1) estabelece um chute inicial $\\mathbf{p}_i$\n",
    "\n",
    "2) calcula $\\mathbf{J}_i$ e $\\mathbf{H}_i$\n",
    "\n",
    "3) calcula $\\mathbf{p}_{i+1} = \\mathbf{p}_i - \\mathbf{H}_i^{-1} \\mathbf{J}_i$\n",
    " \n",
    "4) testa a convergência, se for satisfeita o algoritmo para, caso contrário retorna para 1)"
   ]
  },
  {
   "cell_type": "markdown",
   "metadata": {},
   "source": [
    "# Importando pacotes"
   ]
  },
  {
   "cell_type": "code",
   "execution_count": 1,
   "metadata": {
    "collapsed": false
   },
   "outputs": [
    {
     "name": "stderr",
     "output_type": "stream",
     "text": [
      "/home/vital/anaconda2/lib/python2.7/site-packages/fatiando/vis/mpl.py:76: UserWarning: This module will be removed in v0.6. We recommend the use of matplotlib.pyplot module directly. Some of the fatiando specific functions will remain.\n",
      "  \"specific functions will remain.\")\n",
      "/home/vital/anaconda2/lib/python2.7/site-packages/fatiando/vis/myv.py:51: UserWarning: This module will be removed in v0.7.\n",
      "  warnings.warn(\"This module will be removed in v0.7.\")\n"
     ]
    }
   ],
   "source": [
    "import numpy as np\n",
    "import matplotlib.pyplot as plt\n",
    "import cPickle as pickle\n",
    "from visual import histeq\n",
    "from fatiando.mesher import PolygonalPrism\n",
    "from IPython.display import Image as img\n",
    "from fatiando.gravmag import polyprism\n",
    "from copy import deepcopy\n",
    "from fatiando.vis import mpl, myv\n",
    "\n",
    "import sys\n",
    "sys.path.insert(0, '../magnetic-radial-inversion/code')\n",
    "\n",
    "import mag_polyprism_functions as mfun"
   ]
  },
  {
   "cell_type": "markdown",
   "metadata": {},
   "source": [
    "# Modelagem direta"
   ]
  },
  {
   "cell_type": "code",
   "execution_count": 2,
   "metadata": {
    "collapsed": true
   },
   "outputs": [],
   "source": [
    "with open('data/cylinder_model.pickle') as w:\n",
    "        cylinder_model = pickle.load(w)\n",
    "with open('data/cylinder_data.pickle') as w:\n",
    "        cylinder_data = pickle.load(w)\n",
    "with open('data/regular_grid.pickle') as w:\n",
    "        regular_grid = pickle.load(w)"
   ]
  },
  {
   "cell_type": "raw",
   "metadata": {},
   "source": [
    "bounds = [-800., 800., -800., 800., -200.0, 800.]\n",
    "\n",
    "red, green, blue = (1, 0, 0), (0, 1, 0), (0, 0, 1)\n",
    "white, black = (1, 1, 1), (0, 0, 0),\n",
    "\n",
    "# Show the model\n",
    "scene = myv.figure()\n",
    "myv.polyprisms(cylinder_model['prisms'], 'magnetization', color=blue, opacity=1.)\n",
    "\n",
    "ax = myv.axes(myv.outline(bounds), ranges=[i * 0.001 for i in bounds])\n",
    "ax.axes.x_label, ax.axes.y_label, ax.axes.z_label = 'x (m)', 'y (m)', 'z (m)'\n",
    "ax.axes.font_factor = 1.5\n",
    "scene.scene.camera.position = [-0.089204656936016313, -0.066107174155361687, -0.04083578885723696]\n",
    "scene.scene.camera.focal_point = [1.1820671636724554e-16, 1.3134079596360617e-17, -1.9701119394540926e-17]\n",
    "scene.scene.camera.view_angle = 30.0\n",
    "scene.scene.camera.view_up = [0.24683390337942718, 0.24593292331329802, -0.93733132955911114]\n",
    "scene.scene.camera.clipping_range = [0.057117737884348194, 0.1956040854922288]\n",
    "scene.scene.camera.compute_view_plane_normal()\n",
    "\n",
    "myv.wall_bottom(ax.axes.bounds, opacity=0.2)\n",
    "myv.wall_north(ax.axes.bounds)\n",
    "myv.savefig('bolacha.png')\n",
    "myv.show()"
   ]
  },
  {
   "cell_type": "code",
   "execution_count": 3,
   "metadata": {
    "collapsed": false
   },
   "outputs": [
    {
     "data": {
      "image/png": "[encoded data removed]",
      "text/plain": [
       "<IPython.core.display.Image object>"
      ]
     },
     "execution_count": 3,
     "metadata": {},
     "output_type": "execute_result"
    }
   ],
   "source": [
    "img(filename='bolacha.png')"
   ]
  },
  {
   "cell_type": "markdown",
   "metadata": {},
   "source": [
    "## Plotando a função"
   ]
  },
  {
   "cell_type": "code",
   "execution_count": 4,
   "metadata": {
    "collapsed": false
   },
   "outputs": [
    {
     "data": {
      "image/png": "[encoded data removed]",
      "text/plain": [
       "<matplotlib.figure.Figure at 0x7f77ea6e4390>"
      ]
     },
     "metadata": {},
     "output_type": "display_data"
    }
   ],
   "source": [
    "plt.figure(figsize=(5,5))\n",
    "plt.plot(500., 100., 'og')\n",
    "plt.title('Funcao objetivo', fontsize=18)\n",
    "plt.contourf(cylinder_data['p1'], cylinder_data['p2'], cylinder_data['phi_eq'], 50, cmap='jet')\n",
    "plt.xlabel('$r$ (m)', fontsize=18)\n",
    "plt.ylabel('$z_0$ (m)', fontsize=18)\n",
    "plt.colorbar(pad=0.01, aspect=20, shrink=1)\n",
    "plt.savefig('plot_geo_prob.png', pad_inches=0.0)\n",
    "plt.show()"
   ]
  },
  {
   "cell_type": "markdown",
   "metadata": {},
   "source": [
    "# Funções"
   ]
  },
  {
   "cell_type": "code",
   "execution_count": 5,
   "metadata": {
    "collapsed": false
   },
   "outputs": [],
   "source": [
    "def derivative_tf_z0(xp, yp, zp, prism, M, deltaz, inc, dec):\n",
    "    '''\n",
    "    This function calculates the derivative for total field anomaly\n",
    "    from a model of polygonal prisms using finite difference.\n",
    "\n",
    "    input\n",
    "\n",
    "    xp: array - x observation points\n",
    "    yp: array - y observation points\n",
    "    zp: array - z observation points\n",
    "    prism: list - list of one fatiando.mesher.PolygonalPrism\n",
    "    M: int - number of vertices per prism\n",
    "    delta: float - increment in x coordinate in meters\n",
    "    inc: float - inclination\n",
    "    dec: declination\n",
    "\n",
    "    output\n",
    "\n",
    "    df: 1D array - derivative\n",
    "    '''\n",
    "    assert xp.size == yp.size == zp.size, 'The number of points in x, y and z must be equal'\n",
    "\n",
    "    prism_plus = deepcopy([prism])  # m.x + delta\n",
    "    prism_minus = deepcopy([prism])  # m.x - deltaa\n",
    "    prism_plus[0].z1 += deltaz\n",
    "    prism_minus[0].z1 -= deltaz\n",
    "\n",
    "    df = polyprism.tf(xp, yp, zp, prism_plus, inc, dec)\n",
    "    df -= polyprism.tf(xp, yp, zp, prism_minus, inc, dec)\n",
    "    df /= (2.*deltaz)\n",
    "\n",
    "    return df\n",
    "\n",
    "def derivative_tf_radiall(xp, yp, zp, prism, M, deltar, inc, dec):\n",
    "    '''\n",
    "    This function calculates the derivative for total field anomaly\n",
    "    from a model of polygonal prisms using finite difference.\n",
    "\n",
    "    input\n",
    "\n",
    "    xp: array - x observation points\n",
    "    yp: array - y observation points\n",
    "    zp: array - z observation points\n",
    "    prism: list - list of a fatiando.mesher.PolygonalPrism\n",
    "    M: int - number of vertices per prism\n",
    "    deltar: float - increment in radial distance in meters\n",
    "    inc: float - inclination\n",
    "    dec: declination\n",
    "\n",
    "    output\n",
    "\n",
    "    df: 1D array - derivative\n",
    "    '''\n",
    "    assert xp.size == yp.size == zp.size, 'The number of points in x, y and z must be equal'\n",
    "    \n",
    "    ang = 2.*np.pi/M # angle between two vertices\n",
    "    \n",
    "    prism_plus = deepcopy([prism])  # m.x + delta\n",
    "    prism_minus = deepcopy([prism])  # m.x - delta\n",
    "\n",
    "    for i in range(M):\n",
    "        deltax = deltar*np.cos(i*ang)\n",
    "        deltay = deltar*np.sin(i*ang)\n",
    "        prism_plus[0].x[i] += deltax\n",
    "        prism_plus[0].y[i] += deltay\n",
    "        prism_minus[0].x[i] -= deltax\n",
    "        prism_minus[0].y[i] -= deltay\n",
    "\n",
    "    df = polyprism.tf(xp, yp, zp, prism_plus, inc, dec)\n",
    "    df -= polyprism.tf(xp, yp, zp, prism_minus, inc, dec)\n",
    "    df /= (2.*deltar)\n",
    "\n",
    "    return df\n",
    "\n",
    "# calculando jacobiana de phi\n",
    "def jacobi_geo(xp, yp, zp, prism, M, deltar, deltaz, inc, dec):\n",
    "    '''\n",
    "    Returns the sensitivity matrix for polygonal prisms using finite\n",
    "    differences.\n",
    "\n",
    "    input\n",
    "\n",
    "    xp: array - x observation points\n",
    "    yp: array - y observation points\n",
    "    zp: array - z observation points\n",
    "    prism: list - list of fatiando.mesher.PolygonalPrism\n",
    "    M: int - number of vertices per prism\n",
    "    deltar: float - increment in meters for radial distance\n",
    "    deltaz: float - increment in meters for depth\n",
    "    inc: float - inclination of the local-geomagnetic field\n",
    "    dec: declination of the local-geomagnetic field\n",
    "\n",
    "    output\n",
    "\n",
    "    G: 2D array - sensitivity matrix\n",
    "    '''\n",
    "    assert xp.size == yp.size == zp.size, 'The number of points in x, y and z must be equal'\n",
    "\n",
    "    G = np.zeros((xp.size, 2))\n",
    "\n",
    "    G[:, 0] = derivative_tf_radiall(xp, yp, zp, prism[0], M, deltar, inc, dec)\n",
    "    G[:, 1] = derivative_tf_z0(xp, yp, zp, prism[0], M, deltaz, inc, dec)\n",
    "\n",
    "    return G\n",
    "\n",
    "def derivative2_tf_z0(xp, yp, zp, prism, M, deltaz, inc, dec, dobs):\n",
    "    '''\n",
    "    This function calculates the second derivative for total field anomaly\n",
    "    from a model of polygonal prisms using finite difference.\n",
    "\n",
    "    input\n",
    "\n",
    "    xp: array - x observation points\n",
    "    yp: array - y observation points\n",
    "    zp: array - z observation points\n",
    "    prism: list - list of one fatiando.mesher.PolygonalPrism\n",
    "    M: int - number of vertices per prism\n",
    "    delta: float - increment in x coordinate in meters\n",
    "    inc: float - inclination\n",
    "    dec: float - declination\n",
    "    dobs: 1D array - observed data\n",
    "\n",
    "    output\n",
    "\n",
    "    h22: float - derivative of phi\n",
    "    '''\n",
    "    assert xp.size == yp.size == zp.size, 'The number of points in x, y and z must be equal'\n",
    "\n",
    "    d = polyprism.tf(xp, yp, zp, [prism], inc, dec)\n",
    "    prism_plus = deepcopy([prism])  # m.x + delta\n",
    "    prism_minus = deepcopy([prism])  # m.x - deltaa\n",
    "    prism_plus[0].z1 += deltaz\n",
    "    prism_minus[0].z1 -= deltaz\n",
    "\n",
    "    h22 = polyprism.tf(xp, yp, zp, prism_plus, inc, dec)\n",
    "    h22 -= 2.*d\n",
    "    h22 += polyprism.tf(xp, yp, zp, prism_minus, inc, dec)\n",
    "    h22 /= (deltaz*deltaz)\n",
    "\n",
    "    return h22\n",
    "\n",
    "def derivative2_tf_radiall(xp, yp, zp, prism, M, deltar, inc, dec, dobs):\n",
    "    '''\n",
    "    This function calculates the second derivative for total field anomaly\n",
    "    from a model of polygonal prisms using finite difference.\n",
    "\n",
    "    input\n",
    "\n",
    "    xp: array - x observation points\n",
    "    yp: array - y observation points\n",
    "    zp: array - z observation points\n",
    "    prism: list - list of a fatiando.mesher.PolygonalPrism\n",
    "    M: int - number of vertices per prism\n",
    "    deltar: float - increment in radial distance in meters\n",
    "    inc: float - inclination\n",
    "    dec: declination\n",
    "    dobs: 1D array - observed data\n",
    "\n",
    "\n",
    "    output\n",
    "\n",
    "    h11: float - derivative of phi\n",
    "    '''\n",
    "    assert xp.size == yp.size == zp.size, 'The number of points in x, y and z must be equal'\n",
    "    \n",
    "    d = polyprism.tf(xp, yp, zp, [prism], inc, dec)\n",
    "    \n",
    "    ang = 2.*np.pi/M # angle between two vertices\n",
    "    \n",
    "    prism_plus = deepcopy([prism])  # m.x + delta\n",
    "    prism_minus = deepcopy([prism])  # m.x - delta\n",
    "\n",
    "    for i in range(M):\n",
    "        deltax = deltar*np.cos(i*ang)\n",
    "        deltay = deltar*np.sin(i*ang)\n",
    "        prism_plus[0].x[i] += deltax\n",
    "        prism_plus[0].y[i] += deltay\n",
    "        prism_minus[0].x[i] -= deltax\n",
    "        prism_minus[0].y[i] -= deltay\n",
    "\n",
    "    h11 = polyprism.tf(xp, yp, zp, prism_plus, inc, dec)\n",
    "    h11 -= 2.*d\n",
    "    h11 += polyprism.tf(xp, yp, zp, prism_minus, inc, dec)\n",
    "    h11 /= (deltar*deltar)\n",
    "\n",
    "    return h11\n",
    "\n",
    "def derivative2_tf_z0_radiall(xp, yp, zp, prism, M, deltaz, inc, dec, dobs):\n",
    "    '''\n",
    "    This function calculates the crossed second derivative for total field anomaly\n",
    "    from a model of polygonal prisms using finite difference.\n",
    "\n",
    "    input\n",
    "\n",
    "    xp: array - x observation points\n",
    "    yp: array - y observation points\n",
    "    zp: array - z observation points\n",
    "    prism: list - list of one fatiando.mesher.PolygonalPrism\n",
    "    M: int - number of vertices per prism\n",
    "    delta: float - increment in x coordinate in meters\n",
    "    inc: float - inclination\n",
    "    dec: declination\n",
    "    dobs: 1D array - observed data\n",
    "\n",
    "\n",
    "    output\n",
    "\n",
    "    h12: float - derivative of phi\n",
    "    '''\n",
    "    assert xp.size == yp.size == zp.size, 'The number of points in x, y and z must be equal'\n",
    "    \n",
    "    ang = 2.*np.pi/M # angle between two vertices\n",
    "\n",
    "\n",
    "    prism_plus_plus = deepcopy([prism])  # m.x e m.y + delta\n",
    "    prism_plus_minus = deepcopy([prism])  # m.x + delta e m.y - delta\n",
    "    prism_minus_plus = deepcopy([prism])  # m.x - delta e m.y + delta\n",
    "    prism_minus_minus = deepcopy([prism])  # m.x e m.y - deltaa\n",
    "    prism_plus_plus[0].z1 += deltaz\n",
    "    prism_plus_minus[0].z1 += deltaz\n",
    "    prism_minus_plus[0].z1 -= deltaz\n",
    "    prism_minus_minus[0].z1 -= deltaz\n",
    "    \n",
    "    for i in range(M):\n",
    "        deltax = deltar*np.cos(i*ang)\n",
    "        deltay = deltar*np.sin(i*ang)\n",
    "        prism_plus_plus[0].x[i] += deltax\n",
    "        prism_plus_plus[0].y[i] += deltay\n",
    "        prism_minus_plus[0].x[i] += deltax\n",
    "        prism_minus_plus[0].y[i] += deltay\n",
    "        prism_plus_minus[0].x[i] -= deltax\n",
    "        prism_plus_minus[0].y[i] -= deltay\n",
    "        prism_minus_minus[0].x[i] -= deltax\n",
    "        prism_minus_minus[0].y[i] -= deltay\n",
    "\n",
    "    h12 = polyprism.tf(xp, yp, zp, prism_plus_plus, inc, dec)\n",
    "    h12 -= polyprism.tf(xp, yp, zp, prism_plus_minus, inc, dec)\n",
    "    h12 -= polyprism.tf(xp, yp, zp, prism_minus_plus, inc, dec)\n",
    "    h12 += polyprism.tf(xp, yp, zp, prism_minus_minus, inc, dec)\n",
    "    h12 /= (4.*deltar*deltaz)\n",
    "\n",
    "    return h12\n",
    "\n",
    "# calculando hessiana de phi\n",
    "def hessian_geo(xp, yp, zp, prism, M, deltar, deltaz, inc, dec, dobs):\n",
    "    '''\n",
    "    Returns the hessian matrix for polygonal prisms using finite\n",
    "    differences.\n",
    "\n",
    "    input\n",
    "\n",
    "    xp: array - x observation points\n",
    "    yp: array - y observation points\n",
    "    zp: array - z observation points\n",
    "    prism: list - list of fatiando.mesher.PolygonalPrism\n",
    "    M: int - number of vertices per prism\n",
    "    deltar: float - increment in meters for radial distance\n",
    "    deltaz: float - increment in meters for depth\n",
    "    inc: float - inclination of the local-geomagnetic field\n",
    "    dec: declination of the local-geomagnetic field\n",
    "    dobs: 1D array - observed data\n",
    "\n",
    "\n",
    "    output\n",
    "\n",
    "    H: 2D array - hessian matrix\n",
    "    '''\n",
    "    assert xp.size == yp.size == zp.size, 'The number of points in x, y and z must be equal'\n",
    "\n",
    "    H = np.zeros((2, 2))\n",
    "\n",
    "    H[0, 0] = derivative2_tf_radiall(xp, yp, zp, prism[0], M, deltar, inc, dec, dobs)\n",
    "    H[1, 1] = derivative2_tf_z0(xp, yp, zp, prism[0], M, deltaz, inc, dec, dobs)\n",
    "    H[0, 1] = derivative2_tf_z0_radiall(xp, yp, zp, prism[0], M, deltaz, inc, dec, dobs)\n",
    "    H[1, 0] = H[0, 1]\n",
    "    \n",
    "    return H"
   ]
  },
  {
   "cell_type": "markdown",
   "metadata": {},
   "source": [
    "# Modelo interpretativo"
   ]
  },
  {
   "cell_type": "code",
   "execution_count": 6,
   "metadata": {
    "collapsed": false
   },
   "outputs": [],
   "source": [
    "# chute inicial\n",
    "p01 = 600.\n",
    "p02 = 330.\n",
    "\n",
    "# incremento para as derivadas\n",
    "deltar = 0.01*p01\n",
    "deltaz = 0.01*p02\n",
    "\n",
    "r = np.zeros(cylinder_model['M']) + p01 # radial distance for each vertice\n",
    "\n",
    "# Cartesian coordinates of the origin of each prism\n",
    "x0 = 0. \n",
    "y0 = 0.\n",
    "\n",
    "l = [[r, x0, y0, p02, cylinder_model['dz'], cylinder_model['props']]]"
   ]
  },
  {
   "cell_type": "code",
   "execution_count": 7,
   "metadata": {
    "collapsed": false
   },
   "outputs": [],
   "source": [
    "prism0 = mfun.pol2cart(l, cylinder_model['M'], cylinder_model['L'])\n",
    "\n",
    "d0 = polyprism.tf(regular_grid['xp'], regular_grid['yp'], regular_grid['zp'],\n",
    "                    prism0, cylinder_model['inc'], cylinder_model['dec'])\n",
    "\n",
    "# vetor do chute inicial\n",
    "p0 = np.array([p01,p02]) \n",
    "\n",
    "# parâmetros para o critério de Armijo\n",
    "alfa = 0.0001\n",
    "lamb = 1.\n",
    "epsilon = 0.00000001\n",
    "\n",
    "# calculando o valor da função e do resíduo em p0\n",
    "res0 = cylinder_data['data_noise'] - d0\n",
    "phi0 = np.sum(res0*res0)\n",
    "\n",
    "\n",
    "p1_list = [p01]\n",
    "p2_list = [p02]\n",
    "phi_list = [phi0]"
   ]
  },
  {
   "cell_type": "markdown",
   "metadata": {},
   "source": [
    "# Algoritmo Steepest Descent"
   ]
  },
  {
   "cell_type": "code",
   "execution_count": 16,
   "metadata": {
    "collapsed": false
   },
   "outputs": [
    {
     "name": "stdout",
     "output_type": "stream",
     "text": [
      "[  7.53356793e+15   2.40001446e+13] [  7.46163515e+15   2.11996032e+13]\n",
      "  0 7.53e+15 2.40e+13 7.08280e+04\n",
      "[  8.09903687e+15   2.80220523e+13] [  7.53356793e+15   2.40001446e+13]\n",
      "  1 8.10e+15 2.80e+13 7.08282e+04\n",
      "[  8.14202070e+15   3.24656868e+13] [  8.09903687e+15   2.80220523e+13]\n",
      "  2 8.14e+15 3.25e+13 7.08288e+04\n",
      "[  8.18661514e+15   4.09558437e+13] [  8.14202070e+15   3.24656868e+13]\n",
      "  3 8.19e+15 4.10e+13 7.08307e+04\n",
      "[  8.23506392e+15   4.77466143e+13] [  8.18661514e+15   4.09558437e+13]\n",
      "  4 8.24e+15 4.77e+13 7.08329e+04\n",
      "[  8.19130917e+15   6.72072529e+13] [  8.23506392e+15   4.77466143e+13]\n",
      "  5 8.19e+15 6.72e+13 7.08434e+04\n",
      "[  8.18722084e+15   1.12405074e+14] [  8.19130917e+15   6.72072529e+13]\n",
      "  6 8.19e+15 1.12e+14 7.08897e+04\n",
      "[  8.13927062e+15   2.05537941e+14] [  8.18722084e+15   1.12405074e+14]\n",
      "  7 8.14e+15 2.06e+14 7.10854e+04\n",
      "[  7.97139912e+15   3.78925618e+14] [  8.13927062e+15   2.05537941e+14]\n",
      "  8 7.97e+15 3.79e+14 7.18424e+04\n",
      "[  7.33845436e+15   6.82532012e+14] [  7.97139912e+15   3.78925618e+14]\n",
      "  9 7.34e+15 6.83e+14 7.49121e+04\n",
      "[  7.35407717e+15   1.32658694e+15] [  7.33845436e+15   6.82532012e+14]\n",
      " 10 7.35e+15 1.33e+15 8.62391e+04\n",
      "[  6.44231141e+15   2.44520680e+15] [  7.35407717e+15   1.32658694e+15]\n",
      " 11 6.44e+15 2.45e+15 1.32935e+05\n",
      "[  4.38111224e+15   4.46995352e+15] [  6.44231141e+15   2.44520680e+15]\n",
      " 12 4.38e+15 4.47e+15 3.17719e+05\n",
      "[ -4.76873176e+14   7.89271346e+15] [  4.38111224e+15   4.46995352e+15]\n",
      " 13 -4.77e+14 7.89e+15 5.38900e+05\n",
      "[  1.33038625e+16   1.22191759e+16] [ -4.76873176e+14   7.89271346e+15]\n",
      " 14 1.33e+16 1.22e+16 2.93019e+05\n",
      "[  3.72119314e+15   1.97241370e+16] [  1.33038625e+16   1.22191759e+16]\n",
      " 15 3.72e+15 1.97e+16 5.25327e+05\n",
      "[ -7.95960225e+14   2.54774439e+16] [  3.72119314e+15   1.97241370e+16]\n",
      " 16 -7.96e+14 2.55e+16 5.40073e+05\n",
      "[  2.47446946e+15   1.98556275e+16] [ -7.95960225e+14   2.54774439e+16]\n",
      " 17 2.47e+15 1.99e+16 5.33758e+05\n",
      "[ -6.80256399e+15   1.59680359e+16] [  2.47446946e+15   1.98556275e+16]\n",
      " 18 -6.80e+15 1.60e+16 4.72160e+05\n",
      "[  7.18089799e+15   2.11160890e+16] [ -6.80256399e+15   1.59680359e+16]\n",
      " 19 7.18e+15 2.11e+16 4.94531e+05\n",
      "[ -5.37683347e+15   2.29706240e+16] [  7.18089799e+15   2.11160890e+16]\n",
      " 20 -5.38e+15 2.30e+16 5.17541e+05\n",
      "[  2.35790472e+15   2.56454684e+16] [ -5.37683347e+15   2.29706240e+16]\n",
      " 21 2.36e+15 2.56e+16 5.36808e+05\n",
      "[  8.85551672e+14   2.48211874e+16] [  2.35790472e+15   2.56454684e+16]\n",
      " 22 8.86e+14 2.48e+16 5.39943e+05\n",
      "[ -1.10275974e+15   1.93990287e+16] [  8.85551672e+14   2.48211874e+16]\n",
      " 23 -1.10e+15 1.94e+16 5.39083e+05\n",
      "[  3.51690763e+14   2.38168623e+16] [ -1.10275974e+15   1.93990287e+16]\n",
      " 24 3.52e+14 2.38e+16 5.40407e+05\n",
      "[  2.60520391e+15   2.78810379e+16] [  3.51690763e+14   2.38168623e+16]\n",
      " 25 2.61e+15 2.79e+16 5.36687e+05\n",
      "[ -1.60227326e+15   1.89368311e+16] [  2.60520391e+15   2.78810379e+16]\n",
      " 26 -1.60e+15 1.89e+16 5.37370e+05\n",
      "[  7.46188782e+15   2.22734315e+16] [ -1.60227326e+15   1.89368311e+16]\n",
      " 27 7.46e+15 2.23e+16 4.95758e+05\n",
      "[ -6.05594685e+15   2.61211916e+16] [  7.46188782e+15   2.22734315e+16]\n",
      " 28 -6.06e+15 2.61e+16 5.17956e+05\n",
      "[  4.36651395e+15   2.72435629e+16] [ -6.05594685e+15   2.61211916e+16]\n",
      " 29 4.37e+15 2.72e+16 5.29451e+05\n",
      "[ -5.22689818e+15   2.79664414e+16] [  4.36651395e+15   2.72435629e+16]\n",
      " 30 -5.23e+15 2.80e+16 5.25600e+05\n",
      "[  2.30169986e+14   3.18838682e+16] [ -5.22689818e+15   2.79664414e+16]\n",
      " 31 2.30e+14 3.19e+16 5.40480e+05\n",
      "[  7.63225388e+14   2.30496189e+16] [  2.30169986e+14   3.18838682e+16]\n",
      " 32 7.63e+14 2.30e+16 5.40020e+05\n",
      "[  1.34911945e+15   2.58509565e+16] [  7.63225388e+14   2.30496189e+16]\n",
      " 33 1.35e+15 2.59e+16 5.39306e+05\n",
      "[ -7.78488115e+14   2.04132232e+16] [  1.34911945e+15   2.58509565e+16]\n",
      " 34 -7.78e+14 2.04e+16 5.39863e+05\n",
      "[  1.07814844e+15   1.11671063e+16] [ -7.78488115e+14   2.04132232e+16]\n",
      " 35 1.08e+15 1.12e+16 5.36432e+05\n",
      "[ -4.86799097e+15   1.11543750e+16] [  1.07814844e+15   1.11671063e+16]\n",
      " 36 -4.87e+15 1.12e+16 4.69292e+05\n",
      "[  5.97404117e+15   1.76870138e+16] [ -4.86799097e+15   1.11543750e+16]\n",
      " 37 5.97e+15 1.77e+16 4.95091e+05\n",
      "[ -8.00031817e+15   2.19430803e+16] [  5.97404117e+15   1.76870138e+16]\n",
      " 38 -8.00e+15 2.19e+16 4.88421e+05\n",
      "[  2.49316531e+15   2.69002594e+16] [ -8.00031817e+15   2.19430803e+16]\n",
      " 39 2.49e+15 2.69e+16 5.36748e+05\n",
      "[  3.59900023e+14   2.73988103e+16] [  2.49316531e+15   2.69002594e+16]\n",
      " 40 3.60e+14 2.74e+16 5.40427e+05\n",
      "[ -2.56787994e+14   2.84158379e+16] [  3.59900023e+14   2.73988103e+16]\n",
      " 41 -2.57e+14 2.84e+16 5.40467e+05\n",
      "[ -2.79434188e+15   1.50107442e+16] [ -2.56787994e+14   2.84158379e+16]\n",
      " 42 -2.79e+15 1.50e+16 5.25715e+05\n",
      "[  1.10639343e+16   1.48484281e+16] [ -2.79434188e+15   1.50107442e+16]\n",
      " 43 1.11e+16 1.48e+16 3.79575e+05\n",
      "[ -1.58948483e+15   2.13803299e+16] [  1.10639343e+16   1.48484281e+16]\n",
      " 44 -1.59e+15 2.14e+16 5.38080e+05\n",
      "[  1.00896517e+14   1.84719636e+16] [ -1.58948483e+15   2.13803299e+16]\n",
      " 45 1.01e+14 1.85e+16 5.40490e+05\n",
      "[ -1.57761757e+15   1.81381244e+16] [  1.00896517e+14   1.84719636e+16]\n"
     ]
    },
    {
     "ename": "KeyboardInterrupt",
     "evalue": "",
     "output_type": "error",
     "traceback": [
      "\u001b[0;31m---------------------------------------------------------------------------\u001b[0m",
      "\u001b[0;31mKeyboardInterrupt\u001b[0m                         Traceback (most recent call last)",
      "\u001b[0;32m<ipython-input-16-128e111e59a4>\u001b[0m in \u001b[0;36m<module>\u001b[0;34m()\u001b[0m\n\u001b[1;32m     11\u001b[0m     \u001b[0mprism\u001b[0m \u001b[0;34m=\u001b[0m \u001b[0mmfun\u001b[0m\u001b[0;34m.\u001b[0m\u001b[0mpol2cart\u001b[0m\u001b[0;34m(\u001b[0m\u001b[0ml\u001b[0m\u001b[0;34m,\u001b[0m \u001b[0mcylinder_model\u001b[0m\u001b[0;34m[\u001b[0m\u001b[0;34m'M'\u001b[0m\u001b[0;34m]\u001b[0m\u001b[0;34m,\u001b[0m \u001b[0mcylinder_model\u001b[0m\u001b[0;34m[\u001b[0m\u001b[0;34m'L'\u001b[0m\u001b[0;34m]\u001b[0m\u001b[0;34m)\u001b[0m\u001b[0;34m\u001b[0m\u001b[0m\n\u001b[1;32m     12\u001b[0m     d = polyprism.tf(regular_grid['xp'], regular_grid['yp'], regular_grid['zp'],\n\u001b[0;32m---> 13\u001b[0;31m                     prism, cylinder_model['inc'], cylinder_model['dec'])\n\u001b[0m\u001b[1;32m     14\u001b[0m     \u001b[0mres\u001b[0m \u001b[0;34m=\u001b[0m \u001b[0mcylinder_data\u001b[0m\u001b[0;34m[\u001b[0m\u001b[0;34m'data_noise'\u001b[0m\u001b[0;34m]\u001b[0m \u001b[0;34m-\u001b[0m \u001b[0md\u001b[0m\u001b[0;34m\u001b[0m\u001b[0m\n\u001b[1;32m     15\u001b[0m     \u001b[0mphi\u001b[0m \u001b[0;34m=\u001b[0m \u001b[0mnp\u001b[0m\u001b[0;34m.\u001b[0m\u001b[0msum\u001b[0m\u001b[0;34m(\u001b[0m\u001b[0mres\u001b[0m\u001b[0;34m*\u001b[0m\u001b[0mres\u001b[0m\u001b[0;34m)\u001b[0m\u001b[0;34m\u001b[0m\u001b[0m\n",
      "\u001b[0;32m/home/vital/anaconda2/lib/python2.7/site-packages/fatiando/gravmag/polyprism.pyc\u001b[0m in \u001b[0;36mtf\u001b[0;34m(xp, yp, zp, prisms, inc, dec, pmag)\u001b[0m\n\u001b[1;32m    132\u001b[0m         \u001b[0mx\u001b[0m\u001b[0;34m,\u001b[0m \u001b[0my\u001b[0m \u001b[0;34m=\u001b[0m \u001b[0mprism\u001b[0m\u001b[0;34m.\u001b[0m\u001b[0mx\u001b[0m\u001b[0;34m,\u001b[0m \u001b[0mprism\u001b[0m\u001b[0;34m.\u001b[0m\u001b[0my\u001b[0m\u001b[0;34m\u001b[0m\u001b[0m\n\u001b[1;32m    133\u001b[0m         \u001b[0mz1\u001b[0m\u001b[0;34m,\u001b[0m \u001b[0mz2\u001b[0m \u001b[0;34m=\u001b[0m \u001b[0mprism\u001b[0m\u001b[0;34m.\u001b[0m\u001b[0mz1\u001b[0m\u001b[0;34m,\u001b[0m \u001b[0mprism\u001b[0m\u001b[0;34m.\u001b[0m\u001b[0mz2\u001b[0m\u001b[0;34m\u001b[0m\u001b[0m\n\u001b[0;32m--> 134\u001b[0;31m         \u001b[0m_polyprism\u001b[0m\u001b[0;34m.\u001b[0m\u001b[0mtf\u001b[0m\u001b[0;34m(\u001b[0m\u001b[0mxp\u001b[0m\u001b[0;34m,\u001b[0m \u001b[0myp\u001b[0m\u001b[0;34m,\u001b[0m \u001b[0mzp\u001b[0m\u001b[0;34m,\u001b[0m \u001b[0mx\u001b[0m\u001b[0;34m,\u001b[0m \u001b[0my\u001b[0m\u001b[0;34m,\u001b[0m \u001b[0mz1\u001b[0m\u001b[0;34m,\u001b[0m \u001b[0mz2\u001b[0m\u001b[0;34m,\u001b[0m \u001b[0mmx\u001b[0m\u001b[0;34m,\u001b[0m \u001b[0mmy\u001b[0m\u001b[0;34m,\u001b[0m \u001b[0mmz\u001b[0m\u001b[0;34m,\u001b[0m \u001b[0mfx\u001b[0m\u001b[0;34m,\u001b[0m \u001b[0mfy\u001b[0m\u001b[0;34m,\u001b[0m \u001b[0mfz\u001b[0m\u001b[0;34m,\u001b[0m \u001b[0mres\u001b[0m\u001b[0;34m)\u001b[0m\u001b[0;34m\u001b[0m\u001b[0m\n\u001b[0m\u001b[1;32m    135\u001b[0m     \u001b[0mres\u001b[0m \u001b[0;34m*=\u001b[0m \u001b[0mCM\u001b[0m \u001b[0;34m*\u001b[0m \u001b[0mT2NT\u001b[0m\u001b[0;34m\u001b[0m\u001b[0m\n\u001b[1;32m    136\u001b[0m     \u001b[0;32mreturn\u001b[0m \u001b[0mres\u001b[0m\u001b[0;34m\u001b[0m\u001b[0m\n",
      "\u001b[0;31mKeyboardInterrupt\u001b[0m: "
     ]
    }
   ],
   "source": [
    "for i in range(10000):\n",
    "    # calculando a Jacobiana, Hessiana e o gradiente\n",
    "    G = jacobi_geo(regular_grid['xp'], regular_grid['yp'], regular_grid['zp'], prism0, cylinder_model['M'],\n",
    "                   deltar, deltaz, cylinder_model['inc'], cylinder_model['dec'])\n",
    "    grad = 2.*np.dot(G.T, res0)\n",
    "    #print grad\n",
    "    # calculando p e atualizando para a próxima iteração\n",
    "    p = p0 - np.linalg.solve(np.dot(G.T, G), np.dot(G.T,res0))\n",
    "    print p, p0\n",
    "    l = [[np.zeros(cylinder_model['M']) + p[0], x0, y0, p[1], cylinder_model['dz'], cylinder_model['props']]]\n",
    "    prism = mfun.pol2cart(l, cylinder_model['M'], cylinder_model['L'])\n",
    "    d = polyprism.tf(regular_grid['xp'], regular_grid['yp'], regular_grid['zp'],\n",
    "                    prism, cylinder_model['inc'], cylinder_model['dec'])\n",
    "    res = cylinder_data['data_noise'] - d\n",
    "    phi = np.sum(res*res)\n",
    "    \n",
    "    if (abs(phi-phi0)/abs(phi0) <= epsilon):\n",
    "        break\n",
    "    else:\n",
    "        # armazenando os resultados em listas para o plot\n",
    "        phi_list.append(phi)\n",
    "        p1_list.append(p[0])\n",
    "        p2_list.append(p[1])\n",
    "        \n",
    "        # atualizando parâmetros\n",
    "        p0 = p\n",
    "        d0 = d\n",
    "        res0 = res\n",
    "        phi0 = phi\n",
    "        prism0 = prism\n",
    "        \n",
    "        # printa os valores\n",
    "        print '%3d %.2e %.2e %.5e' % (i, p0[0], p0[1], phi0)"
   ]
  },
  {
   "cell_type": "code",
   "execution_count": 17,
   "metadata": {
    "collapsed": false
   },
   "outputs": [
    {
     "data": {
      "image/png": "[encoded data removed]",
      "text/plain": [
       "<matplotlib.figure.Figure at 0x7f77e7f46850>"
      ]
     },
     "metadata": {},
     "output_type": "display_data"
    }
   ],
   "source": [
    "#plot\n",
    "plt.figure(figsize=(5,5))\n",
    "plt.plot(500., 100., 'oy')\n",
    "plt.plot(p1_list, p2_list, '.w-', markersize=5)\n",
    "plt.title('SD - geofisica', fontsize=18)\n",
    "plt.contourf(cylinder_data['p1'], cylinder_data['p2'], cylinder_data['phi_eq'], 40, cmap='jet')\n",
    "plt.xlabel('$p_1$', fontsize=18)\n",
    "plt.ylabel('$p_2$', fontsize=18)\n",
    "plt.colorbar(pad=0.01, aspect=20, shrink=1)\n",
    "plt.savefig('plot_rosenbrock.png', pad_inches=0.0)\n",
    "plt.show()"
   ]
  },
  {
   "cell_type": "code",
   "execution_count": 18,
   "metadata": {
    "collapsed": false,
    "scrolled": true
   },
   "outputs": [
    {
     "data": {
      "image/png": "[encoded data removed]",
      "text/plain": [
       "<matplotlib.figure.Figure at 0x7f77e8115150>"
      ]
     },
     "metadata": {},
     "output_type": "display_data"
    }
   ],
   "source": [
    "plt.title('Convergence', fontsize = 18)\n",
    "plt.xlabel('Iteration number')\n",
    "plt.ylabel('Phi value')\n",
    "plt.plot(phi_list, 'o')\n",
    "plt.savefig('convergence.png', dpi=300)\n",
    "plt.show()"
   ]
  },
  {
   "cell_type": "code",
   "execution_count": null,
   "metadata": {
    "collapsed": true
   },
   "outputs": [],
   "source": []
  }
 ],
 "metadata": {
  "kernelspec": {
   "display_name": "Python 2",
   "language": "python",
   "name": "python2"
  },
  "language_info": {
   "codemirror_mode": {
    "name": "ipython",
    "version": 2
   },
   "file_extension": ".py",
   "mimetype": "text/x-python",
   "name": "python",
   "nbconvert_exporter": "python",
   "pygments_lexer": "ipython2",
   "version": "2.7.13"
  }
 },
 "nbformat": 4,
 "nbformat_minor": 2
}
