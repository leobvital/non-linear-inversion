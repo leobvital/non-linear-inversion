{
 "cells": [
  {
   "cell_type": "markdown",
   "metadata": {},
   "source": [
    "# Gradiente conjugado linear"
   ]
  },
  {
   "cell_type": "markdown",
   "metadata": {},
   "source": [
    "Este código aplica o método dos gradientes conjugados lineares a um problema matemático."
   ]
  },
  {
   "cell_type": "markdown",
   "metadata": {},
   "source": [
    "# Importando pacotes"
   ]
  },
  {
   "cell_type": "code",
   "execution_count": 1,
   "metadata": {
    "collapsed": true
   },
   "outputs": [],
   "source": [
    "import numpy as np"
   ]
  },
  {
   "cell_type": "markdown",
   "metadata": {},
   "source": [
    "# Definindo valores"
   ]
  },
  {
   "cell_type": "code",
   "execution_count": 14,
   "metadata": {
    "collapsed": true
   },
   "outputs": [],
   "source": [
    "# vetor de dados\n",
    "d0 = np.array([12., -1., 5.])\n",
    "\n",
    "# matriz Hessiana\n",
    "H = np.array([[4., -1., 1.], [-1., 4., -2.], [1., -2., 4.]])"
   ]
  },
  {
   "cell_type": "markdown",
   "metadata": {},
   "source": [
    "# Chute inicial"
   ]
  },
  {
   "cell_type": "code",
   "execution_count": 15,
   "metadata": {
    "collapsed": true
   },
   "outputs": [],
   "source": [
    "# vetor de parâmetros inicial\n",
    "p0 = np.zeros(d0.size)\n",
    "\n",
    "# resíduo inicial\n",
    "res0 = d0 - np.dot(H, p0)\n",
    "\n",
    "# delta p inicial\n",
    "dp0 = res0\n",
    "\n",
    "# iteração máxima\n",
    "itmax = 100\n",
    "\n",
    "# tolerância\n",
    "eps = 0.00001"
   ]
  },
  {
   "cell_type": "markdown",
   "metadata": {},
   "source": [
    "# Algoritmo"
   ]
  },
  {
   "cell_type": "code",
   "execution_count": 16,
   "metadata": {
    "collapsed": false
   },
   "outputs": [
    {
     "name": "stdout",
     "output_type": "stream",
     "text": [
      "p: [ 2.41706161 -0.2014218   1.007109  ] res: [ 1.12322275  4.23696682 -1.84834123]\n",
      "p: [ 3.07752283  0.79483181  0.71998218] res: [-0.2352417   0.33815995  0.63221207]\n",
      "p: [ 3.  1.  1.] res: [ -1.77635684e-15   4.44089210e-16   0.00000000e+00]\n",
      "p: [ 3.  1.  1.] res: [  0.00000000e+00  -4.44089210e-16   1.77635684e-15]\n",
      "p: [ 3.  1.  1.] res: [  1.77635684e-15   8.88178420e-16   0.00000000e+00]\n",
      "p: [ 3.  1.  1.] res: [  0.00000000e+00   0.00000000e+00  -8.88178420e-16]\n",
      "p: [ 3.  1.  1.] res: [ 0.  0.  0.]\n"
     ]
    }
   ],
   "source": [
    "while np.sum(res0*res0) != 0.:\n",
    "    alpha = np.dot(dp0, res0)/np.dot(np.dot(dp0 ,H), dp0)\n",
    "    p = p0 + alpha*dp0\n",
    "    res = d0 - np.dot(H, p)\n",
    "    beta = - np.dot(np.dot(res, H), dp0)/np.dot(np.dot(dp0, H), dp0)\n",
    "    dp = res + beta*dp0\n",
    "    \n",
    "    # printa os valores\n",
    "    print 'p:',  p, 'res:',  res\n",
    "    \n",
    "    # atualizando os parâmetros\n",
    "    p0 = p.copy()\n",
    "    res0 = res.copy()\n",
    "    dp0 = dp.copy()"
   ]
  },
  {
   "cell_type": "code",
   "execution_count": null,
   "metadata": {
    "collapsed": true
   },
   "outputs": [],
   "source": []
  }
 ],
 "metadata": {
  "kernelspec": {
   "display_name": "Python 2",
   "language": "python",
   "name": "python2"
  },
  "language_info": {
   "codemirror_mode": {
    "name": "ipython",
    "version": 2
   },
   "file_extension": ".py",
   "mimetype": "text/x-python",
   "name": "python",
   "nbconvert_exporter": "python",
   "pygments_lexer": "ipython2",
   "version": "2.7.13"
  }
 },
 "nbformat": 4,
 "nbformat_minor": 2
}
