{
 "cells": [
  {
   "cell_type": "markdown",
   "metadata": {},
   "source": [
    "# Gradiente conjugado linear"
   ]
  },
  {
   "cell_type": "markdown",
   "metadata": {},
   "source": [
    "Este código aplica o método dos gradientes conjugados lineares a um problema matemático."
   ]
  },
  {
   "cell_type": "markdown",
   "metadata": {},
   "source": [
    "# Importando pacotes"
   ]
  },
  {
   "cell_type": "code",
   "execution_count": 1,
   "metadata": {
    "collapsed": true
   },
   "outputs": [],
   "source": [
    "import numpy as np"
   ]
  },
  {
   "cell_type": "markdown",
   "metadata": {},
   "source": [
    "# Definindo valores"
   ]
  },
  {
   "cell_type": "code",
   "execution_count": 2,
   "metadata": {
    "collapsed": true
   },
   "outputs": [],
   "source": [
    "# vetor de dados\n",
    "d0 = np.array([12., -1., 5.])\n",
    "\n",
    "# matriz Hessiana\n",
    "H = np.array([[4., -1., 1.], [-1., 4., -2.], [1., -2., 4.]])"
   ]
  },
  {
   "cell_type": "markdown",
   "metadata": {},
   "source": [
    "# Chute inicial"
   ]
  },
  {
   "cell_type": "code",
   "execution_count": 3,
   "metadata": {
    "collapsed": false
   },
   "outputs": [],
   "source": [
    "# vetor de parâmetros inicial\n",
    "p0 = np.zeros(d0.size)\n",
    "\n",
    "# resíduo inicial\n",
    "res0 = - d0 + np.dot(H, p0)\n",
    "\n",
    "# delta p inicial\n",
    "dp0 = - res0\n",
    "\n",
    "# iteração máxima\n",
    "itmax = 100\n",
    "\n",
    "# tolerância\n",
    "eps = np.zeros(res0.size)"
   ]
  },
  {
   "cell_type": "code",
   "execution_count": 4,
   "metadata": {
    "collapsed": false
   },
   "outputs": [],
   "source": [
    "if eps.all() != eps.all():\n",
    "    print eps"
   ]
  },
  {
   "cell_type": "markdown",
   "metadata": {},
   "source": [
    "# Algoritmo"
   ]
  },
  {
   "cell_type": "code",
   "execution_count": 5,
   "metadata": {
    "collapsed": false
   },
   "outputs": [
    {
     "name": "stdout",
     "output_type": "stream",
     "text": [
      "p: [ 2.41706161 -0.2014218   1.007109  ] res: [-1.12322275 -4.23696682  1.84834123]\n",
      "p: [ 3.07752283  0.79483181  0.71998218] res: [ 0.2352417  -0.33815995 -0.63221207]\n",
      "p: [ 3.  1.  1.] res: [ -3.60822483e-16   1.05471187e-15  -1.11022302e-15]\n",
      "p: [ 3.  1.  1.] res: [  1.92289463e-16   1.23085914e-17  -5.08009135e-17]\n",
      "p: [ 3.  1.  1.] res: [ -1.35998529e-18  -7.89837608e-18  -7.06146206e-18]\n",
      "p: [ 3.  1.  1.] res: [ -2.63659809e-31   2.92741352e-31  -2.92741352e-31]\n",
      "p: [ 3.  1.  1.] res: [ -1.90269733e-32  -8.56839687e-33   8.56839687e-33]\n",
      "p: [ 3.  1.  1.] res: [  3.55798438e-47   1.83099350e-45   1.93910149e-45]\n",
      "p: [ 3.  1.  1.] res: [ -8.93388381e-47   1.29915056e-46  -1.21032841e-46]\n",
      "p: [ 3.  1.  1.] res: [  1.03259871e-48   3.68378145e-49  -3.66787244e-49]\n",
      "p: [ 3.  1.  1.] res: [  1.82314901e-63   3.98054200e-62   4.29959308e-62]\n",
      "p: [ 3.  1.  1.] res: [ -3.38910065e-63   4.30169045e-63  -3.83877629e-63]\n",
      "p: [ 3.  1.  1.] res: [ -1.63565956e-64  -6.71770885e-65   6.91278751e-65]\n",
      "p: [ 3.  1.  1.] res: [  1.34940134e-79   8.43375835e-81   7.50604494e-79]\n",
      "p: [ 3.  1.  1.] res: [ -1.63127475e-79   3.81018269e-79   2.50451835e-80]\n",
      "p: [ 3.  1.  1.] res: [  3.46780863e-80   1.52679908e-80  -6.40581316e-81]\n",
      "p: [ 3.  1.  1.] res: [  1.34832279e-94  -1.31086938e-94   1.69476684e-94]\n",
      "p: [ 3.  1.  1.] res: [  8.55884305e-96   1.89771454e-95   7.86920970e-96]\n",
      "p: [ 3.  1.  1.] res: [ -3.99835204e-96   3.66633473e-97   3.46459326e-96]\n",
      "p: [ 3.  1.  1.] res: [  3.65918424e-110  -5.65510291e-110   6.11250094e-110]\n",
      "p: [ 3.  1.  1.] res: [ -2.74599851e-111   8.14074271e-112   2.39702020e-111]\n",
      "p: [ 3.  1.  1.] res: [  4.45830037e-112   6.14828996e-112   3.01929933e-112]\n",
      "p: [ 3.  1.  1.] res: [  2.04048827e-125  -2.50213721e-125   2.57600103e-125]\n",
      "p: [ 3.  1.  1.] res: [  7.19951980e-127   5.52565195e-127  -3.35635113e-128]\n",
      "p: [ 3.  1.  1.] res: [ -4.96713974e-128   7.13156806e-128   1.08616230e-127]\n",
      "p: [ 3.  1.  1.] res: [  1.42894276e-140  -2.01528083e-140   2.02553149e-140]\n",
      "p: [ 3.  1.  1.] res: [ -2.04807073e-142  -3.63089545e-143   1.08359138e-142]\n",
      "p: [ 3.  1.  1.] res: [  3.79941859e-144   1.49449258e-143   1.21889345e-143]\n",
      "p: [ 3.  1.  1.] res: [  1.41881003e-155  -1.91511471e-155   1.91648038e-155]\n",
      "p: [ 3.  1.  1.] res: [  6.61835069e-158   2.93086439e-158  -1.97092590e-158]\n",
      "p: [ 3.  1.  1.] res: [ -2.11291314e-160   1.77532786e-159   1.93048611e-159]\n",
      "p: [ 3.  1.  1.] res: [ -7.50107542e-167   7.39525260e-166   7.94862340e-166]\n"
     ]
    }
   ],
   "source": [
    "while np.sum(res0*res0) > 0.:\n",
    "    alpha = np.dot(res0, res0)/np.dot(np.dot(dp0 ,H), dp0)\n",
    "    p = p0 + alpha*dp0\n",
    "    res = res0 + alpha*np.dot(H, dp0)\n",
    "    beta = np.dot(res, res)/np.dot(res0, res0)\n",
    "    dp = - res + beta*dp0\n",
    "    \n",
    "    # printa os valores\n",
    "    print 'p:',  p, 'res:',  res\n",
    "    \n",
    "    # atualizando os parâmetros\n",
    "    p0 = p.copy()\n",
    "    res0 = res.copy()\n",
    "    dp0 = dp.copy()"
   ]
  },
  {
   "cell_type": "code",
   "execution_count": null,
   "metadata": {
    "collapsed": true
   },
   "outputs": [],
   "source": []
  },
  {
   "cell_type": "code",
   "execution_count": null,
   "metadata": {
    "collapsed": true
   },
   "outputs": [],
   "source": []
  }
 ],
 "metadata": {
  "kernelspec": {
   "display_name": "Python 2",
   "language": "python",
   "name": "python2"
  },
  "language_info": {
   "codemirror_mode": {
    "name": "ipython",
    "version": 2
   },
   "file_extension": ".py",
   "mimetype": "text/x-python",
   "name": "python",
   "nbconvert_exporter": "python",
   "pygments_lexer": "ipython2",
   "version": "2.7.13"
  }
 },
 "nbformat": 4,
 "nbformat_minor": 2
}
