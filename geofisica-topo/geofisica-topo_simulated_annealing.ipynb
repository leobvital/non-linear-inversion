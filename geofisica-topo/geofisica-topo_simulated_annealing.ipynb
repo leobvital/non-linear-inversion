{
 "cells": [
  {
   "cell_type": "markdown",
   "metadata": {},
   "source": [
    "# Simulated Annealing aplicado à função Rastrigin"
   ]
  },
  {
   "cell_type": "markdown",
   "metadata": {},
   "source": [
    "Algoritmo simulated annealing aplicado a um problema geofísico para estimar o raio e o topo de um prisma de base poligonal próximo de um cilindro."
   ]
  },
  {
   "cell_type": "markdown",
   "metadata": {},
   "source": [
    "# Importando pacotes"
   ]
  },
  {
   "cell_type": "code",
   "execution_count": 1,
   "metadata": {
    "collapsed": false
   },
   "outputs": [
    {
     "name": "stderr",
     "output_type": "stream",
     "text": [
      "/home/vital/anaconda2/lib/python2.7/site-packages/fatiando/vis/mpl.py:76: UserWarning: This module will be removed in v0.6. We recommend the use of matplotlib.pyplot module directly. Some of the fatiando specific functions will remain.\n",
      "  \"specific functions will remain.\")\n",
      "/home/vital/anaconda2/lib/python2.7/site-packages/fatiando/vis/myv.py:51: UserWarning: This module will be removed in v0.7.\n",
      "  warnings.warn(\"This module will be removed in v0.7.\")\n"
     ]
    }
   ],
   "source": [
    "import numpy as np\n",
    "import matplotlib.pyplot as plt\n",
    "import cPickle as pickle\n",
    "from visual import histeq\n",
    "from fatiando import utils\n",
    "from fatiando.mesher import PolygonalPrism\n",
    "from IPython.display import Image as img\n",
    "from fatiando.gravmag import polyprism\n",
    "from copy import deepcopy\n",
    "from fatiando.vis import myv\n",
    "from fatiando.gridder import regular"
   ]
  },
  {
   "cell_type": "markdown",
   "metadata": {},
   "source": [
    "# Função geofísica"
   ]
  },
  {
   "cell_type": "code",
   "execution_count": 2,
   "metadata": {
    "collapsed": false
   },
   "outputs": [],
   "source": [
    "def geofisica(xp, yp, zp, p, M, dz, props, dobs, inc, dec):\n",
    "    '''\n",
    "    This function calculates the data for polygonal\n",
    "    prisms of the Fatiando a Terra with the two given parameters.\n",
    "\n",
    "    input\n",
    "\n",
    "    xp: array - x observation points\n",
    "    yp: array - y observation points\n",
    "    zp: array - z observation points\n",
    "    p: 1D array - parameter vector\n",
    "    M: int - number of vertices\n",
    "    L: int - number of prisms\n",
    "    z0: float - top of the model\n",
    "    dz: float - thickness of each prism\n",
    "    props: dictionary - physical property\n",
    "    dobs: 1D array - observed data\n",
    "    inc: float - inclination\n",
    "    dec: declination\n",
    "\n",
    "    output\n",
    "\n",
    "    prism: list - list of objects of the class fatiando.mesher.PolygonalPrism\n",
    "    d: 1D array - data vector\n",
    "    res: 1D array - residual data\n",
    "    phi: float - misfit function value\n",
    "    '''\n",
    "    \n",
    "    r = np.zeros(M) + p[0] # radial distance for each vertice\n",
    "\n",
    "    # Cartesian coordinates of the origin of each prism\n",
    "    x0 = 0. \n",
    "    y0 = 0.\n",
    "\n",
    "    l = [r, x0, y0, p[1], p[1] + dz, props]   # list of parameters of the prisms\n",
    "    \n",
    "    ang = 2*np.pi/M # angle between two vertices\n",
    "    \n",
    "    prism = []\n",
    "    verts=[]\n",
    "    for i in range(M):\n",
    "        verts.append([r[i]*np.cos(i*ang) + l[1], r[i]*np.sin(i*ang) + l[2]])\n",
    "    prism.append(PolygonalPrism(verts, l[3], l[4], l[5]))\n",
    "    \n",
    "    d = polyprism.tf(xp, yp, zp, prism, inc, dec)\n",
    "    res = dobs - d\n",
    "    phi = np.sum(res*res)\n",
    "    \n",
    "    return prism, d, res, phi"
   ]
  },
  {
   "cell_type": "markdown",
   "metadata": {},
   "source": [
    "# Modelagem direta"
   ]
  },
  {
   "cell_type": "code",
   "execution_count": 3,
   "metadata": {
    "collapsed": false
   },
   "outputs": [],
   "source": [
    "M = 10 # number of vertices per prism\n",
    "L = 1 # number of prisms\n",
    "P = L*(M+2) # number of parameters\n",
    "\n",
    "z0_true = 100.    # depth of the top the shallowest prism\n",
    "dz = 500.    # thickness of each prism\n",
    "\n",
    "inc = -60.  # inclination\n",
    "dec = 50.   # declination\n",
    "intensity = 0.035 # intensity\n",
    "\n",
    "props={'magnetization': utils.ang2vec(intensity, inc, dec)} # physical property: magnetization\n",
    "\n",
    "r_true = 500.\n",
    "\n",
    "r = np.zeros(M) + r_true # radial distance for each vertice"
   ]
  },
  {
   "cell_type": "code",
   "execution_count": 4,
   "metadata": {
    "collapsed": false
   },
   "outputs": [
    {
     "data": {
      "image/png": "[encoded data removed]",
      "text/plain": [
       "<IPython.core.display.Image object>"
      ]
     },
     "execution_count": 4,
     "metadata": {},
     "output_type": "execute_result"
    }
   ],
   "source": [
    "img(filename='bolacha.png')"
   ]
  },
  {
   "cell_type": "markdown",
   "metadata": {},
   "source": [
    "# Pontos de observação"
   ]
  },
  {
   "cell_type": "code",
   "execution_count": 5,
   "metadata": {
    "collapsed": true
   },
   "outputs": [],
   "source": [
    "area = [-2000, 2000, -2000, 2000] #x minimum, x maximum, y minimum and y maximum\n",
    "shape = (50,50) #number of data along the y and x directions\n",
    "N = shape[0]*shape[1] #total number of data\n",
    "\n",
    "#coordinates x and y of the data\n",
    "xp, yp = regular(area, shape)\n",
    "\n",
    "zp = np.zeros(N) - 100."
   ]
  },
  {
   "cell_type": "markdown",
   "metadata": {},
   "source": [
    "# Dados observados"
   ]
  },
  {
   "cell_type": "code",
   "execution_count": 6,
   "metadata": {
    "collapsed": true
   },
   "outputs": [],
   "source": [
    "p_true = np.array([r_true, z0_true])\n",
    "prism_true, data, res_, phi_true = geofisica(xp, yp, zp, p_true, M, dz, props, np.zeros(xp.size), inc, dec)\n",
    "amp_noise = 0.01*np.max(data)\n",
    "data_noise = data + np.random.normal(loc=0., scale=amp_noise, size=shape[0]*shape[1]) # noise corrupted data"
   ]
  },
  {
   "cell_type": "markdown",
   "metadata": {},
   "source": [
    "# Plot função desajuste"
   ]
  },
  {
   "cell_type": "code",
   "execution_count": 7,
   "metadata": {
    "collapsed": true
   },
   "outputs": [],
   "source": [
    "shape2 = (15,15)\n",
    "r_plot = np.linspace(10., 1000., shape2[0])\n",
    "z0_plot = np.linspace(-100., 500., shape2[1])\n",
    "r_plot,z0_plot = np.meshgrid(r_plot, z0_plot)\n",
    "r_plot = r_plot.ravel()\n",
    "z0_plot = z0_plot.ravel()\n",
    "phi_plot = np.zeros_like(r_plot)\n",
    "\n",
    "for i, (r, z) in enumerate(zip(r_plot,z0_plot)):\n",
    "    p = np.array([r, z])\n",
    "    prism_pred, d_pred, res, phi_plot[i] = geofisica(xp, yp, zp, p, M, dz, props, data_noise, inc, dec)\n",
    "\n",
    "r_plot = r_plot.reshape(shape2)\n",
    "z0_plot = z0_plot.reshape(shape2)\n",
    "phi_plot = phi_plot.reshape(shape2)\n",
    "\n",
    "# equalizando as cores\n",
    "phi_eq = histeq(phi_plot)\n",
    "phi_eq = np.reshape(phi_eq,shape2)\n",
    "phi_eq = phi_eq"
   ]
  },
  {
   "cell_type": "code",
   "execution_count": 8,
   "metadata": {
    "collapsed": false
   },
   "outputs": [
    {
     "data": {
      "image/png": "[encoded data removed]",
      "text/plain": [
       "<matplotlib.figure.Figure at 0x7f69b30afd90>"
      ]
     },
     "metadata": {},
     "output_type": "display_data"
    }
   ],
   "source": [
    "plt.figure(figsize=(5,5))\n",
    "plt.plot(r_true, z0_true, 'og')\n",
    "plt.title('Funcao objetivo', fontsize=18)\n",
    "plt.contourf(r_plot, z0_plot, phi_eq, 50, cmap='jet')\n",
    "plt.xlabel('$r$ (m)', fontsize=18)\n",
    "plt.ylabel('$z_0$ (m)', fontsize=18)\n",
    "plt.colorbar(pad=0.01, aspect=20, shrink=1)\n",
    "plt.show()"
   ]
  },
  {
   "cell_type": "markdown",
   "metadata": {},
   "source": [
    "# Chute inicial"
   ]
  },
  {
   "cell_type": "code",
   "execution_count": null,
   "metadata": {
    "collapsed": false
   },
   "outputs": [],
   "source": [
    "# chute inicial\n",
    "p01 = 800.\n",
    "p02 = 400.\n",
    "\n",
    "# chute inicial e temperatura inicial\n",
    "p0 = np.array([p01,p02])\n",
    "T = 3000.\n",
    "\n",
    "# valor da função para o chute inicial\n",
    "prism0, d0, res0, phi0 = geofisica(xp, yp, zp, p0, M, dz, props, data_noise, inc, dec)\n",
    "\n",
    "# armazenando o chute inicial\n",
    "p1_list = [p01]\n",
    "p2_list = [p02]\n",
    "phi_list = [phi0]\n",
    "\n",
    "# número de iterações máximo\n",
    "itmax = 60"
   ]
  },
  {
   "cell_type": "markdown",
   "metadata": {},
   "source": [
    "# Algoritmo Simulated annealing"
   ]
  },
  {
   "cell_type": "code",
   "execution_count": null,
   "metadata": {
    "collapsed": false
   },
   "outputs": [
    {
     "name": "stdout",
     "output_type": "stream",
     "text": [
      "-390.718479442\n",
      "iteração:   0   p1: 653.49   p2: 428.63   f: 1.55567e+03    T: 3000.00 rand: [ 0.63524917  0.14565429]\n",
      "1946.38715493 1555.66867549\n",
      "-3.71457571073\n",
      "iteração:   1   p1: 561.51   p2: 399.81   f: 1.55195e+03    T: 2999.98 rand: [ 0.53842998  0.20447824]\n",
      "1555.66867549 1551.95409978\n",
      "-966.312954892\n",
      "iteração:   2   p1: 553.97   p2: 50.91   f: 5.85641e+02    T: 2999.97 rand: [ 0.53049412  0.9165086 ]\n",
      "1551.95409978 585.641144885\n",
      "-251.668325463\n",
      "iteração:   3   p1: 573.14   p2: 97.25   f: 3.33973e+02    T: 2999.95 rand: [ 0.55067685  0.82194708]\n",
      "585.641144885 333.972819423\n",
      "-277.10751003\n",
      "iteração:   4   p1: 475.62   p2: 104.09   f: 5.68653e+01    T: 2999.93 rand: [ 0.44802135  0.80797538]\n",
      "333.972819423 56.8653093921\n",
      "-14.3406946469\n",
      "iteração:   5   p1: 522.16   p2: 117.66   f: 4.25246e+01    T: 2999.92 rand: [ 0.49701553  0.78027946]\n",
      "56.8653093921 42.5246147452\n",
      "iteração:   6   p1: 522.16   p2: 117.66   f: 4.25246e+01    T: 2999.90 rand: [ 0.53623299  0.3547949 ]\n",
      "42.5246147452 42.5246147452\n",
      "iteração:   7   p1: 522.16   p2: 117.66   f: 4.25246e+01    T: 2999.88 rand: [ 0.01325981  0.80125323]\n",
      "42.5246147452 42.5246147452\n",
      "-16.6628419098\n",
      "iteração:   8   p1: 498.86   p2: 90.51   f: 2.58618e+01    T: 2999.87 rand: [ 0.47248652  0.83569587]\n",
      "42.5246147452 25.8617728354\n",
      "iteração:   9   p1: 498.86   p2: 90.51   f: 2.58618e+01    T: 2999.85 rand: [ 0.61714893  0.93372303]\n",
      "25.8617728354 25.8617728354\n",
      "iteração:  10   p1: 498.86   p2: 90.51   f: 2.58618e+01    T: 2999.84 rand: [ 0.37943112  0.63980244]\n",
      "25.8617728354 25.8617728354\n",
      "iteração:  11   p1: 498.86   p2: 90.51   f: 2.58618e+01    T: 2999.82 rand: [ 0.25170175  0.4632213 ]\n",
      "25.8617728354 25.8617728354\n",
      "iteração:  12   p1: 498.86   p2: 90.51   f: 2.58618e+01    T: 2999.80 rand: [ 0.92017213  0.70540489]\n",
      "25.8617728354 25.8617728354\n",
      "iteração:  13   p1: 498.86   p2: 90.51   f: 2.58618e+01    T: 2999.79 rand: [ 0.63437258  0.4164704 ]\n",
      "25.8617728354 25.8617728354\n",
      "iteração:  14   p1: 498.86   p2: 90.51   f: 2.58618e+01    T: 2999.77 rand: [ 0.39904527  0.93481763]\n",
      "25.8617728354 25.8617728354\n",
      "iteração:  15   p1: 498.86   p2: 90.51   f: 2.58618e+01    T: 2999.75 rand: [ 0.45316999  0.70402654]\n",
      "25.8617728354 25.8617728354\n",
      "iteração:  16   p1: 498.86   p2: 90.51   f: 2.58618e+01    T: 2999.74 rand: [ 0.66927336  0.43760646]\n",
      "25.8617728354 25.8617728354\n",
      "iteração:  17   p1: 498.86   p2: 90.51   f: 2.58618e+01    T: 2999.72 rand: [ 0.22929677  0.1976719 ]\n",
      "25.8617728354 25.8617728354\n",
      "iteração:  18   p1: 498.86   p2: 90.51   f: 2.58618e+01    T: 2999.70 rand: [ 0.49298544  0.05278933]\n",
      "25.8617728354 25.8617728354\n",
      "iteração:  19   p1: 498.86   p2: 90.51   f: 2.58618e+01    T: 2999.69 rand: [ 0.67012511  0.10839185]\n",
      "25.8617728354 25.8617728354\n",
      "iteração:  20   p1: 498.86   p2: 90.51   f: 2.58618e+01    T: 2999.67 rand: [ 0.32348707  0.90696542]\n",
      "25.8617728354 25.8617728354\n",
      "iteração:  21   p1: 498.86   p2: 90.51   f: 2.58618e+01    T: 2999.65 rand: [ 0.91881796  0.42263324]\n",
      "25.8617728354 25.8617728354\n",
      "iteração:  22   p1: 498.86   p2: 90.51   f: 2.58618e+01    T: 2999.64 rand: [ 0.32511117  0.32526178]\n",
      "25.8617728354 25.8617728354\n",
      "iteração:  23   p1: 498.86   p2: 90.51   f: 2.58618e+01    T: 2999.62 rand: [ 0.00796288  0.75280675]\n",
      "25.8617728354 25.8617728354\n",
      "iteração:  24   p1: 498.86   p2: 90.51   f: 2.58618e+01    T: 2999.61 rand: [ 0.05154329  0.9890306 ]\n",
      "25.8617728354 25.8617728354\n",
      "iteração:  25   p1: 498.86   p2: 90.51   f: 2.58618e+01    T: 2999.59 rand: [ 0.39550784  0.84039209]\n",
      "25.8617728354 25.8617728354\n",
      "iteração:  26   p1: 498.86   p2: 90.51   f: 2.58618e+01    T: 2999.57 rand: [ 0.63539045  0.84950206]\n",
      "25.8617728354 25.8617728354\n",
      "iteração:  27   p1: 498.86   p2: 90.51   f: 2.58618e+01    T: 2999.56 rand: [ 0.2248687   0.52009015]\n",
      "25.8617728354 25.8617728354\n",
      "iteração:  28   p1: 498.86   p2: 90.51   f: 2.58618e+01    T: 2999.54 rand: [ 0.16250101  0.01400312]\n",
      "25.8617728354 25.8617728354\n",
      "iteração:  29   p1: 498.86   p2: 90.51   f: 2.58618e+01    T: 2999.52 rand: [ 0.14476022  0.98786157]\n",
      "25.8617728354 25.8617728354\n",
      "iteração:  30   p1: 498.86   p2: 90.51   f: 2.58618e+01    T: 2999.51 rand: [ 0.67248058  0.91703502]\n",
      "25.8617728354 25.8617728354\n",
      "iteração:  31   p1: 498.86   p2: 90.51   f: 2.58618e+01    T: 2999.49 rand: [ 0.68610164  0.09572166]\n",
      "25.8617728354 25.8617728354\n",
      "iteração:  32   p1: 498.86   p2: 90.51   f: 2.58618e+01    T: 2999.47 rand: [ 0.96494705  0.29244694]\n",
      "25.8617728354 25.8617728354\n",
      "iteração:  33   p1: 498.86   p2: 90.51   f: 2.58618e+01    T: 2999.46 rand: [ 0.90779327  0.18551868]\n",
      "25.8617728354 25.8617728354\n",
      "iteração:  34   p1: 498.86   p2: 90.51   f: 2.58618e+01    T: 2999.44 rand: [ 0.80027436  0.59047959]\n",
      "25.8617728354 25.8617728354\n",
      "iteração:  35   p1: 498.86   p2: 90.51   f: 2.58618e+01    T: 2999.42 rand: [ 0.46624234  0.11967354]\n",
      "25.8617728354 25.8617728354\n",
      "iteração:  36   p1: 498.86   p2: 90.51   f: 2.58618e+01    T: 2999.41 rand: [ 0.50999132  0.8341326 ]\n",
      "25.8617728354 25.8617728354\n",
      "iteração:  37   p1: 498.86   p2: 90.51   f: 2.58618e+01    T: 2999.39 rand: [ 0.8017822   0.10865882]\n",
      "25.8617728354 25.8617728354\n",
      "iteração:  38   p1: 498.86   p2: 90.51   f: 2.58618e+01    T: 2999.38 rand: [ 0.09347121  0.23713847]\n",
      "25.8617728354 25.8617728354\n",
      "iteração:  39   p1: 498.86   p2: 90.51   f: 2.58618e+01    T: 2999.36 rand: [ 0.80295283  0.13018975]\n",
      "25.8617728354 25.8617728354\n",
      "iteração:  40   p1: 498.86   p2: 90.51   f: 2.58618e+01    T: 2999.34 rand: [ 0.30027755  0.93722373]\n",
      "25.8617728354 25.8617728354\n",
      "iteração:  41   p1: 498.86   p2: 90.51   f: 2.58618e+01    T: 2999.33 rand: [ 0.85119203  0.44663225]\n",
      "25.8617728354 25.8617728354\n",
      "iteração:  42   p1: 498.86   p2: 90.51   f: 2.58618e+01    T: 2999.31 rand: [ 0.10982362  0.70453476]\n",
      "25.8617728354 25.8617728354\n",
      "iteração:  43   p1: 498.86   p2: 90.51   f: 2.58618e+01    T: 2999.29 rand: [ 0.67398535  0.66874528]\n",
      "25.8617728354 25.8617728354\n",
      "iteração:  44   p1: 498.86   p2: 90.51   f: 2.58618e+01    T: 2999.28 rand: [ 0.7008722   0.85117396]\n",
      "25.8617728354 25.8617728354\n",
      "iteração:  45   p1: 498.86   p2: 90.51   f: 2.58618e+01    T: 2999.26 rand: [ 0.48881955  0.69793163]\n",
      "25.8617728354 25.8617728354\n",
      "iteração:  46   p1: 498.86   p2: 90.51   f: 2.58618e+01    T: 2999.24 rand: [ 0.98609583  0.09341674]\n",
      "25.8617728354 25.8617728354\n",
      "iteração:  47   p1: 498.86   p2: 90.51   f: 2.58618e+01    T: 2999.23 rand: [ 0.62647344  0.11583987]\n",
      "25.8617728354 25.8617728354\n",
      "iteração:  48   p1: 498.86   p2: 90.51   f: 2.58618e+01    T: 2999.21 rand: [ 0.9224137   0.84672147]\n",
      "25.8617728354 25.8617728354\n",
      "iteração:  49   p1: 498.86   p2: 90.51   f: 2.58618e+01    T: 2999.20 rand: [ 0.92428665  0.89842317]\n",
      "25.8617728354 25.8617728354\n",
      "iteração:  50   p1: 498.86   p2: 90.51   f: 2.58618e+01    T: 2999.18 rand: [ 0.41727671  0.33370588]\n",
      "25.8617728354 25.8617728354\n",
      "iteração:  51   p1: 498.86   p2: 90.51   f: 2.58618e+01    T: 2999.16 rand: [ 0.82484676  0.90403604]\n",
      "25.8617728354 25.8617728354\n",
      "iteração:  52   p1: 498.86   p2: 90.51   f: 2.58618e+01    T: 2999.15 rand: [ 0.56321945  0.19371461]\n",
      "25.8617728354 25.8617728354\n",
      "iteração:  53   p1: 498.86   p2: 90.51   f: 2.58618e+01    T: 2999.13 rand: [ 0.30919283  0.59419352]\n",
      "25.8617728354 25.8617728354\n",
      "iteração:  54   p1: 498.86   p2: 90.51   f: 2.58618e+01    T: 2999.11 rand: [ 0.80964383  0.5902347 ]\n",
      "25.8617728354 25.8617728354\n",
      "iteração:  55   p1: 498.86   p2: 90.51   f: 2.58618e+01    T: 2999.10 rand: [ 0.32163975  0.74433771]\n",
      "25.8617728354 25.8617728354\n",
      "iteração:  56   p1: 498.86   p2: 90.51   f: 2.58618e+01    T: 2999.08 rand: [ 0.14378347  0.15601635]\n",
      "25.8617728354 25.8617728354\n",
      "iteração:  57   p1: 498.86   p2: 90.51   f: 2.58618e+01    T: 2999.06 rand: [ 0.15459263  0.25900545]\n",
      "25.8617728354 25.8617728354\n"
     ]
    }
   ],
   "source": [
    "pm = p0.copy() # p melhor\n",
    "phim = phi0\n",
    "\n",
    "pmax = np.array([1000., 10.])\n",
    "pmin = np.array([50., 500.])\n",
    "\n",
    "for it in range(itmax):\n",
    "    # copiando pm para perturbá-lo\n",
    "    p = pm.copy()\n",
    "    phi0 = phim\n",
    "    \n",
    "    # verificando se os parâmetros estão na caixa\n",
    "    if p[0] > pmax[0]:\n",
    "        p[0] = pmax[0]\n",
    "    if p[1] > pmax[1]:\n",
    "        p[1] = pmax[1]\n",
    "    if p[0] < pmin[0]:\n",
    "        p[0] = pmin[0]\n",
    "    if p[1] < pmin[1]:\n",
    "        p[1] = pmin[1]\n",
    "    \n",
    "    for j in range(20):\n",
    "        # perturbando a solução\n",
    "        rand = np.random.rand(2,)\n",
    "        #print rand\n",
    "        p_vizinho = np.zeros(2)\n",
    "        p_vizinho[0] = pmax[0]*rand[0] - pmin[0]*(rand[0] - 1.)\n",
    "        p_vizinho[1] = pmax[1]*rand[1] - pmin[1]*(rand[1] - 1.)\n",
    "        #print p_vizinho\n",
    "        \n",
    "        # calculando a função e a variação\n",
    "        prism_vizinho, d_vizinho, res_vizinho, phi_vizinho = geofisica(xp,\n",
    "                        yp, zp, p_vizinho, M, dz, props, data_noise, inc, dec)\n",
    "        #print 'f_vizinho:', phi_vizinho\n",
    "        delta_phi = phi_vizinho - phi0\n",
    "        #print delta_phi\n",
    "        \n",
    "        # avaliando a função do vizinho\n",
    "        if delta_phi <= 0.:\n",
    "            print delta_phi\n",
    "            p = p_vizinho.copy()\n",
    "            #print p, phi\n",
    "            if phi_vizinho <= phim:\n",
    "                pm = p.copy()\n",
    "                phim = phi_vizinho\n",
    "                resm = res.copy()\n",
    "                break\n",
    "            else:\n",
    "                #print delta_phi\n",
    "                P = np.exp(-delta_phi/T)\n",
    "                print P\n",
    "                r = np.random.random(1)\n",
    "                if r <= P:\n",
    "                    p = p_vizinho.copy()\n",
    "                    phi0 = phi_vizinho\n",
    "                    \n",
    "        #print pm, phim, p, phi, p_vizinho, phi_vizinho\n",
    "                    \n",
    "    print 'iteração: %3d   p1: %.2f   p2: %.2f   f: %.5e    T: %.2f' % (it, pm[0], pm[1], phim, T) , 'rand:', rand\n",
    "    print phi0, phim\n",
    "    alfa = 0.0000001\n",
    "    #T *= alfa\n",
    "    T = T/(1. + alfa*np.sqrt(T))\n",
    "    #print T\n",
    "\n",
    "    # armazenando os resultados em listas para o plot\n",
    "    phi_list.append(phim)\n",
    "    p1_list.append(pm[0])\n",
    "    p2_list.append(pm[1])"
   ]
  },
  {
   "cell_type": "markdown",
   "metadata": {},
   "source": [
    "# Plot dos resultados"
   ]
  },
  {
   "cell_type": "code",
   "execution_count": null,
   "metadata": {
    "collapsed": true
   },
   "outputs": [],
   "source": [
    "res_norm = (resm - np.mean(resm))/np.std(resm)\n",
    "res_plot = resm.reshape(shape)\n",
    "dpred = data.reshape(shape)\n",
    "dobs = data_noise.reshape(shape)"
   ]
  },
  {
   "cell_type": "code",
   "execution_count": null,
   "metadata": {
    "collapsed": false
   },
   "outputs": [],
   "source": [
    "#plot\n",
    "plt.figure(figsize=(5,5))\n",
    "plt.plot(r_true, z0_true, 'oy')\n",
    "plt.plot(p1_list, p2_list, '.w-', markersize=5)\n",
    "plt.title('GN - geofisica', fontsize=18)\n",
    "plt.contourf(r_plot, z0_plot, phi_eq, 40, cmap='jet')\n",
    "plt.xlabel('$p_1$', fontsize=18)\n",
    "plt.ylabel('$p_2$', fontsize=18)\n",
    "plt.colorbar(pad=0.01, aspect=20, shrink=1)\n",
    "plt.show()"
   ]
  },
  {
   "cell_type": "code",
   "execution_count": null,
   "metadata": {
    "collapsed": false
   },
   "outputs": [],
   "source": [
    "# plot\n",
    "plt.figure(figsize=(20,5))\n",
    "plt.subplot(1, 3, 1)\n",
    "plt.title('Convergencia', fontsize = 18)\n",
    "plt.xlabel('Iteration number', fontsize = 18)\n",
    "plt.plot(phi_list, 'o')\n",
    "\n",
    "plt.subplot(1, 3, 2)\n",
    "plt.title('Estimativas de  r', fontsize = 18)\n",
    "plt.xlabel('Iteration number', fontsize = 18)\n",
    "plt.ylabel('r', fontsize = 18)\n",
    "plt.plot(p1_list, 'o')\n",
    "plt.plot(np.zeros(len(p1_list)) + r_true, '-')\n",
    "\n",
    "plt.subplot(1, 3, 3)\n",
    "plt.title('Estimativas de  z0', fontsize = 18)\n",
    "plt.xlabel('Iteration number', fontsize = 18)\n",
    "plt.ylabel('z0', fontsize = 18)\n",
    "plt.plot(p2_list, 'o')\n",
    "plt.plot(np.zeros(len(p1_list)) + z0_true, '-')\n",
    "plt.show()"
   ]
  },
  {
   "cell_type": "code",
   "execution_count": null,
   "metadata": {
    "collapsed": false
   },
   "outputs": [],
   "source": [
    "# plot\n",
    "plt.figure(figsize=(20,5))\n",
    "plt.subplot(1, 3, 1)\n",
    "plt.title('Dado predito', fontsize=20)\n",
    "plt.contourf(yp.reshape(shape), xp.reshape(shape), dpred, 40, cmap='jet').ax.tick_params(labelsize=12)\n",
    "plt.xlabel('$y$(m)', fontsize=18)\n",
    "plt.ylabel('$x$(m)', fontsize=18)\n",
    "clb = plt.colorbar(pad=0.01, aspect=20, shrink=1)\n",
    "clb.ax.tick_params(labelsize=13)\n",
    "\n",
    "plt.subplot(1, 3, 2)\n",
    "plt.title('Dado observado', fontsize=20)\n",
    "plt.contourf(yp.reshape(shape), xp.reshape(shape), dobs, 40, cmap='jet').ax.tick_params(labelsize=12)\n",
    "plt.xlabel('$y$(m)', fontsize=18)\n",
    "plt.ylabel('$x$(m)', fontsize=18)\n",
    "clb = plt.colorbar(pad=0.01, aspect=20, shrink=1)\n",
    "clb.ax.tick_params(labelsize=13)\n",
    "\n",
    "plt.subplot(1, 3, 3)\n",
    "plt.title('SD - ajuste', fontsize=20)\n",
    "plt.contourf(yp.reshape(shape), xp.reshape(shape), res_plot, 40, cmap='jet').ax.tick_params(labelsize=12)\n",
    "plt.xlabel('$y$(m)', fontsize=18)\n",
    "plt.ylabel('$x$(m)', fontsize=18)\n",
    "clb = plt.colorbar(pad=0.01, aspect=20, shrink=1)\n",
    "clb.ax.tick_params(labelsize=13)\n",
    "plt.show()"
   ]
  },
  {
   "cell_type": "code",
   "execution_count": null,
   "metadata": {
    "collapsed": false
   },
   "outputs": [],
   "source": [
    "plt.plot(figsize=(30,25))\n",
    "plt.title('Histogram', fontsize = 20)\n",
    "plt.xlabel('$\\mu$ = %.7f  $\\sigma$ = %.7f' % (np.mean(res_norm), np.std(res_norm)), fontsize=20)\n",
    "nbins = int((np.max(res_norm) - np.min(res_norm)))\n",
    "plt.hist(res_norm,bins=nbins, normed=True)\n",
    "plt.ylim(0.,0.5)\n",
    "plt.xlim(-10., 10.)\n",
    "plt.show()"
   ]
  },
  {
   "cell_type": "code",
   "execution_count": null,
   "metadata": {
    "collapsed": true
   },
   "outputs": [],
   "source": []
  },
  {
   "cell_type": "code",
   "execution_count": null,
   "metadata": {
    "collapsed": true
   },
   "outputs": [],
   "source": []
  },
  {
   "cell_type": "code",
   "execution_count": null,
   "metadata": {
    "collapsed": true
   },
   "outputs": [],
   "source": []
  }
 ],
 "metadata": {
  "kernelspec": {
   "display_name": "Python 2",
   "language": "python",
   "name": "python2"
  },
  "language_info": {
   "codemirror_mode": {
    "name": "ipython",
    "version": 2
   },
   "file_extension": ".py",
   "mimetype": "text/x-python",
   "name": "python",
   "nbconvert_exporter": "python",
   "pygments_lexer": "ipython2",
   "version": "2.7.13"
  }
 },
 "nbformat": 4,
 "nbformat_minor": 2
}
