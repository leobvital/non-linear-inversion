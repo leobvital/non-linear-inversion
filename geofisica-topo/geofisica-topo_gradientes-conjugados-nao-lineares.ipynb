{
 "cells": [
  {
   "cell_type": "markdown",
   "metadata": {},
   "source": [
    "# Gradientes-conjugados não-lineares com critério de Armijo aplicado à função geofísica"
   ]
  },
  {
   "cell_type": "markdown",
   "metadata": {},
   "source": [
    "Algoritmo de Gradientes-conjugados não-lineares com método da secante aplicado a um problema geofísico para estimar o raio e o topo de um prisma de base poligonal próximo de um cilindro."
   ]
  },
  {
   "cell_type": "markdown",
   "metadata": {},
   "source": [
    "# Importando pacotes"
   ]
  },
  {
   "cell_type": "code",
   "execution_count": 1,
   "metadata": {
    "collapsed": false
   },
   "outputs": [
    {
     "name": "stderr",
     "output_type": "stream",
     "text": [
      "/home/vital/anaconda2/lib/python2.7/site-packages/fatiando/vis/mpl.py:76: UserWarning: This module will be removed in v0.6. We recommend the use of matplotlib.pyplot module directly. Some of the fatiando specific functions will remain.\n",
      "  \"specific functions will remain.\")\n",
      "/home/vital/anaconda2/lib/python2.7/site-packages/fatiando/vis/myv.py:51: UserWarning: This module will be removed in v0.7.\n",
      "  warnings.warn(\"This module will be removed in v0.7.\")\n"
     ]
    }
   ],
   "source": [
    "import numpy as np\n",
    "import matplotlib.pyplot as plt\n",
    "import cPickle as pickle\n",
    "from visual import histeq\n",
    "from fatiando import utils\n",
    "from fatiando.mesher import PolygonalPrism\n",
    "from IPython.display import Image as img\n",
    "from fatiando.gravmag import polyprism\n",
    "from copy import deepcopy\n",
    "from fatiando.vis import myv\n",
    "from fatiando.gridder import regular"
   ]
  },
  {
   "cell_type": "markdown",
   "metadata": {},
   "source": [
    "# Função geofísica"
   ]
  },
  {
   "cell_type": "code",
   "execution_count": 2,
   "metadata": {
    "collapsed": true
   },
   "outputs": [],
   "source": [
    "def geofisica(xp, yp, zp, p, M, dz, props, dobs, inc, dec):\n",
    "    '''\n",
    "    This function calculates the data for polygonal\n",
    "    prisms of the Fatiando a Terra with the two given parameters.\n",
    "\n",
    "    input\n",
    "\n",
    "    xp: array - x observation points\n",
    "    yp: array - y observation points\n",
    "    zp: array - z observation points\n",
    "    p: 1D array - parameter vector\n",
    "    M: int - number of vertices\n",
    "    L: int - number of prisms\n",
    "    z0: float - top of the model\n",
    "    dz: float - thickness of each prism\n",
    "    props: dictionary - physical property\n",
    "    dobs: 1D array - observed data\n",
    "    inc: float - inclination\n",
    "    dec: declination\n",
    "\n",
    "    output\n",
    "\n",
    "    prism: list - list of objects of the class fatiando.mesher.PolygonalPrism\n",
    "    d: 1D array - data vector\n",
    "    res: 1D array - residual data\n",
    "    phi: float - misfit function value\n",
    "    '''\n",
    "    \n",
    "    r = np.zeros(M) + p[0] # radial distance for each vertice\n",
    "\n",
    "    # Cartesian coordinates of the origin of each prism\n",
    "    x0 = 0. \n",
    "    y0 = 0.\n",
    "\n",
    "    l = [r, x0, y0, p[1], p[1] + dz, props]   # list of parameters of the prisms\n",
    "    \n",
    "    ang = 2*np.pi/M # angle between two vertices\n",
    "    \n",
    "    prism = []\n",
    "    verts=[]\n",
    "    for i in range(M):\n",
    "        verts.append([r[i]*np.cos(i*ang) + l[1], r[i]*np.sin(i*ang) + l[2]])\n",
    "    prism.append(PolygonalPrism(verts, l[3], l[4], l[5]))\n",
    "    \n",
    "    d = polyprism.tf(xp, yp, zp, prism, inc, dec)\n",
    "    res = dobs - d\n",
    "    phi = np.sum(res*res)\n",
    "    \n",
    "    return prism, d, res, phi"
   ]
  },
  {
   "cell_type": "markdown",
   "metadata": {},
   "source": [
    "# Modelagem direta"
   ]
  },
  {
   "cell_type": "code",
   "execution_count": 3,
   "metadata": {
    "collapsed": true
   },
   "outputs": [],
   "source": [
    "M = 10 # number of vertices per prism\n",
    "L = 1 # number of prisms\n",
    "P = L*(M+2) # number of parameters\n",
    "\n",
    "z0_true = 100.    # depth of the top the shallowest prism\n",
    "dz = 500.    # thickness of each prism\n",
    "\n",
    "inc = -60.  # inclination\n",
    "dec = 50.   # declination\n",
    "intensity = 0.035 # intensity\n",
    "\n",
    "props={'magnetization': utils.ang2vec(intensity, inc, dec)} # physical property: magnetization\n",
    "\n",
    "r_true = 500.\n",
    "\n",
    "r = np.zeros(M) + r_true # radial distance for each vertice"
   ]
  },
  {
   "cell_type": "code",
   "execution_count": 4,
   "metadata": {
    "collapsed": false
   },
   "outputs": [
    {
     "data": {
      "image/png": "[encoded data removed]",
      "text/plain": [
       "<IPython.core.display.Image object>"
      ]
     },
     "execution_count": 4,
     "metadata": {},
     "output_type": "execute_result"
    }
   ],
   "source": [
    "img(filename='bolacha.png')"
   ]
  },
  {
   "cell_type": "markdown",
   "metadata": {},
   "source": [
    "# Pontos de observação"
   ]
  },
  {
   "cell_type": "code",
   "execution_count": 5,
   "metadata": {
    "collapsed": true
   },
   "outputs": [],
   "source": [
    "area = [-2000, 2000, -2000, 2000] #x minimum, x maximum, y minimum and y maximum\n",
    "shape = (50,50) #number of data along the y and x directions\n",
    "N = shape[0]*shape[1] #total number of data\n",
    "\n",
    "#coordinates x and y of the data\n",
    "xp, yp = regular(area, shape)\n",
    "\n",
    "zp = np.zeros(N) - 100."
   ]
  },
  {
   "cell_type": "markdown",
   "metadata": {},
   "source": [
    "# Dados observados"
   ]
  },
  {
   "cell_type": "code",
   "execution_count": 6,
   "metadata": {
    "collapsed": true
   },
   "outputs": [],
   "source": [
    "p_true = np.array([r_true, z0_true])\n",
    "prism_true, data, res_, phi_true = geofisica(xp, yp, zp, p_true, M, dz, props, np.zeros(xp.size), inc, dec)\n",
    "amp_noise = 0.01*np.max(data)\n",
    "data_noise = data + np.random.normal(loc=0., scale=amp_noise, size=shape[0]*shape[1]) # noise corrupted data"
   ]
  },
  {
   "cell_type": "code",
   "execution_count": 7,
   "metadata": {
    "collapsed": true
   },
   "outputs": [],
   "source": [
    "# Plot função desajuste"
   ]
  },
  {
   "cell_type": "code",
   "execution_count": 8,
   "metadata": {
    "collapsed": false
   },
   "outputs": [],
   "source": [
    "shape2 = (15,15)\n",
    "r_plot = np.linspace(10., 1000., shape2[0])\n",
    "z0_plot = np.linspace(-100., 500., shape2[1])\n",
    "r_plot,z0_plot = np.meshgrid(r_plot, z0_plot)\n",
    "r_plot = r_plot.ravel()\n",
    "z0_plot = z0_plot.ravel()\n",
    "phi_plot = np.zeros_like(r_plot)\n",
    "\n",
    "for i, (r, z) in enumerate(zip(r_plot,z0_plot)):\n",
    "    p = np.array([r, z])\n",
    "    prism_pred, d_pred, res, phi_plot[i] = geofisica(xp, yp, zp, p, M, dz, props, data_noise, inc, dec)\n",
    "\n",
    "r_plot = r_plot.reshape(shape2)\n",
    "z0_plot = z0_plot.reshape(shape2)\n",
    "phi_plot = phi_plot.reshape(shape2)\n",
    "\n",
    "# equalizando as cores\n",
    "phi_eq = histeq(phi_plot)\n",
    "phi_eq = np.reshape(phi_eq,shape2)\n",
    "phi_eq = phi_eq"
   ]
  },
  {
   "cell_type": "code",
   "execution_count": 9,
   "metadata": {
    "collapsed": false
   },
   "outputs": [
    {
     "data": {
      "image/png": "[encoded data removed]",
      "text/plain": [
       "<matplotlib.figure.Figure at 0x7fd7ee431c90>"
      ]
     },
     "metadata": {},
     "output_type": "display_data"
    }
   ],
   "source": [
    "plt.figure(figsize=(5,5))\n",
    "plt.plot(r_true, z0_true, 'og')\n",
    "plt.title('Funcao objetivo', fontsize=18)\n",
    "plt.contourf(r_plot, z0_plot, phi_eq, 50, cmap='jet')\n",
    "plt.xlabel('$r$ (m)', fontsize=18)\n",
    "plt.ylabel('$z_0$ (m)', fontsize=18)\n",
    "plt.colorbar(pad=0.01, aspect=20, shrink=1)\n",
    "plt.show()"
   ]
  },
  {
   "cell_type": "markdown",
   "metadata": {},
   "source": [
    "# Funções"
   ]
  },
  {
   "cell_type": "code",
   "execution_count": 10,
   "metadata": {
    "collapsed": true
   },
   "outputs": [],
   "source": [
    "def derivative_tf_z0(xp, yp, zp, prism, M, deltaz, inc, dec):\n",
    "    '''\n",
    "    This function calculates the derivative for total field anomaly\n",
    "    from a model of polygonal prisms using finite difference.\n",
    "\n",
    "    input\n",
    "\n",
    "    xp: array - x observation points\n",
    "    yp: array - y observation points\n",
    "    zp: array - z observation points\n",
    "    prism: list - list of one fatiando.mesher.PolygonalPrism\n",
    "    M: int - number of vertices per prism\n",
    "    delta: float - increment in x coordinate in meters\n",
    "    inc: float - inclination\n",
    "    dec: declination\n",
    "\n",
    "    output\n",
    "\n",
    "    df1: 1D array - derivative plus\n",
    "    df2: 1D array - derivative minus\n",
    "    '''\n",
    "    assert xp.size == yp.size == zp.size, 'The number of points in x, y and z must be equal'\n",
    "\n",
    "    prism_plus = deepcopy([prism])  # m.x + delta\n",
    "    prism_minus = deepcopy([prism])  # m.x - deltaa\n",
    "    prism_plus[0].z1 += deltaz\n",
    "    prism_minus[0].z1 -= deltaz\n",
    "\n",
    "    df1 = polyprism.tf(xp, yp, zp, prism_plus, inc, dec)\n",
    "    df2 = polyprism.tf(xp, yp, zp, prism_minus, inc, dec)\n",
    "\n",
    "    return df1, df2\n",
    "\n",
    "def derivative_tf_radiall(xp, yp, zp, prism, M, deltar, inc, dec):\n",
    "    '''\n",
    "    This function calculates the derivative for total field anomaly\n",
    "    from a model of polygonal prisms using finite difference.\n",
    "\n",
    "    input\n",
    "\n",
    "    xp: array - x observation points\n",
    "    yp: array - y observation points\n",
    "    zp: array - z observation points\n",
    "    prism: list - list of a fatiando.mesher.PolygonalPrism\n",
    "    M: int - number of vertices per prism\n",
    "    deltar: float - increment in radial distance in meters\n",
    "    inc: float - inclination\n",
    "    dec: declination\n",
    "\n",
    "    output\n",
    "\n",
    "    df1: 1D array - derivative plus\n",
    "    df2: 1D array - derivative minus\n",
    "    '''\n",
    "    assert xp.size == yp.size == zp.size, 'The number of points in x, y and z must be equal'\n",
    "    \n",
    "    ang = 2.*np.pi/M # angle between two vertices\n",
    "    \n",
    "    prism_plus = deepcopy([prism])  # m.x + delta\n",
    "    prism_minus = deepcopy([prism])  # m.x - delta\n",
    "\n",
    "    for i in range(M):\n",
    "        deltax = deltar*np.cos(i*ang)\n",
    "        deltay = deltar*np.sin(i*ang)\n",
    "        prism_plus[0].x[i] += deltax\n",
    "        prism_plus[0].y[i] += deltay\n",
    "        prism_minus[0].x[i] -= deltax\n",
    "        prism_minus[0].y[i] -= deltay\n",
    "\n",
    "    df1 = polyprism.tf(xp, yp, zp, prism_plus, inc, dec)\n",
    "    df2 = polyprism.tf(xp, yp, zp, prism_minus, inc, dec)\n",
    "\n",
    "    return df1, df2\n",
    "\n",
    "def grad_geo(xp, yp, zp, prism, M, deltar, deltaz, inc, dec, dobs):\n",
    "    '''\n",
    "    Returns the gradient vector for polygonal prisms using finite\n",
    "    differences.\n",
    "\n",
    "    input\n",
    "\n",
    "    xp: array - x observation points\n",
    "    yp: array - y observation points\n",
    "    zp: array - z observation points\n",
    "    prism: list - list of fatiando.mesher.PolygonalPrism\n",
    "    M: int - number of vertices per prism\n",
    "    deltar: float - increment in meters for radial distance\n",
    "    deltaz: float - increment in meters for depth\n",
    "    inc: float - inclination of the local-geomagnetic field\n",
    "    dec: float - declination of the local-geomagnetic field\n",
    "    dobs: 1D array - data vector\n",
    "\n",
    "    output\n",
    "\n",
    "    grad: 1D array - gradient\n",
    "    '''\n",
    "    assert xp.size == yp.size == zp.size, 'The number of points in x, y and z must be equal'\n",
    "    \n",
    "    drp, drm = derivative_tf_radiall(xp, yp, zp, prism[0], M, deltar, inc, dec)\n",
    "    dzp, dzm = derivative_tf_z0(xp, yp, zp, prism[0], M, deltaz, inc, dec)\n",
    "    grad = np.zeros(2)\n",
    "    grad[0] = (np.sum((dobs - drp)*(dobs - drp)) - np.sum((dobs - drm)*(dobs - drm)))/(2.*deltar)\n",
    "    grad[1] = (np.sum((dobs - dzp)*(dobs - dzp)) - np.sum((dobs - dzm)*(dobs - dzm)))/(2.*deltaz)\n",
    "    \n",
    "    return grad"
   ]
  },
  {
   "cell_type": "markdown",
   "metadata": {},
   "source": [
    "# Modelo interpretativo"
   ]
  },
  {
   "cell_type": "code",
   "execution_count": 11,
   "metadata": {
    "collapsed": false
   },
   "outputs": [],
   "source": [
    "# chute inicial\n",
    "p01 = 700.\n",
    "p02 = 300.\n",
    "\n",
    "# incremento para as derivadas\n",
    "deltar = 0.01*p01\n",
    "deltaz = 0.01*p02\n",
    "\n",
    "r = np.zeros(M) + p01 # radial distance for each vertice\n",
    "\n",
    "# Cartesian coordinates of the origin of each prism\n",
    "x0 = 0. \n",
    "y0 = 0.\n",
    "\n",
    "# vetor do chute inicial\n",
    "p0 = np.array([p01,p02])\n",
    "H0 = np.identity(2)\n",
    "\n",
    "# parâmetros para a strong Wolfe condition\n",
    "c1 = 0.0001\n",
    "beta = 0.4\n",
    "c2 = 0.9\n",
    "\n",
    "#critétio de parada\n",
    "epsilon = 1e-10\n",
    "\n",
    "# parâmetros de regularização\n",
    "mi0 = 0.000001\n",
    "mi1 = 0.\n",
    "mit = 0.\n",
    "\n",
    "# calculando os prismas iniciais, o dado predito, o valor da função e do resíduo em p0\n",
    "prism0, d0, res0, phi0 = geofisica(xp, yp, zp, p0, M, dz, props, data_noise, inc, dec)\n",
    "\n",
    "# listas para armazenar as estimativas\n",
    "p1_list = [p01]\n",
    "p2_list = [p02]\n",
    "phi_list = [phi0]\n",
    "\n",
    "# iterações do algoritmo\n",
    "itmax = 100\n",
    "itmax_marq = 15\n",
    "\n",
    "# valores de máximo e mínimo para a desigualdade\n",
    "pmax = np.array([1000., 1000.])\n",
    "pmin = np.array([10., 10.])\n",
    "\n",
    "# calculando a Jacobiana e o gradiente\n",
    "#G0 = jacobi_geo(xp, yp, zp, prism0, M, deltar, deltaz, inc, dec)\n",
    "#grad0 = -2.*np.dot(G0.T, res0)\n",
    "#deltap0 = - grad0\n",
    "sigma = 2."
   ]
  },
  {
   "cell_type": "markdown",
   "metadata": {},
   "source": [
    "# Algoritmo Gradientes-conjugados não-lineares com método da secante"
   ]
  },
  {
   "cell_type": "code",
   "execution_count": 12,
   "metadata": {
    "collapsed": false
   },
   "outputs": [
    {
     "ename": "NameError",
     "evalue": "name 'alfa' is not defined",
     "output_type": "error",
     "traceback": [
      "\u001b[0;31m---------------------------------------------------------------------------\u001b[0m",
      "\u001b[0;31mNameError\u001b[0m                                 Traceback (most recent call last)",
      "\u001b[0;32m<ipython-input-12-41905c77e860>\u001b[0m in \u001b[0;36m<module>\u001b[0;34m()\u001b[0m\n\u001b[1;32m     14\u001b[0m     \u001b[0mgrad\u001b[0m \u001b[0;34m=\u001b[0m \u001b[0mgrad_geo\u001b[0m\u001b[0;34m(\u001b[0m\u001b[0mxp\u001b[0m\u001b[0;34m,\u001b[0m \u001b[0myp\u001b[0m\u001b[0;34m,\u001b[0m \u001b[0mzp\u001b[0m\u001b[0;34m,\u001b[0m \u001b[0mprism\u001b[0m\u001b[0;34m,\u001b[0m \u001b[0mM\u001b[0m\u001b[0;34m,\u001b[0m \u001b[0mdeltar\u001b[0m\u001b[0;34m,\u001b[0m \u001b[0mdeltaz\u001b[0m\u001b[0;34m,\u001b[0m \u001b[0minc\u001b[0m\u001b[0;34m,\u001b[0m \u001b[0mdec\u001b[0m\u001b[0;34m,\u001b[0m \u001b[0mdata_noise\u001b[0m\u001b[0;34m)\u001b[0m\u001b[0;34m\u001b[0m\u001b[0m\n\u001b[1;32m     15\u001b[0m \u001b[0;34m\u001b[0m\u001b[0m\n\u001b[0;32m---> 16\u001b[0;31m     \u001b[0;32mwhile\u001b[0m \u001b[0mphi\u001b[0m \u001b[0;34m-\u001b[0m \u001b[0mphi0\u001b[0m \u001b[0;34m>\u001b[0m \u001b[0mc1\u001b[0m\u001b[0;34m*\u001b[0m\u001b[0malfa\u001b[0m\u001b[0;34m*\u001b[0m\u001b[0mnp\u001b[0m\u001b[0;34m.\u001b[0m\u001b[0msum\u001b[0m\u001b[0;34m(\u001b[0m\u001b[0mgrad0\u001b[0m\u001b[0;34m*\u001b[0m\u001b[0mdeltap0\u001b[0m\u001b[0;34m)\u001b[0m \u001b[0;32mand\u001b[0m \u001b[0mabs\u001b[0m\u001b[0;34m(\u001b[0m\u001b[0mnp\u001b[0m\u001b[0;34m.\u001b[0m\u001b[0msum\u001b[0m\u001b[0;34m(\u001b[0m\u001b[0mgrad\u001b[0m\u001b[0;34m*\u001b[0m\u001b[0mdeltap0\u001b[0m\u001b[0;34m)\u001b[0m\u001b[0;34m)\u001b[0m \u001b[0;34m>\u001b[0m \u001b[0mabs\u001b[0m\u001b[0;34m(\u001b[0m\u001b[0mc2\u001b[0m\u001b[0;34m*\u001b[0m\u001b[0mnp\u001b[0m\u001b[0;34m.\u001b[0m\u001b[0msum\u001b[0m\u001b[0;34m(\u001b[0m\u001b[0mgrad0\u001b[0m\u001b[0;34m*\u001b[0m\u001b[0mdeltap0\u001b[0m\u001b[0;34m)\u001b[0m\u001b[0;34m)\u001b[0m\u001b[0;34m:\u001b[0m\u001b[0;34m\u001b[0m\u001b[0m\n\u001b[0m\u001b[1;32m     17\u001b[0m     \u001b[0;31m#while abs(np.sum(grad*grad)) != 1e-4 :\u001b[0m\u001b[0;34m\u001b[0m\u001b[0;34m\u001b[0m\u001b[0m\n\u001b[1;32m     18\u001b[0m         \u001b[0mm\u001b[0m \u001b[0;34m+=\u001b[0m \u001b[0;36m1.\u001b[0m\u001b[0;34m\u001b[0m\u001b[0m\n",
      "\u001b[0;31mNameError\u001b[0m: name 'alfa' is not defined"
     ]
    }
   ],
   "source": [
    "for i in range(itmax):\n",
    "    m = 0.\n",
    "    lamb = beta**m\n",
    "    \n",
    "    # calculando o gradiente\n",
    "    grad0 = grad_geo(xp, yp, zp, prism0, M, deltar, deltaz, inc, dec, data_noise)\n",
    "    \n",
    "    # calculando p e atualizando para a próxima iteração\n",
    "    deltap0 = - grad0\n",
    "    \n",
    "    # calculando p e atualizando para a próxima iteração\n",
    "    p = p0 + sigma*deltap0\n",
    "    prism, d, res, phi = geofisica(xp, yp, zp, p, M, dz, props, data_noise, inc, dec)\n",
    "    grad = grad_geo(xp, yp, zp, prism, M, deltar, deltaz, inc, dec, data_noise)\n",
    "    \n",
    "    while phi - phi0 > c1*alfa*np.sum(grad0*deltap0) and abs(np.sum(grad*deltap0)) > abs(c2*np.sum(grad0*deltap0)):\n",
    "    #while abs(np.sum(grad*grad)) != 1e-4 :\n",
    "        m += 1.\n",
    "        lamb = beta**m\n",
    "        # calculando alfa\n",
    "        alfa = - sigma*(np.sum(grad0*deltap0)/(np.sum(grad*deltap0) - np.sum(grad0*deltap0)))\n",
    "        \n",
    "        p = p0 + alfa*deltap0\n",
    "        print abs(np.sum(grad*grad))\n",
    "        print p \n",
    "        \n",
    "        prism, d, res, phi = geofisica(xp, yp, zp, p, M, dz, props, data_noise, inc, dec)\n",
    "        grad = grad_geo(xp, yp, zp, prism, M, deltar, deltaz, inc, dec, data_noise)\n",
    "        \n",
    "        beta_FR = np.sum(grad*grad)/np.sum(grad0*grad0)\n",
    "        #print beta_FR\n",
    "        deltap0 = - grad + beta_FR*deltap0\n",
    "        #print deltap0\n",
    "    \n",
    "    # printa os valores\n",
    "    print 'itreação: %3d   lambda: %.2e   r: %3.2f   z_0: %3.2f   misfit: %.2e' % (i, alfa, p[0], p[1], (phi - phi0)/phi0)\n",
    "    \n",
    "                       \n",
    "    # armazenando a última estimativa\n",
    "    phi_list.append(phi)\n",
    "    p1_list.append(p[0])\n",
    "    p2_list.append(p[1])\n",
    "    \n",
    "    if (abs(phi - phi0)/phi0 <= epsilon):\n",
    "        break\n",
    "    else:\n",
    "        # atualizando parâmetros\n",
    "        p0 = p.copy()\n",
    "        d0 = d.copy()\n",
    "        res0 = res.copy()\n",
    "        phi0 = phi\n",
    "        prism0 = prism\n",
    "        grad0 = grad\n",
    "        sigm = - alfa"
   ]
  },
  {
   "cell_type": "markdown",
   "metadata": {},
   "source": [
    "# Plots de resultados"
   ]
  },
  {
   "cell_type": "code",
   "execution_count": null,
   "metadata": {
    "collapsed": true
   },
   "outputs": [],
   "source": [
    "res_norm = (res - np.mean(res))/np.std(res)\n",
    "res_plot = res.reshape(shape)\n",
    "dpred = data.reshape(shape)\n",
    "dobs = data_noise.reshape(shape)"
   ]
  },
  {
   "cell_type": "code",
   "execution_count": null,
   "metadata": {
    "collapsed": false
   },
   "outputs": [],
   "source": [
    "#plot\n",
    "plt.figure(figsize=(5,5))\n",
    "plt.plot(r_true, z0_true, 'oy')\n",
    "plt.plot(p1_list, p2_list, '.w-', markersize=5)\n",
    "plt.title('SD com Armijo - geofisica', fontsize=18)\n",
    "plt.contourf(r_plot, z0_plot, phi_eq, 40, cmap='jet')\n",
    "plt.xlabel('$p_1$', fontsize=18)\n",
    "plt.ylabel('$p_2$', fontsize=18)\n",
    "plt.colorbar(pad=0.01, aspect=20, shrink=1)\n",
    "plt.show()"
   ]
  },
  {
   "cell_type": "code",
   "execution_count": null,
   "metadata": {
    "collapsed": false
   },
   "outputs": [],
   "source": [
    "# plot\n",
    "plt.figure(figsize=(20,5))\n",
    "plt.subplot(1, 3, 1)\n",
    "plt.title('Convergencia', fontsize = 18)\n",
    "plt.xlabel('Iteration number', fontsize = 18)\n",
    "plt.plot(phi_list, 'o')\n",
    "\n",
    "plt.subplot(1, 3, 2)\n",
    "plt.title('Estimativas de  $r$', fontsize = 18)\n",
    "plt.xlabel('Iteration number', fontsize = 18)\n",
    "plt.ylabel('r', fontsize = 18)\n",
    "plt.plot(p1_list, 'o')\n",
    "plt.plot(np.zeros(len(p1_list)) + r_true, '-')\n",
    "\n",
    "plt.subplot(1, 3, 3)\n",
    "plt.title('Estimativas de  $z_0$', fontsize = 18)\n",
    "plt.xlabel('Iteration number', fontsize = 18)\n",
    "plt.ylabel('z0', fontsize = 18)\n",
    "plt.plot(p2_list, 'o')\n",
    "plt.plot(np.zeros(len(p1_list)) + z0_true, '-')\n",
    "plt.show()"
   ]
  },
  {
   "cell_type": "code",
   "execution_count": null,
   "metadata": {
    "collapsed": false
   },
   "outputs": [],
   "source": [
    "# plot\n",
    "plt.figure(figsize=(20,5))\n",
    "plt.subplot(1, 3, 1)\n",
    "plt.title('Dado predito', fontsize=20)\n",
    "plt.contourf(yp.reshape(shape), xp.reshape(shape), dpred, 40, cmap='jet').ax.tick_params(labelsize=12)\n",
    "plt.xlabel('$y$(m)', fontsize=18)\n",
    "plt.ylabel('$x$(m)', fontsize=18)\n",
    "clb = plt.colorbar(pad=0.01, aspect=20, shrink=1)\n",
    "clb.ax.tick_params(labelsize=13)\n",
    "\n",
    "plt.subplot(1, 3, 2)\n",
    "plt.title('Dado observado', fontsize=20)\n",
    "plt.contourf(yp.reshape(shape), xp.reshape(shape), dobs, 40, cmap='jet').ax.tick_params(labelsize=12)\n",
    "plt.xlabel('$y$(m)', fontsize=18)\n",
    "plt.ylabel('$x$(m)', fontsize=18)\n",
    "clb = plt.colorbar(pad=0.01, aspect=20, shrink=1)\n",
    "clb.ax.tick_params(labelsize=13)\n",
    "\n",
    "plt.subplot(1, 3, 3)\n",
    "plt.title('SD - ajuste', fontsize=20)\n",
    "plt.contourf(yp.reshape(shape), xp.reshape(shape), res_plot, 40, cmap='jet').ax.tick_params(labelsize=12)\n",
    "plt.xlabel('$y$(m)', fontsize=18)\n",
    "plt.ylabel('$x$(m)', fontsize=18)\n",
    "clb = plt.colorbar(pad=0.01, aspect=20, shrink=1)\n",
    "clb.ax.tick_params(labelsize=13)\n",
    "plt.show()"
   ]
  },
  {
   "cell_type": "code",
   "execution_count": null,
   "metadata": {
    "collapsed": false
   },
   "outputs": [],
   "source": [
    "plt.plot(figsize=(20,5))\n",
    "plt.title('Histogram', fontsize = 20)\n",
    "plt.xlabel('$\\mu$ = %.7f  $\\sigma$ = %.7f' % (np.mean(res_norm), np.std(res_norm)), fontsize=20)\n",
    "nbins = int((np.max(res_norm) - np.min(res_norm)))\n",
    "plt.hist(res_norm,bins=nbins, normed=True)\n",
    "plt.ylim(0.,0.5)\n",
    "plt.xlim(-10., 10.)\n",
    "plt.show()"
   ]
  }
 ],
 "metadata": {
  "kernelspec": {
   "display_name": "Python 2",
   "language": "python",
   "name": "python2"
  },
  "language_info": {
   "codemirror_mode": {
    "name": "ipython",
    "version": 2
   },
   "file_extension": ".py",
   "mimetype": "text/x-python",
   "name": "python",
   "nbconvert_exporter": "python",
   "pygments_lexer": "ipython2",
   "version": "2.7.13"
  }
 },
 "nbformat": 4,
 "nbformat_minor": 2
}
