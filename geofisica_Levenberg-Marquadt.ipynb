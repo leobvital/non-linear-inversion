{
 "cells": [
  {
   "cell_type": "markdown",
   "metadata": {},
   "source": [
    "# Método de Newton aplicado à função geofísica (MUDAR PARA O MARQUADT)"
   ]
  },
  {
   "cell_type": "markdown",
   "metadata": {},
   "source": [
    "O método de Newton é um método de gradiente aceitável, o qual expande a função objetivo em série de Taylor até segunda ordem em torno de $\\mathbf{p}_i$:"
   ]
  },
  {
   "cell_type": "markdown",
   "metadata": {},
   "source": [
    "\\begin{equation}\n",
    "\\phi(\\mathbf{p}) = \\phi(\\mathbf{p}_i) + \\mathbf{J}_i^T(\\mathbf{p} - \\mathbf{p}_i) + \\frac{1}{2}(\\mathbf{p} - \\mathbf{p}_i)^T\\mathbf{H}_i(\\mathbf{p} - \\mathbf{p}_i)\n",
    "\\end{equation}"
   ]
  },
  {
   "cell_type": "markdown",
   "metadata": {},
   "source": [
    "nde $\\mathbf{J} = \\boldsymbol{\\nabla}_{\\mathbf{p}}\\phi |_{\\mathbf{p} =\\mathbf{p}_i}$ e $\\mathbf{H} = \\boldsymbol{\\nabla}_{\\mathbf{p}}\\boldsymbol{\\nabla}_{\\mathbf{p}}^T\\phi|_{\\mathbf{p} =\\mathbf{p}_i}$ ."
   ]
  },
  {
   "cell_type": "markdown",
   "metadata": {},
   "source": [
    "Todo método de gradiente aceitável é definido pela equação:"
   ]
  },
  {
   "cell_type": "markdown",
   "metadata": {},
   "source": [
    "\\begin{equation}\n",
    "\\mathbf{p}_{i+1} = \\mathbf{p}_i - \\rho_i \\mathbf{R}_i\\mathbf{J}_i\n",
    "\\end{equation}"
   ]
  },
  {
   "cell_type": "markdown",
   "metadata": {},
   "source": [
    "No método de Newton $\\rho_i = 1$ e $\\mathbf{R}_i = \\mathbf{H}^{-1}_i$. Seu algoritmo fica:"
   ]
  },
  {
   "cell_type": "markdown",
   "metadata": {},
   "source": [
    "1) estabelece um chute inicial $\\mathbf{p}_i$\n",
    "\n",
    "2) calcula $\\mathbf{J}_i$ e $\\mathbf{H}_i$\n",
    "\n",
    "3) calcula $\\mathbf{p}_{i+1} = \\mathbf{p}_i - \\mathbf{H}_i^{-1} \\mathbf{J}_i$\n",
    " \n",
    "4) testa a convergência, se for satisfeita o algoritmo para, caso contrário retorna para 1)"
   ]
  },
  {
   "cell_type": "markdown",
   "metadata": {},
   "source": [
    "# Importando pacotes"
   ]
  },
  {
   "cell_type": "code",
   "execution_count": 1,
   "metadata": {
    "collapsed": false
   },
   "outputs": [
    {
     "name": "stderr",
     "output_type": "stream",
     "text": [
      "/home/leonardo/anaconda2/lib/python2.7/site-packages/fatiando/vis/mpl.py:76: UserWarning: This module will be removed in v0.6. We recommend the use of matplotlib.pyplot module directly. Some of the fatiando specific functions will remain.\n",
      "  \"specific functions will remain.\")\n",
      "/home/leonardo/anaconda2/lib/python2.7/site-packages/fatiando/vis/myv.py:51: UserWarning: This module will be removed in v0.7.\n",
      "  warnings.warn(\"This module will be removed in v0.7.\")\n"
     ]
    }
   ],
   "source": [
    "import numpy as np\n",
    "import matplotlib.pyplot as plt\n",
    "import cPickle as pickle\n",
    "from visual import histeq\n",
    "from fatiando.mesher import PolygonalPrism\n",
    "from IPython.display import Image as img\n",
    "from fatiando.gravmag import polyprism\n",
    "from copy import deepcopy\n",
    "from fatiando.vis import mpl, myv\n",
    "\n",
    "import sys\n",
    "sys.path.insert(0, '../magnetic-radial-inversion/code')\n",
    "\n",
    "import mag_polyprism_functions as mfun"
   ]
  },
  {
   "cell_type": "markdown",
   "metadata": {},
   "source": [
    "# Modelagem direta"
   ]
  },
  {
   "cell_type": "code",
   "execution_count": 2,
   "metadata": {
    "collapsed": true
   },
   "outputs": [],
   "source": [
    "with open('data/cylinder_model.pickle') as w:\n",
    "        cylinder_model = pickle.load(w)\n",
    "with open('data/cylinder_data.pickle') as w:\n",
    "        cylinder_data = pickle.load(w)\n",
    "with open('data/regular_grid.pickle') as w:\n",
    "        regular_grid = pickle.load(w)"
   ]
  },
  {
   "cell_type": "raw",
   "metadata": {},
   "source": [
    "bounds = [-800., 800., -800., 800., -200.0, 800.]\n",
    "\n",
    "red, green, blue = (1, 0, 0), (0, 1, 0), (0, 0, 1)\n",
    "white, black = (1, 1, 1), (0, 0, 0),\n",
    "\n",
    "# Show the model\n",
    "scene = myv.figure()\n",
    "myv.polyprisms(cylinder_model['prisms'], 'magnetization', color=blue, opacity=1.)\n",
    "\n",
    "ax = myv.axes(myv.outline(bounds), ranges=[i * 0.001 for i in bounds])\n",
    "ax.axes.x_label, ax.axes.y_label, ax.axes.z_label = 'x (m)', 'y (m)', 'z (m)'\n",
    "ax.axes.font_factor = 1.5\n",
    "scene.scene.camera.position = [-0.089204656936016313, -0.066107174155361687, -0.04083578885723696]\n",
    "scene.scene.camera.focal_point = [1.1820671636724554e-16, 1.3134079596360617e-17, -1.9701119394540926e-17]\n",
    "scene.scene.camera.view_angle = 30.0\n",
    "scene.scene.camera.view_up = [0.24683390337942718, 0.24593292331329802, -0.93733132955911114]\n",
    "scene.scene.camera.clipping_range = [0.057117737884348194, 0.1956040854922288]\n",
    "scene.scene.camera.compute_view_plane_normal()\n",
    "\n",
    "myv.wall_bottom(ax.axes.bounds, opacity=0.2)\n",
    "myv.wall_north(ax.axes.bounds)\n",
    "myv.savefig('bolacha.png')\n",
    "myv.show()"
   ]
  },
  {
   "cell_type": "code",
   "execution_count": 3,
   "metadata": {
    "collapsed": false
   },
   "outputs": [
    {
     "data": {
      "image/png": "[encoded data removed]",
      "text/plain": [
       "<IPython.core.display.Image object>"
      ]
     },
     "execution_count": 3,
     "metadata": {},
     "output_type": "execute_result"
    }
   ],
   "source": [
    "img(filename='bolacha.png')"
   ]
  },
  {
   "cell_type": "markdown",
   "metadata": {},
   "source": [
    "## Plotando a função"
   ]
  },
  {
   "cell_type": "code",
   "execution_count": 4,
   "metadata": {
    "collapsed": false
   },
   "outputs": [
    {
     "data": {
      "image/png": "[encoded data removed]",
      "text/plain": [
       "<matplotlib.figure.Figure at 0x7f36a90bd990>"
      ]
     },
     "metadata": {},
     "output_type": "display_data"
    }
   ],
   "source": [
    "plt.figure(figsize=(5,5))\n",
    "plt.plot(500., 100., 'og')\n",
    "plt.title('Funcao objetivo', fontsize=18)\n",
    "plt.contourf(cylinder_data['p1'], cylinder_data['p2'], cylinder_data['phi_eq'], 50, cmap='jet')\n",
    "plt.xlabel('$r$ (m)', fontsize=18)\n",
    "plt.ylabel('$z_0$ (m)', fontsize=18)\n",
    "plt.colorbar(pad=0.01, aspect=20, shrink=1)\n",
    "plt.savefig('plot_geo_prob.png', pad_inches=0.0)\n",
    "plt.show()"
   ]
  },
  {
   "cell_type": "markdown",
   "metadata": {},
   "source": [
    "# Funções"
   ]
  },
  {
   "cell_type": "code",
   "execution_count": 5,
   "metadata": {
    "collapsed": false
   },
   "outputs": [],
   "source": [
    "def derivative_tf_z0(xp, yp, zp, prism, M, deltaz, inc, dec):\n",
    "    '''\n",
    "    This function calculates the derivative for total field anomaly\n",
    "    from a model of polygonal prisms using finite difference.\n",
    "\n",
    "    input\n",
    "\n",
    "    xp: array - x observation points\n",
    "    yp: array - y observation points\n",
    "    zp: array - z observation points\n",
    "    prism: list - list of one fatiando.mesher.PolygonalPrism\n",
    "    M: int - number of vertices per prism\n",
    "    delta: float - increment in x coordinate in meters\n",
    "    inc: float - inclination\n",
    "    dec: declination\n",
    "\n",
    "    output\n",
    "\n",
    "    df: 1D array - derivative\n",
    "    '''\n",
    "    assert xp.size == yp.size == zp.size, 'The number of points in x, y and z must be equal'\n",
    "\n",
    "    prism_plus = deepcopy([prism])  # m.x + delta\n",
    "    prism_minus = deepcopy([prism])  # m.x - deltaa\n",
    "    prism_plus[0].z1 += deltaz\n",
    "    prism_minus[0].z1 -= deltaz\n",
    "\n",
    "    df = polyprism.tf(xp, yp, zp, prism_plus, inc, dec)\n",
    "    df -= polyprism.tf(xp, yp, zp, prism_minus, inc, dec)\n",
    "    df /= (2.*deltaz)\n",
    "\n",
    "    return df\n",
    "\n",
    "def derivative_tf_radiall(xp, yp, zp, prism, M, deltar, inc, dec):\n",
    "    '''\n",
    "    This function calculates the derivative for total field anomaly\n",
    "    from a model of polygonal prisms using finite difference.\n",
    "\n",
    "    input\n",
    "\n",
    "    xp: array - x observation points\n",
    "    yp: array - y observation points\n",
    "    zp: array - z observation points\n",
    "    prism: list - list of a fatiando.mesher.PolygonalPrism\n",
    "    M: int - number of vertices per prism\n",
    "    deltar: float - increment in radial distance in meters\n",
    "    inc: float - inclination\n",
    "    dec: declination\n",
    "\n",
    "    output\n",
    "\n",
    "    df: 1D array - derivative\n",
    "    '''\n",
    "    assert xp.size == yp.size == zp.size, 'The number of points in x, y and z must be equal'\n",
    "    \n",
    "    ang = 2.*np.pi/M # angle between two vertices\n",
    "    \n",
    "    prism_plus = deepcopy([prism])  # m.x + delta\n",
    "    prism_minus = deepcopy([prism])  # m.x - delta\n",
    "\n",
    "    for i in range(M):\n",
    "        deltax = deltar*np.cos(i*ang)\n",
    "        deltay = deltar*np.sin(i*ang)\n",
    "        prism_plus[0].x[i] += deltax\n",
    "        prism_plus[0].y[i] += deltay\n",
    "        prism_minus[0].x[i] -= deltax\n",
    "        prism_minus[0].y[i] -= deltay\n",
    "\n",
    "    df = polyprism.tf(xp, yp, zp, prism_plus, inc, dec)\n",
    "    df -= polyprism.tf(xp, yp, zp, prism_minus, inc, dec)\n",
    "    df /= (2.*deltar)\n",
    "\n",
    "    return df\n",
    "\n",
    "# calculando jacobiana de phi\n",
    "def jacobi_geo(xp, yp, zp, prism, M, deltar, deltaz, inc, dec):\n",
    "    '''\n",
    "    Returns the sensitivity matrix for polygonal prisms using finite\n",
    "    differences.\n",
    "\n",
    "    input\n",
    "\n",
    "    xp: array - x observation points\n",
    "    yp: array - y observation points\n",
    "    zp: array - z observation points\n",
    "    prism: list - list of fatiando.mesher.PolygonalPrism\n",
    "    M: int - number of vertices per prism\n",
    "    deltar: float - increment in meters for radial distance\n",
    "    deltaz: float - increment in meters for depth\n",
    "    inc: float - inclination of the local-geomagnetic field\n",
    "    dec: declination of the local-geomagnetic field\n",
    "\n",
    "    output\n",
    "\n",
    "    G: 2D array - sensitivity matrix\n",
    "    '''\n",
    "    assert xp.size == yp.size == zp.size, 'The number of points in x, y and z must be equal'\n",
    "\n",
    "    G = np.zeros((xp.size, 2))\n",
    "\n",
    "    G[:, 0] = derivative_tf_radiall(xp, yp, zp, prism[0], M, deltar, inc, dec)\n",
    "    G[:, 1] = derivative_tf_z0(xp, yp, zp, prism[0], M, deltaz, inc, dec)\n",
    "\n",
    "    return G"
   ]
  },
  {
   "cell_type": "markdown",
   "metadata": {},
   "source": [
    "# Funções de regularização"
   ]
  },
  {
   "cell_type": "code",
   "execution_count": 6,
   "metadata": {
    "collapsed": true
   },
   "outputs": [],
   "source": [
    "def regularization(p0, mi0, mi1, mit):\n",
    "    '''\n",
    "    Returns the value, gradient and Hessian of the constraint function.\n",
    "    \n",
    "    input\n",
    "    \n",
    "    p0: 1D array - parameters vector\n",
    "    mi0: float - zero order Tikhonov's regularization parameter\n",
    "    mi1: float - one order smoothness regularization parameter\n",
    "    mit: float - total variation regularization parameter\n",
    "    \n",
    "    output\n",
    "    \n",
    "    phi: float - value of constraint function\n",
    "    grad: 1D array - gradient of constraint funtion\n",
    "    H: 2D array - Hessian of constraint function\n",
    "    '''\n",
    "    H = mi0*np.identity(p0.size)\n",
    "    grad = mi0*p0\n",
    "    phi = np.dot(p0, grad)\n",
    "    \n",
    "    RTR = np.array([[1.,-1.], [-1.,1.]])\n",
    "    H += mi1*RTR\n",
    "    grad += mi1*np.dot(RTR, p0)\n",
    "    phi += np.dot(p0, grad)\n",
    "    \n",
    "    return phi, grad, H"
   ]
  },
  {
   "cell_type": "markdown",
   "metadata": {},
   "source": [
    "# Modelo interpretativo"
   ]
  },
  {
   "cell_type": "code",
   "execution_count": 7,
   "metadata": {
    "collapsed": false
   },
   "outputs": [],
   "source": [
    "# chute inicial\n",
    "p01 = 600.\n",
    "p02 = 200.\n",
    "\n",
    "# incremento para as derivadas\n",
    "deltar = 0.01*p01\n",
    "deltaz = 0.01*p02\n",
    "\n",
    "r = np.zeros(cylinder_model['M']) + p01 # radial distance for each vertice\n",
    "\n",
    "# Cartesian coordinates of the origin of each prism\n",
    "x0 = 0. \n",
    "y0 = 0.\n",
    "\n",
    "l = [[r, x0, y0, p02, cylinder_model['dz'], cylinder_model['props']]]"
   ]
  },
  {
   "cell_type": "code",
   "execution_count": 8,
   "metadata": {
    "collapsed": false
   },
   "outputs": [],
   "source": [
    "prism0 = mfun.pol2cart(l, cylinder_model['M'], cylinder_model['L'])\n",
    "\n",
    "d0 = polyprism.tf(regular_grid['xp'], regular_grid['yp'], regular_grid['zp'],\n",
    "                    prism0, cylinder_model['inc'], cylinder_model['dec'])\n",
    "\n",
    "# vetor do chute inicial\n",
    "p0 = np.array([p01,p02]) \n",
    "\n",
    "# parâmetros para o critério de Armijo\n",
    "alfa = .01\n",
    "lamb = 100.\n",
    "epsilon = 0.0000001\n",
    "mi0 = 0.00000001\n",
    "mi1 = 0.0000001\n",
    "mit = 0.\n",
    "\n",
    "phi_reg, grad_reg, H_reg = regularization(p0, mi0, mi1,  mit)\n",
    "\n",
    "# calculando o valor da função e do resíduo em p0\n",
    "res0 = cylinder_data['data_noise'] - d0\n",
    "phi0 = np.sum(res0*res0) + phi_reg\n",
    "\n",
    "p1_list = [p01]\n",
    "p2_list = [p02]\n",
    "phi_list = [phi0]\n",
    "\n",
    "itmax = 100\n",
    "itmax_marq = 20\n",
    "lamb = 0.1\n",
    "dlamb = 10.\n",
    "\n",
    "pmax = np.array([800., 300.])\n",
    "pmin = np.array([100., 0.])"
   ]
  },
  {
   "cell_type": "code",
   "execution_count": 9,
   "metadata": {
    "collapsed": false
   },
   "outputs": [],
   "source": [
    "phi_reg = np.zeros_like(cylinder_data['p1'].ravel())\n",
    "p_reg = np.zeros(2)\n",
    "for i, (r, z) in enumerate(zip(cylinder_data['p1'].ravel(),cylinder_data['p2'].ravel())):\n",
    "    p_reg[0] = r\n",
    "    p_reg[1] = z\n",
    "    phi_reg[i], grad_reg, H_reg = regularization(p_reg, mi0, mi1,  mit)"
   ]
  },
  {
   "cell_type": "code",
   "execution_count": 10,
   "metadata": {
    "collapsed": true
   },
   "outputs": [],
   "source": [
    "phi_reg_plot = histeq(phi_reg)\n",
    "phi_reg_plot = phi_reg.reshape(20,20)"
   ]
  },
  {
   "cell_type": "markdown",
   "metadata": {},
   "source": [
    "# Função do vínculo de desigualdade"
   ]
  },
  {
   "cell_type": "code",
   "execution_count": 17,
   "metadata": {
    "collapsed": true
   },
   "outputs": [],
   "source": [
    "def desigualdade(p0, pmax, pmin, H):\n",
    "    '''\n",
    "    Returns the trasnformed parameters and the .\n",
    "    \n",
    "    input\n",
    "    \n",
    "    p0: 1D array - parameters vector\n",
    "    pmax: 1D array - maximun parameters values\n",
    "    pmin: 1D array - minimun parameters values\n",
    "    H: 2D array - Hessian matrix\n",
    "    \n",
    "    output\n",
    "    \n",
    "    p0t: 1D array - transformed parameters\n",
    "    HT: 2D array - transformed Hessian\n",
    "    '''\n",
    "    i_max = np.argwhere(p0 > pmax)\n",
    "    i_min = np.argwhere(p0 < pmin)\n",
    "    p0[i_max] = pmax[i_max] - 1e-8\n",
    "    p0[i_min] = pmin[i_min] + 1e-8\n",
    "    \n",
    "    pt0 = - np.log((pmax - p0)/(p0 - pmin))\n",
    "    \n",
    "    T = ((pmax - p0)*(p0 - pmin))/(pmax - pmin)*np.identity(p0.size)\n",
    "    \n",
    "    HT = np.dot(H,T)\n",
    "    \n",
    "    return pt0, HT"
   ]
  },
  {
   "cell_type": "code",
   "execution_count": 18,
   "metadata": {
    "collapsed": true
   },
   "outputs": [],
   "source": [
    "def desigualdade_inv(pt, pmax, pmin):\n",
    "    '''\n",
    "    Returns the parameters vector.\n",
    "    \n",
    "    input\n",
    "    \n",
    "    p0: 1D array - parameters vector\n",
    "    pmax: 1D array - maximun parameters values\n",
    "    pmin: 1D array - minimun parameters values\n",
    "    \n",
    "    output\n",
    "    \n",
    "    p: 1D array - transformed parameters\n",
    "    '''\n",
    "  \n",
    "    p = pmin + (pmax - pmin)/(1. + np.exp(-pt))\n",
    "    \n",
    "    i_max = np.argwhere(p0 > pmax)\n",
    "    i_min = np.argwhere(p0 < pmin)\n",
    "    p[i_max] = pmax[i_max] - 1e-8\n",
    "    p[i_min] = pmin[i_min] + 1e-888\n",
    "            \n",
    "    return p"
   ]
  },
  {
   "cell_type": "markdown",
   "metadata": {},
   "source": [
    "# Algoritmo Levenberg-Marquadt"
   ]
  },
  {
   "cell_type": "code",
   "execution_count": 19,
   "metadata": {
    "collapsed": false
   },
   "outputs": [
    {
     "name": "stdout",
     "output_type": "stream",
     "text": [
      "itreação:   0   lambda: 1e-02   r: 447.57   z: 67.06   misfit: 2.00e+02\n",
      "itreação:   1   lambda: 1e-03   r: 510.49   z: 93.03   misfit: 3.89e+01\n",
      "itreação:   2   lambda: 1e-04   r: 515.79   z: 85.82   misfit: 2.94e+01\n",
      "itreação:   3   lambda: 1e-05   r: 515.69   z: 85.91   misfit: 2.94e+01\n",
      "itreação:   4   lambda: 1e-06   r: 515.69   z: 85.91   misfit: 2.94e+01\n"
     ]
    }
   ],
   "source": [
    "for it in range(itmax):\n",
    "    # calculando os elementos da regularização\n",
    "    phi_reg, grad_reg, H_reg = regularization(p0, mi0, mi1, mit)\n",
    "    # calculando a Jacobiana e o gradiente\n",
    "    G = jacobi_geo(regular_grid['xp'], regular_grid['yp'], regular_grid['zp'], prism0, cylinder_model['M'],\n",
    "                   deltar, deltaz, cylinder_model['inc'], cylinder_model['dec'])\n",
    "    H = 2.*np.dot(G.T, G) + H_reg\n",
    "    grad = -2.*np.dot(G.T, res0) + grad_reg\n",
    "    \n",
    "    pt0, HT = desigualdade(p0, pmax, pmin, H)\n",
    "        \n",
    "    for it_marq in range(itmax_marq):\n",
    "        #print grad\n",
    "        # calculando p e atualizando para a próxima iteração\n",
    "        pt = pt0 + np.linalg.solve(HT + lamb*np.identity(p0.size), -grad)\n",
    "        #print p, p0\n",
    "        p = desigualdade_inv(pt, pmax, pmin)\n",
    "        l = [[np.zeros(cylinder_model['M']) + p[0], x0, y0, p[1], cylinder_model['dz'], cylinder_model['props']]]\n",
    "        prism = mfun.pol2cart(l, cylinder_model['M'], cylinder_model['L'])\n",
    "        d = polyprism.tf(regular_grid['xp'], regular_grid['yp'], regular_grid['zp'],\n",
    "                        prism, cylinder_model['inc'], cylinder_model['dec'])\n",
    "        res = cylinder_data['data_noise'] - d\n",
    "        phi = np.sum(res*res) + phi_reg\n",
    "\n",
    "        if (phi-phi0 > 0.):\n",
    "            lamb *= dlamb\n",
    "        else:\n",
    "            lamb /= dlamb\n",
    "            break\n",
    "    \n",
    "    if (abs(phi-phi0)/phi0 <= epsilon):\n",
    "        break\n",
    "    else:\n",
    "        # armazenando os resultados em listas para o plot\n",
    "        phi_list.append(phi)\n",
    "        p1_list.append(p[0])\n",
    "        p2_list.append(p[1])\n",
    "        \n",
    "        # atualizando parâmetros\n",
    "        p0 = p.copy()\n",
    "        d0 = d.copy()\n",
    "        res0 = res.copy()\n",
    "        phi0 = phi\n",
    "        prism0 = prism\n",
    "        \n",
    "        # printa os valores\n",
    "        print 'itreação: %3d   lambda: %.e   r: %.2f   z: %.2f   misfit: %.2e' % (it, lamb, p0[0], p0[1], phi0)"
   ]
  },
  {
   "cell_type": "code",
   "execution_count": 20,
   "metadata": {
    "collapsed": false
   },
   "outputs": [
    {
     "data": {
      "image/png": "[encoded data removed]",
      "text/plain": [
       "<matplotlib.figure.Figure at 0x7f36a5d26450>"
      ]
     },
     "metadata": {},
     "output_type": "display_data"
    }
   ],
   "source": [
    "#plot\n",
    "plt.figure(figsize=(5,5))\n",
    "plt.plot(500., 100., 'oy')\n",
    "plt.plot(p1_list, p2_list, '.w-', markersize=5)\n",
    "plt.title('GN - geofisica', fontsize=18)\n",
    "plt.contourf(cylinder_data['p1'], cylinder_data['p2'], cylinder_data['phi_eq'], 40, cmap='jet')\n",
    "plt.xlabel('$p_1$', fontsize=18)\n",
    "plt.ylabel('$p_2$', fontsize=18)\n",
    "plt.colorbar(pad=0.01, aspect=20, shrink=1)\n",
    "plt.savefig('plot_LM_geofisica.png', pad_inches=0.0)\n",
    "plt.show()"
   ]
  },
  {
   "cell_type": "code",
   "execution_count": 21,
   "metadata": {
    "collapsed": false,
    "scrolled": true
   },
   "outputs": [
    {
     "ename": "NameError",
     "evalue": "name 'r_true' is not defined",
     "output_type": "error",
     "traceback": [
      "\u001b[0;31m---------------------------------------------------------------------------\u001b[0m",
      "\u001b[0;31mNameError\u001b[0m                                 Traceback (most recent call last)",
      "\u001b[0;32m<ipython-input-21-0b3044267652>\u001b[0m in \u001b[0;36m<module>\u001b[0;34m()\u001b[0m\n\u001b[1;32m     11\u001b[0m \u001b[0mplt\u001b[0m\u001b[0;34m.\u001b[0m\u001b[0mylabel\u001b[0m\u001b[0;34m(\u001b[0m\u001b[0;34m'r'\u001b[0m\u001b[0;34m)\u001b[0m\u001b[0;34m\u001b[0m\u001b[0m\n\u001b[1;32m     12\u001b[0m \u001b[0mplt\u001b[0m\u001b[0;34m.\u001b[0m\u001b[0mplot\u001b[0m\u001b[0;34m(\u001b[0m\u001b[0mp1_list\u001b[0m\u001b[0;34m,\u001b[0m \u001b[0;34m'o'\u001b[0m\u001b[0;34m)\u001b[0m\u001b[0;34m\u001b[0m\u001b[0m\n\u001b[0;32m---> 13\u001b[0;31m \u001b[0mplt\u001b[0m\u001b[0;34m.\u001b[0m\u001b[0mplot\u001b[0m\u001b[0;34m(\u001b[0m\u001b[0mnp\u001b[0m\u001b[0;34m.\u001b[0m\u001b[0mzeros\u001b[0m\u001b[0;34m(\u001b[0m\u001b[0mlen\u001b[0m\u001b[0;34m(\u001b[0m\u001b[0mp1_list\u001b[0m\u001b[0;34m)\u001b[0m\u001b[0;34m)\u001b[0m \u001b[0;34m+\u001b[0m \u001b[0mr_true\u001b[0m\u001b[0;34m,\u001b[0m \u001b[0;34m'-'\u001b[0m\u001b[0;34m)\u001b[0m\u001b[0;34m\u001b[0m\u001b[0m\n\u001b[0m\u001b[1;32m     14\u001b[0m \u001b[0;34m\u001b[0m\u001b[0m\n\u001b[1;32m     15\u001b[0m \u001b[0mplt\u001b[0m\u001b[0;34m.\u001b[0m\u001b[0msubplot\u001b[0m\u001b[0;34m(\u001b[0m\u001b[0;36m1\u001b[0m\u001b[0;34m,\u001b[0m \u001b[0;36m3\u001b[0m\u001b[0;34m,\u001b[0m \u001b[0;36m3\u001b[0m\u001b[0;34m)\u001b[0m\u001b[0;34m\u001b[0m\u001b[0m\n",
      "\u001b[0;31mNameError\u001b[0m: name 'r_true' is not defined"
     ]
    }
   ],
   "source": [
    "# plot\n",
    "plt.figure(figsize=(30,10))\n",
    "plt.subplot(1, 3, 1)\n",
    "plt.title('Convergencia', fontsize = 18)\n",
    "plt.xlabel('Iteration number')\n",
    "plt.plot(phi_list, 'o')\n",
    "\n",
    "plt.subplot(1, 3, 2)\n",
    "plt.title('Estimativas de  r', fontsize = 18)\n",
    "plt.xlabel('Iteration number')\n",
    "plt.ylabel('r')\n",
    "plt.plot(p1_list, 'o')\n",
    "plt.plot(np.zeros(len(p1_list)) + r_true, '-')\n",
    "\n",
    "plt.subplot(1, 3, 3)\n",
    "plt.title('Estimativas de  z0', fontsize = 18)\n",
    "plt.xlabel('Iteration number')\n",
    "plt.ylabel('z0')\n",
    "plt.plot(p2_list, 'o')\n",
    "plt.plot(np.zeros(len(p1_list)) + z0_true, '-')\n",
    "plt.show()"
   ]
  },
  {
   "cell_type": "code",
   "execution_count": null,
   "metadata": {
    "collapsed": true
   },
   "outputs": [],
   "source": [
    "res_norm = (res - np.mean(res))/np.std(res)\n",
    "res = res.reshape(regular_grid['shape'])\n",
    "xp = regular_grid['xp'].reshape(regular_grid['shape'])\n",
    "yp = regular_grid['yp'].reshape(regular_grid['shape'])\n",
    "dpred = cylinder_data['data'].reshape(regular_grid['shape'])\n",
    "dobs = cylinder_data['data_noise'].reshape(regular_grid['shape'])"
   ]
  },
  {
   "cell_type": "code",
   "execution_count": null,
   "metadata": {
    "collapsed": false
   },
   "outputs": [],
   "source": [
    "# plot\n",
    "plt.figure(figsize=(30,10))\n",
    "plt.subplot(1, 3, 1)\n",
    "plt.title('Dado predito', fontsize=20)\n",
    "plt.contourf(yp, xp, dpred, 40, cmap='jet').ax.tick_params(labelsize=18)\n",
    "plt.xlabel('$y$(m)', fontsize=24)\n",
    "plt.ylabel('$x$(m)', fontsize=24)\n",
    "clb = plt.colorbar(pad=0.01, aspect=20, shrink=1)\n",
    "clb.ax.tick_params(labelsize=18)\n",
    "\n",
    "plt.subplot(1, 3, 2)\n",
    "plt.title('Dado observado', fontsize=20)\n",
    "plt.contourf(yp, xp, dobs, 40, cmap='jet').ax.tick_params(labelsize=18)\n",
    "plt.xlabel('$y$(m)', fontsize=24)\n",
    "plt.ylabel('$x$(m)', fontsize=24)\n",
    "clb = plt.colorbar(pad=0.01, aspect=20, shrink=1)\n",
    "clb.ax.tick_params(labelsize=18)\n",
    "\n",
    "plt.subplot(1, 3, 3)\n",
    "plt.title('SD - ajuste', fontsize=20)\n",
    "plt.contourf(yp, xp, res, 40, cmap='jet').ax.tick_params(labelsize=18)\n",
    "plt.xlabel('$y$(m)', fontsize=24)\n",
    "plt.ylabel('$x$(m)', fontsize=24)\n",
    "clb = plt.colorbar(pad=0.01, aspect=20, shrink=1)\n",
    "clb.ax.tick_params(labelsize=18)\n",
    "plt.show()"
   ]
  },
  {
   "cell_type": "code",
   "execution_count": null,
   "metadata": {
    "collapsed": false
   },
   "outputs": [],
   "source": [
    "plt.plot(figsize=(30,25))\n",
    "plt.title('Histogram', fontsize = 20)\n",
    "plt.xlabel('$\\mu$ = %.7f  $\\sigma$ = %.7f' % (np.mean(res_norm), np.std(res_norm)), fontsize=20)\n",
    "nbins = int((np.max(res_norm) - np.min(res_norm)))\n",
    "plt.hist(res_norm,bins=nbins, normed=True)\n",
    "plt.ylim(0.,0.5)\n",
    "plt.xlim(-10., 10.)\n",
    "plt.savefig('fit_hist_kimb.png', dpi=300)\n",
    "plt.show()"
   ]
  },
  {
   "cell_type": "code",
   "execution_count": null,
   "metadata": {
    "collapsed": false
   },
   "outputs": [],
   "source": [
    "# plot\n",
    "plt.figure(figsize=(30,10))\n",
    "plt.subplot(1, 3, 1)\n",
    "plt.title('Misfit', fontsize=30)\n",
    "plt.plot(500., 100., 'oy')\n",
    "plt.contourf(cylinder_data['p1'], cylinder_data['p2'], cylinder_data['phi_eq'], 40, cmap='jet').ax.tick_params(labelsize=20)\n",
    "plt.xlabel('$r$(m)', fontsize=28)\n",
    "plt.ylabel('$dz$(m)', fontsize=28)\n",
    "plt.colorbar(pad=0.01, aspect=20, shrink=1).ax.tick_params(labelsize=20)\n",
    "\n",
    "plt.subplot(1, 3, 2)\n",
    "plt.title('Regularizacao', fontsize=30)\n",
    "plt.plot(500., 100., 'oy')\n",
    "plt.contourf(cylinder_data['p1'], cylinder_data['p2'], phi_reg_plot, 40, cmap='jet').ax.tick_params(labelsize=18)\n",
    "plt.xlabel('$r$(m)', fontsize=28)\n",
    "#plt.ylabel('$x$(m)', fontsize=28)\n",
    "plt.colorbar(pad=0.01, aspect=20, shrink=1).ax.tick_params(labelsize=18)\n",
    "\n",
    "plt.subplot(1, 3, 3)\n",
    "plt.title('Funcao objetivo', fontsize=30)\n",
    "plt.plot(500., 100., 'oy')\n",
    "plt.contourf(cylinder_data['p1'], cylinder_data['p2'], cylinder_data['phi_eq']+phi_reg_plot, 40, cmap='jet').ax.tick_params(labelsize=18)\n",
    "plt.xlabel('$r$(m)', fontsize=28)\n",
    "#plt.ylabel('$x$(m)', fontsize=28)\n",
    "clb = plt.colorbar(pad=0.01, aspect=20, shrink=1)\n",
    "clb.ax.tick_params(labelsize=18)\n",
    "plt.show()"
   ]
  },
  {
   "cell_type": "code",
   "execution_count": null,
   "metadata": {
    "collapsed": false
   },
   "outputs": [],
   "source": [
    "a = np.linspace(1, 10, 9)\n",
    "print a\n",
    "indices = np.argwhere(a.all() >= 4 or a.all() <=7)\n",
    "print a[indices]"
   ]
  },
  {
   "cell_type": "code",
   "execution_count": null,
   "metadata": {
    "collapsed": false
   },
   "outputs": [],
   "source": [
    "np.exp(1069.)"
   ]
  },
  {
   "cell_type": "code",
   "execution_count": null,
   "metadata": {
    "collapsed": true
   },
   "outputs": [],
   "source": []
  }
 ],
 "metadata": {
  "kernelspec": {
   "display_name": "Python 2",
   "language": "python",
   "name": "python2"
  },
  "language_info": {
   "codemirror_mode": {
    "name": "ipython",
    "version": 2
   },
   "file_extension": ".py",
   "mimetype": "text/x-python",
   "name": "python",
   "nbconvert_exporter": "python",
   "pygments_lexer": "ipython2",
   "version": "2.7.13"
  }
 },
 "nbformat": 4,
 "nbformat_minor": 2
}
